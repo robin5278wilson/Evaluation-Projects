{
 "cells": [
  {
   "cell_type": "code",
   "execution_count": 379,
   "id": "6a078663",
   "metadata": {},
   "outputs": [],
   "source": [
    "import pandas as pd\n",
    "import numpy as np\n",
    "import seaborn as sns\n",
    "import matplotlib.pyplot as plt\n",
    "from sklearn.preprocessing import StandardScaler, OneHotEncoder, OrdinalEncoder,LabelEncoder\n",
    "from sklearn.preprocessing import MultiLabelBinarizer\n",
    "from sklearn.model_selection import train_test_split,GridSearchCV\n",
    "from sklearn.compose import ColumnTransformer\n",
    "from sklearn.pipeline import Pipeline\n",
    "from imblearn.pipeline import Pipeline as imPipeline\n",
    "from sklearn.tree import DecisionTreeClassifier\n",
    "from sklearn.ensemble import RandomForestClassifier, AdaBoostClassifier,GradientBoostingClassifier\n",
    "import xgboost as xgb\n",
    "from sklearn.linear_model import LogisticRegression\n",
    "from sklearn.svm import SVC\n",
    "from sklearn.metrics import accuracy_score,classification_report,confusion_matrix\n",
    "from sklearn.ensemble import RandomForestRegressor,GradientBoostingRegressor\n",
    "from sklearn.linear_model import LinearRegression,Ridge\n",
    "from sklearn.svm import SVR\n",
    "from imblearn.pipeline import Pipeline as imPipeline\n",
    "from sklearn.metrics import mean_squared_error, r2_score\n",
    "from imblearn.over_sampling import SMOTE\n",
    "import warnings\n",
    "warnings.filterwarnings('ignore')"
   ]
  },
  {
   "cell_type": "code",
   "execution_count": 4,
   "id": "ef6f41da",
   "metadata": {},
   "outputs": [],
   "source": [
    "df = pd.read_csv('/Users/divyasandiman/Downloads/zomato.csv', encoding='ISO-8859-1')"
   ]
  },
  {
   "cell_type": "code",
   "execution_count": 6,
   "id": "637a87e7",
   "metadata": {},
   "outputs": [
    {
     "data": {
      "text/html": [
       "<div>\n",
       "<style scoped>\n",
       "    .dataframe tbody tr th:only-of-type {\n",
       "        vertical-align: middle;\n",
       "    }\n",
       "\n",
       "    .dataframe tbody tr th {\n",
       "        vertical-align: top;\n",
       "    }\n",
       "\n",
       "    .dataframe thead th {\n",
       "        text-align: right;\n",
       "    }\n",
       "</style>\n",
       "<table border=\"1\" class=\"dataframe\">\n",
       "  <thead>\n",
       "    <tr style=\"text-align: right;\">\n",
       "      <th></th>\n",
       "      <th>Restaurant ID</th>\n",
       "      <th>Restaurant Name</th>\n",
       "      <th>Country Code</th>\n",
       "      <th>City</th>\n",
       "      <th>Address</th>\n",
       "      <th>Locality</th>\n",
       "      <th>Locality Verbose</th>\n",
       "      <th>Longitude</th>\n",
       "      <th>Latitude</th>\n",
       "      <th>Cuisines</th>\n",
       "      <th>...</th>\n",
       "      <th>Currency</th>\n",
       "      <th>Has Table booking</th>\n",
       "      <th>Has Online delivery</th>\n",
       "      <th>Is delivering now</th>\n",
       "      <th>Switch to order menu</th>\n",
       "      <th>Price range</th>\n",
       "      <th>Aggregate rating</th>\n",
       "      <th>Rating color</th>\n",
       "      <th>Rating text</th>\n",
       "      <th>Votes</th>\n",
       "    </tr>\n",
       "  </thead>\n",
       "  <tbody>\n",
       "    <tr>\n",
       "      <th>0</th>\n",
       "      <td>6317637</td>\n",
       "      <td>Le Petit Souffle</td>\n",
       "      <td>162</td>\n",
       "      <td>Makati City</td>\n",
       "      <td>Third Floor, Century City Mall, Kalayaan Avenu...</td>\n",
       "      <td>Century City Mall, Poblacion, Makati City</td>\n",
       "      <td>Century City Mall, Poblacion, Makati City, Mak...</td>\n",
       "      <td>121.027535</td>\n",
       "      <td>14.565443</td>\n",
       "      <td>French, Japanese, Desserts</td>\n",
       "      <td>...</td>\n",
       "      <td>Botswana Pula(P)</td>\n",
       "      <td>Yes</td>\n",
       "      <td>No</td>\n",
       "      <td>No</td>\n",
       "      <td>No</td>\n",
       "      <td>3</td>\n",
       "      <td>4.8</td>\n",
       "      <td>Dark Green</td>\n",
       "      <td>Excellent</td>\n",
       "      <td>314</td>\n",
       "    </tr>\n",
       "    <tr>\n",
       "      <th>1</th>\n",
       "      <td>6304287</td>\n",
       "      <td>Izakaya Kikufuji</td>\n",
       "      <td>162</td>\n",
       "      <td>Makati City</td>\n",
       "      <td>Little Tokyo, 2277 Chino Roces Avenue, Legaspi...</td>\n",
       "      <td>Little Tokyo, Legaspi Village, Makati City</td>\n",
       "      <td>Little Tokyo, Legaspi Village, Makati City, Ma...</td>\n",
       "      <td>121.014101</td>\n",
       "      <td>14.553708</td>\n",
       "      <td>Japanese</td>\n",
       "      <td>...</td>\n",
       "      <td>Botswana Pula(P)</td>\n",
       "      <td>Yes</td>\n",
       "      <td>No</td>\n",
       "      <td>No</td>\n",
       "      <td>No</td>\n",
       "      <td>3</td>\n",
       "      <td>4.5</td>\n",
       "      <td>Dark Green</td>\n",
       "      <td>Excellent</td>\n",
       "      <td>591</td>\n",
       "    </tr>\n",
       "    <tr>\n",
       "      <th>2</th>\n",
       "      <td>6300002</td>\n",
       "      <td>Heat - Edsa Shangri-La</td>\n",
       "      <td>162</td>\n",
       "      <td>Mandaluyong City</td>\n",
       "      <td>Edsa Shangri-La, 1 Garden Way, Ortigas, Mandal...</td>\n",
       "      <td>Edsa Shangri-La, Ortigas, Mandaluyong City</td>\n",
       "      <td>Edsa Shangri-La, Ortigas, Mandaluyong City, Ma...</td>\n",
       "      <td>121.056831</td>\n",
       "      <td>14.581404</td>\n",
       "      <td>Seafood, Asian, Filipino, Indian</td>\n",
       "      <td>...</td>\n",
       "      <td>Botswana Pula(P)</td>\n",
       "      <td>Yes</td>\n",
       "      <td>No</td>\n",
       "      <td>No</td>\n",
       "      <td>No</td>\n",
       "      <td>4</td>\n",
       "      <td>4.4</td>\n",
       "      <td>Green</td>\n",
       "      <td>Very Good</td>\n",
       "      <td>270</td>\n",
       "    </tr>\n",
       "    <tr>\n",
       "      <th>3</th>\n",
       "      <td>6318506</td>\n",
       "      <td>Ooma</td>\n",
       "      <td>162</td>\n",
       "      <td>Mandaluyong City</td>\n",
       "      <td>Third Floor, Mega Fashion Hall, SM Megamall, O...</td>\n",
       "      <td>SM Megamall, Ortigas, Mandaluyong City</td>\n",
       "      <td>SM Megamall, Ortigas, Mandaluyong City, Mandal...</td>\n",
       "      <td>121.056475</td>\n",
       "      <td>14.585318</td>\n",
       "      <td>Japanese, Sushi</td>\n",
       "      <td>...</td>\n",
       "      <td>Botswana Pula(P)</td>\n",
       "      <td>No</td>\n",
       "      <td>No</td>\n",
       "      <td>No</td>\n",
       "      <td>No</td>\n",
       "      <td>4</td>\n",
       "      <td>4.9</td>\n",
       "      <td>Dark Green</td>\n",
       "      <td>Excellent</td>\n",
       "      <td>365</td>\n",
       "    </tr>\n",
       "    <tr>\n",
       "      <th>4</th>\n",
       "      <td>6314302</td>\n",
       "      <td>Sambo Kojin</td>\n",
       "      <td>162</td>\n",
       "      <td>Mandaluyong City</td>\n",
       "      <td>Third Floor, Mega Atrium, SM Megamall, Ortigas...</td>\n",
       "      <td>SM Megamall, Ortigas, Mandaluyong City</td>\n",
       "      <td>SM Megamall, Ortigas, Mandaluyong City, Mandal...</td>\n",
       "      <td>121.057508</td>\n",
       "      <td>14.584450</td>\n",
       "      <td>Japanese, Korean</td>\n",
       "      <td>...</td>\n",
       "      <td>Botswana Pula(P)</td>\n",
       "      <td>Yes</td>\n",
       "      <td>No</td>\n",
       "      <td>No</td>\n",
       "      <td>No</td>\n",
       "      <td>4</td>\n",
       "      <td>4.8</td>\n",
       "      <td>Dark Green</td>\n",
       "      <td>Excellent</td>\n",
       "      <td>229</td>\n",
       "    </tr>\n",
       "  </tbody>\n",
       "</table>\n",
       "<p>5 rows × 21 columns</p>\n",
       "</div>"
      ],
      "text/plain": [
       "   Restaurant ID         Restaurant Name  Country Code              City  \\\n",
       "0        6317637        Le Petit Souffle           162       Makati City   \n",
       "1        6304287        Izakaya Kikufuji           162       Makati City   \n",
       "2        6300002  Heat - Edsa Shangri-La           162  Mandaluyong City   \n",
       "3        6318506                    Ooma           162  Mandaluyong City   \n",
       "4        6314302             Sambo Kojin           162  Mandaluyong City   \n",
       "\n",
       "                                             Address  \\\n",
       "0  Third Floor, Century City Mall, Kalayaan Avenu...   \n",
       "1  Little Tokyo, 2277 Chino Roces Avenue, Legaspi...   \n",
       "2  Edsa Shangri-La, 1 Garden Way, Ortigas, Mandal...   \n",
       "3  Third Floor, Mega Fashion Hall, SM Megamall, O...   \n",
       "4  Third Floor, Mega Atrium, SM Megamall, Ortigas...   \n",
       "\n",
       "                                     Locality  \\\n",
       "0   Century City Mall, Poblacion, Makati City   \n",
       "1  Little Tokyo, Legaspi Village, Makati City   \n",
       "2  Edsa Shangri-La, Ortigas, Mandaluyong City   \n",
       "3      SM Megamall, Ortigas, Mandaluyong City   \n",
       "4      SM Megamall, Ortigas, Mandaluyong City   \n",
       "\n",
       "                                    Locality Verbose   Longitude   Latitude  \\\n",
       "0  Century City Mall, Poblacion, Makati City, Mak...  121.027535  14.565443   \n",
       "1  Little Tokyo, Legaspi Village, Makati City, Ma...  121.014101  14.553708   \n",
       "2  Edsa Shangri-La, Ortigas, Mandaluyong City, Ma...  121.056831  14.581404   \n",
       "3  SM Megamall, Ortigas, Mandaluyong City, Mandal...  121.056475  14.585318   \n",
       "4  SM Megamall, Ortigas, Mandaluyong City, Mandal...  121.057508  14.584450   \n",
       "\n",
       "                           Cuisines  ...          Currency Has Table booking  \\\n",
       "0        French, Japanese, Desserts  ...  Botswana Pula(P)               Yes   \n",
       "1                          Japanese  ...  Botswana Pula(P)               Yes   \n",
       "2  Seafood, Asian, Filipino, Indian  ...  Botswana Pula(P)               Yes   \n",
       "3                   Japanese, Sushi  ...  Botswana Pula(P)                No   \n",
       "4                  Japanese, Korean  ...  Botswana Pula(P)               Yes   \n",
       "\n",
       "  Has Online delivery Is delivering now Switch to order menu Price range  \\\n",
       "0                  No                No                   No           3   \n",
       "1                  No                No                   No           3   \n",
       "2                  No                No                   No           4   \n",
       "3                  No                No                   No           4   \n",
       "4                  No                No                   No           4   \n",
       "\n",
       "   Aggregate rating  Rating color Rating text Votes  \n",
       "0               4.8    Dark Green   Excellent   314  \n",
       "1               4.5    Dark Green   Excellent   591  \n",
       "2               4.4         Green   Very Good   270  \n",
       "3               4.9    Dark Green   Excellent   365  \n",
       "4               4.8    Dark Green   Excellent   229  \n",
       "\n",
       "[5 rows x 21 columns]"
      ]
     },
     "execution_count": 6,
     "metadata": {},
     "output_type": "execute_result"
    }
   ],
   "source": [
    "df.head(5)"
   ]
  },
  {
   "cell_type": "code",
   "execution_count": 7,
   "id": "1bec7a72",
   "metadata": {},
   "outputs": [
    {
     "data": {
      "text/plain": [
       "Restaurant ID           0\n",
       "Restaurant Name         0\n",
       "Country Code            0\n",
       "City                    0\n",
       "Address                 0\n",
       "Locality                0\n",
       "Locality Verbose        0\n",
       "Longitude               0\n",
       "Latitude                0\n",
       "Cuisines                9\n",
       "Average Cost for two    0\n",
       "Currency                0\n",
       "Has Table booking       0\n",
       "Has Online delivery     0\n",
       "Is delivering now       0\n",
       "Switch to order menu    0\n",
       "Price range             0\n",
       "Aggregate rating        0\n",
       "Rating color            0\n",
       "Rating text             0\n",
       "Votes                   0\n",
       "dtype: int64"
      ]
     },
     "execution_count": 7,
     "metadata": {},
     "output_type": "execute_result"
    }
   ],
   "source": [
    "df.isnull().sum()"
   ]
  },
  {
   "cell_type": "markdown",
   "id": "33318148",
   "metadata": {},
   "source": [
    "#### There are 9 null values in cuisines, rest of the columns has no null values"
   ]
  },
  {
   "cell_type": "code",
   "execution_count": 8,
   "id": "af2f35f0",
   "metadata": {},
   "outputs": [
    {
     "name": "stdout",
     "output_type": "stream",
     "text": [
      "<class 'pandas.core.frame.DataFrame'>\n",
      "RangeIndex: 9551 entries, 0 to 9550\n",
      "Data columns (total 21 columns):\n",
      " #   Column                Non-Null Count  Dtype  \n",
      "---  ------                --------------  -----  \n",
      " 0   Restaurant ID         9551 non-null   int64  \n",
      " 1   Restaurant Name       9551 non-null   object \n",
      " 2   Country Code          9551 non-null   int64  \n",
      " 3   City                  9551 non-null   object \n",
      " 4   Address               9551 non-null   object \n",
      " 5   Locality              9551 non-null   object \n",
      " 6   Locality Verbose      9551 non-null   object \n",
      " 7   Longitude             9551 non-null   float64\n",
      " 8   Latitude              9551 non-null   float64\n",
      " 9   Cuisines              9542 non-null   object \n",
      " 10  Average Cost for two  9551 non-null   int64  \n",
      " 11  Currency              9551 non-null   object \n",
      " 12  Has Table booking     9551 non-null   object \n",
      " 13  Has Online delivery   9551 non-null   object \n",
      " 14  Is delivering now     9551 non-null   object \n",
      " 15  Switch to order menu  9551 non-null   object \n",
      " 16  Price range           9551 non-null   int64  \n",
      " 17  Aggregate rating      9551 non-null   float64\n",
      " 18  Rating color          9551 non-null   object \n",
      " 19  Rating text           9551 non-null   object \n",
      " 20  Votes                 9551 non-null   int64  \n",
      "dtypes: float64(3), int64(5), object(13)\n",
      "memory usage: 1.5+ MB\n"
     ]
    }
   ],
   "source": [
    "df.info()"
   ]
  },
  {
   "cell_type": "markdown",
   "id": "bef0ffe2",
   "metadata": {},
   "source": [
    "#### 1) There are 13 categorical and 8 numberical columns.\n",
    "#### 2) Total of 20 columns an51 rows"
   ]
  },
  {
   "cell_type": "code",
   "execution_count": 9,
   "id": "c5b5524c",
   "metadata": {},
   "outputs": [
    {
     "data": {
      "text/html": [
       "<div>\n",
       "<style scoped>\n",
       "    .dataframe tbody tr th:only-of-type {\n",
       "        vertical-align: middle;\n",
       "    }\n",
       "\n",
       "    .dataframe tbody tr th {\n",
       "        vertical-align: top;\n",
       "    }\n",
       "\n",
       "    .dataframe thead th {\n",
       "        text-align: right;\n",
       "    }\n",
       "</style>\n",
       "<table border=\"1\" class=\"dataframe\">\n",
       "  <thead>\n",
       "    <tr style=\"text-align: right;\">\n",
       "      <th></th>\n",
       "      <th>Restaurant ID</th>\n",
       "      <th>Restaurant Name</th>\n",
       "      <th>Country Code</th>\n",
       "      <th>City</th>\n",
       "      <th>Address</th>\n",
       "      <th>Locality</th>\n",
       "      <th>Locality Verbose</th>\n",
       "      <th>Longitude</th>\n",
       "      <th>Latitude</th>\n",
       "      <th>Cuisines</th>\n",
       "      <th>...</th>\n",
       "      <th>Currency</th>\n",
       "      <th>Has Table booking</th>\n",
       "      <th>Has Online delivery</th>\n",
       "      <th>Is delivering now</th>\n",
       "      <th>Switch to order menu</th>\n",
       "      <th>Price range</th>\n",
       "      <th>Aggregate rating</th>\n",
       "      <th>Rating color</th>\n",
       "      <th>Rating text</th>\n",
       "      <th>Votes</th>\n",
       "    </tr>\n",
       "  </thead>\n",
       "  <tbody>\n",
       "  </tbody>\n",
       "</table>\n",
       "<p>0 rows × 21 columns</p>\n",
       "</div>"
      ],
      "text/plain": [
       "Empty DataFrame\n",
       "Columns: [Restaurant ID, Restaurant Name, Country Code, City, Address, Locality, Locality Verbose, Longitude, Latitude, Cuisines, Average Cost for two, Currency, Has Table booking, Has Online delivery, Is delivering now, Switch to order menu, Price range, Aggregate rating, Rating color, Rating text, Votes]\n",
       "Index: []\n",
       "\n",
       "[0 rows x 21 columns]"
      ]
     },
     "execution_count": 9,
     "metadata": {},
     "output_type": "execute_result"
    }
   ],
   "source": [
    "df[df.duplicated()]"
   ]
  },
  {
   "cell_type": "markdown",
   "id": "3c75c713",
   "metadata": {},
   "source": [
    "## There are no duplicate rows"
   ]
  },
  {
   "cell_type": "code",
   "execution_count": 12,
   "id": "0d98442f",
   "metadata": {},
   "outputs": [
    {
     "data": {
      "text/html": [
       "<div>\n",
       "<style scoped>\n",
       "    .dataframe tbody tr th:only-of-type {\n",
       "        vertical-align: middle;\n",
       "    }\n",
       "\n",
       "    .dataframe tbody tr th {\n",
       "        vertical-align: top;\n",
       "    }\n",
       "\n",
       "    .dataframe thead th {\n",
       "        text-align: right;\n",
       "    }\n",
       "</style>\n",
       "<table border=\"1\" class=\"dataframe\">\n",
       "  <thead>\n",
       "    <tr style=\"text-align: right;\">\n",
       "      <th></th>\n",
       "      <th>Restaurant ID</th>\n",
       "      <th>Restaurant Name</th>\n",
       "      <th>Country Code</th>\n",
       "      <th>City</th>\n",
       "      <th>Address</th>\n",
       "      <th>Locality</th>\n",
       "      <th>Locality Verbose</th>\n",
       "      <th>Longitude</th>\n",
       "      <th>Latitude</th>\n",
       "      <th>Cuisines</th>\n",
       "      <th>...</th>\n",
       "      <th>Currency</th>\n",
       "      <th>Has Table booking</th>\n",
       "      <th>Has Online delivery</th>\n",
       "      <th>Is delivering now</th>\n",
       "      <th>Switch to order menu</th>\n",
       "      <th>Price range</th>\n",
       "      <th>Aggregate rating</th>\n",
       "      <th>Rating color</th>\n",
       "      <th>Rating text</th>\n",
       "      <th>Votes</th>\n",
       "    </tr>\n",
       "  </thead>\n",
       "  <tbody>\n",
       "  </tbody>\n",
       "</table>\n",
       "<p>0 rows × 21 columns</p>\n",
       "</div>"
      ],
      "text/plain": [
       "Empty DataFrame\n",
       "Columns: [Restaurant ID, Restaurant Name, Country Code, City, Address, Locality, Locality Verbose, Longitude, Latitude, Cuisines, Average Cost for two, Currency, Has Table booking, Has Online delivery, Is delivering now, Switch to order menu, Price range, Aggregate rating, Rating color, Rating text, Votes]\n",
       "Index: []\n",
       "\n",
       "[0 rows x 21 columns]"
      ]
     },
     "execution_count": 12,
     "metadata": {},
     "output_type": "execute_result"
    }
   ],
   "source": [
    "df[df.isin(['']).any(axis=1)]"
   ]
  },
  {
   "cell_type": "markdown",
   "id": "46914aa0",
   "metadata": {},
   "source": [
    "#### There are no cells with blank spaces"
   ]
  },
  {
   "cell_type": "code",
   "execution_count": 15,
   "id": "7bd07491",
   "metadata": {
    "scrolled": false
   },
   "outputs": [
    {
     "name": "stdout",
     "output_type": "stream",
     "text": [
      "6317637     1\n",
      "18254520    1\n",
      "18462589    1\n",
      "18336474    1\n",
      "18336477    1\n",
      "           ..\n",
      "313059      1\n",
      "763         1\n",
      "7557        1\n",
      "525         1\n",
      "5927402     1\n",
      "Name: Restaurant ID, Length: 9551, dtype: int64\n",
      "+++++++++++++++++++++++++++++++++++++++++\n",
      "Cafe Coffee Day             83\n",
      "Domino's Pizza              79\n",
      "Subway                      63\n",
      "Green Chick Chop            51\n",
      "McDonald's                  48\n",
      "                            ..\n",
      "Odeon Social                 1\n",
      "Johnny Rockets               1\n",
      "House of Commons             1\n",
      "HotMess                      1\n",
      "Walter's Coffee Roastery     1\n",
      "Name: Restaurant Name, Length: 7446, dtype: int64\n",
      "+++++++++++++++++++++++++++++++++++++++++\n",
      "1      8652\n",
      "216     434\n",
      "215      80\n",
      "30       60\n",
      "214      60\n",
      "189      60\n",
      "148      40\n",
      "208      34\n",
      "14       24\n",
      "162      22\n",
      "94       21\n",
      "184      20\n",
      "166      20\n",
      "191      20\n",
      "37        4\n",
      "Name: Country Code, dtype: int64\n",
      "+++++++++++++++++++++++++++++++++++++++++\n",
      "New Delhi           5473\n",
      "Gurgaon             1118\n",
      "Noida               1080\n",
      "Faridabad            251\n",
      "Ghaziabad             25\n",
      "                    ... \n",
      "Panchkula              1\n",
      "Mc Millan              1\n",
      "Mayfield               1\n",
      "Macedon                1\n",
      "Vineland Station       1\n",
      "Name: City, Length: 141, dtype: int64\n",
      "+++++++++++++++++++++++++++++++++++++++++\n",
      "Dilli Haat, INA, New Delhi                                                               11\n",
      "Sector 41, Noida                                                                         11\n",
      "Greater Kailash (GK) 1, New Delhi                                                        10\n",
      "The Imperial, Janpath, New Delhi                                                          9\n",
      "Cyber Hub, DLF Cyber City, Gurgaon                                                        8\n",
      "                                                                                         ..\n",
      "23-24, Defence Colony Market, Defence Colony, New Delhi                                   1\n",
      "28, Main Market, Defence Colony, New Delhi                                                1\n",
      "Daryaganj, New Delhi                                                                      1\n",
      "Ground Floor, E-23, Netaji Subhash Marg, Opposite Golcha Cinema, Daryaganj, New Delhi     1\n",
      "CafeaÛôa Mahallesi, BademaltÛ± Sokak, No 21/B, KadÛ±kí_y, ÛÁstanbul                       1\n",
      "Name: Address, Length: 8918, dtype: int64\n",
      "+++++++++++++++++++++++++++++++++++++++++\n",
      "Connaught Place                                122\n",
      "Rajouri Garden                                  99\n",
      "Shahdara                                        87\n",
      "Defence Colony                                  86\n",
      "Malviya Nagar                                   85\n",
      "                                              ... \n",
      "Lemon Tree Premier, Sector 29                    1\n",
      "Omaxe Celebration Mall, Sohna Road, Gurgaon      1\n",
      "Park Inn, Sector 15, Gurgaon                     1\n",
      "Plaza Mall, MG Road                              1\n",
      "Moda                                             1\n",
      "Name: Locality, Length: 1208, dtype: int64\n",
      "+++++++++++++++++++++++++++++++++++++++++\n",
      "Connaught Place, New Delhi                    122\n",
      "Rajouri Garden, New Delhi                      99\n",
      "Shahdara, New Delhi                            87\n",
      "Defence Colony, New Delhi                      86\n",
      "Pitampura, New Delhi                           85\n",
      "                                             ... \n",
      "Ramada Gurgaon Central, Sector 44, Gurgaon      1\n",
      "Sector 5, Gurgaon                               1\n",
      "Sector 53, Gurgaon                              1\n",
      "The Claremont, MG Road, Gurgaon                 1\n",
      "Moda, ÛÁstanbul                                 1\n",
      "Name: Locality Verbose, Length: 1265, dtype: int64\n",
      "+++++++++++++++++++++++++++++++++++++++++\n",
      "0.000000     498\n",
      "77.353663     19\n",
      "77.230412     12\n",
      "77.088688     10\n",
      "77.251426      9\n",
      "            ... \n",
      "77.227294      1\n",
      "77.225420      1\n",
      "77.230347      1\n",
      "77.230578      1\n",
      "29.026016      1\n",
      "Name: Longitude, Length: 8120, dtype: int64\n",
      "+++++++++++++++++++++++++++++++++++++++++\n",
      "0.000000     498\n",
      "28.574309     16\n",
      "28.551456      9\n",
      "28.574300      9\n",
      "28.597103      8\n",
      "            ... \n",
      "28.645175      1\n",
      "28.646194      1\n",
      "28.648280      1\n",
      "28.643514      1\n",
      "40.984776      1\n",
      "Name: Latitude, Length: 8677, dtype: int64\n",
      "+++++++++++++++++++++++++++++++++++++++++\n",
      "North Indian                                             936\n",
      "North Indian, Chinese                                    511\n",
      "Chinese                                                  354\n",
      "Fast Food                                                354\n",
      "North Indian, Mughlai                                    334\n",
      "                                                        ... \n",
      "Bengali, Fast Food                                         1\n",
      "North Indian, Rajasthani, Asian                            1\n",
      "Chinese, Thai, Malaysian, Indonesian                       1\n",
      "Bakery, Desserts, North Indian, Bengali, South Indian      1\n",
      "Italian, World Cuisine                                     1\n",
      "Name: Cuisines, Length: 1825, dtype: int64\n",
      "+++++++++++++++++++++++++++++++++++++++++\n",
      "500       900\n",
      "300       897\n",
      "400       857\n",
      "200       687\n",
      "600       652\n",
      "         ... \n",
      "8000        1\n",
      "2350        1\n",
      "150000      1\n",
      "70000       1\n",
      "545         1\n",
      "Name: Average Cost for two, Length: 140, dtype: int64\n",
      "+++++++++++++++++++++++++++++++++++++++++\n",
      "Indian Rupees(Rs.)        8652\n",
      "Dollar($)                  482\n",
      "Pounds(£)                  80\n",
      "Brazilian Real(R$)          60\n",
      "Emirati Diram(AED)          60\n",
      "Rand(R)                     60\n",
      "NewZealand($)               40\n",
      "Turkish Lira(TL)            34\n",
      "Botswana Pula(P)            22\n",
      "Indonesian Rupiah(IDR)      21\n",
      "Qatari Rial(QR)             20\n",
      "Sri Lankan Rupee(LKR)       20\n",
      "Name: Currency, dtype: int64\n",
      "+++++++++++++++++++++++++++++++++++++++++\n",
      "No     8393\n",
      "Yes    1158\n",
      "Name: Has Table booking, dtype: int64\n",
      "+++++++++++++++++++++++++++++++++++++++++\n",
      "No     7100\n",
      "Yes    2451\n",
      "Name: Has Online delivery, dtype: int64\n",
      "+++++++++++++++++++++++++++++++++++++++++\n",
      "No     9517\n",
      "Yes      34\n",
      "Name: Is delivering now, dtype: int64\n",
      "+++++++++++++++++++++++++++++++++++++++++\n",
      "No    9551\n",
      "Name: Switch to order menu, dtype: int64\n",
      "+++++++++++++++++++++++++++++++++++++++++\n",
      "1    4444\n",
      "2    3113\n",
      "3    1408\n",
      "4     586\n",
      "Name: Price range, dtype: int64\n",
      "+++++++++++++++++++++++++++++++++++++++++\n",
      "0.0    2148\n",
      "3.2     522\n",
      "3.1     519\n",
      "3.4     498\n",
      "3.3     483\n",
      "3.5     480\n",
      "3.0     468\n",
      "3.6     458\n",
      "3.7     427\n",
      "3.8     400\n",
      "2.9     381\n",
      "3.9     335\n",
      "2.8     315\n",
      "4.1     274\n",
      "4.0     266\n",
      "2.7     250\n",
      "4.2     221\n",
      "2.6     191\n",
      "4.3     174\n",
      "4.4     144\n",
      "2.5     110\n",
      "4.5      95\n",
      "2.4      87\n",
      "4.6      78\n",
      "4.9      61\n",
      "2.3      47\n",
      "4.7      42\n",
      "2.2      27\n",
      "4.8      25\n",
      "2.1      15\n",
      "2.0       7\n",
      "1.9       2\n",
      "1.8       1\n",
      "Name: Aggregate rating, dtype: int64\n",
      "+++++++++++++++++++++++++++++++++++++++++\n",
      "Orange        3737\n",
      "White         2148\n",
      "Yellow        2100\n",
      "Green         1079\n",
      "Dark Green     301\n",
      "Red            186\n",
      "Name: Rating color, dtype: int64\n",
      "+++++++++++++++++++++++++++++++++++++++++\n",
      "Average      3737\n",
      "Not rated    2148\n",
      "Good         2100\n",
      "Very Good    1079\n",
      "Excellent     301\n",
      "Poor          186\n",
      "Name: Rating text, dtype: int64\n",
      "+++++++++++++++++++++++++++++++++++++++++\n",
      "0      1094\n",
      "1       483\n",
      "2       327\n",
      "3       244\n",
      "4       207\n",
      "       ... \n",
      "615       1\n",
      "538       1\n",
      "823       1\n",
      "650       1\n",
      "901       1\n",
      "Name: Votes, Length: 1012, dtype: int64\n",
      "+++++++++++++++++++++++++++++++++++++++++\n"
     ]
    }
   ],
   "source": [
    "for i in df.columns:\n",
    "    print(df[i].value_counts())\n",
    "    print('+++++++++++++++++++++++++++++++++++++++++')"
   ]
  },
  {
   "cell_type": "markdown",
   "id": "ca121785",
   "metadata": {},
   "source": [
    "#### 1. There are 3 columns 'Has_Table_booking','Has_Online_delivery', 'Is_delivering_now' with 2 unique values.\n",
    "#### 2. The Rating_text and Rating_color columns has 6 unique values each and gives the same kind of information\n",
    "#### 3. The Aggregate_rating column is having values from 0 to 5, 4.9 being the highest\n",
    "#### 4. The Price_range column has 4 unique values, however there is an imbalance.\n",
    "#### 5. The Switch to order menu has only one unique value and hence doesnt give any valuable input hence can be dropped.\n",
    "#### 6. The Currency column has 12 difference currencies. This also states that the Average_cost_for_two column has values in 12    different currencies and should be standardized.\n",
    "#### 7. The Longitude and Latitude columns has 498 cells with 0 values which means that the coordinate are unavailable for these. These rows can be dropped.\n",
    "#### 8. There are restaurants from 141 Cities."
   ]
  },
  {
   "cell_type": "code",
   "execution_count": 45,
   "id": "f1f7aadd",
   "metadata": {},
   "outputs": [],
   "source": [
    "# Striping the column name and then replacing spaces with underscore\n",
    "df.columns = df.columns.str.strip().str.replace(' ', '_')"
   ]
  },
  {
   "cell_type": "code",
   "execution_count": 46,
   "id": "02d8dec6",
   "metadata": {},
   "outputs": [
    {
     "data": {
      "text/plain": [
       "Index(['Restaurant_ID', 'Restaurant_Name', 'Country_Code', 'City', 'Address',\n",
       "       'Locality', 'Locality_Verbose', 'Longitude', 'Latitude', 'Cuisines',\n",
       "       'Average_Cost_for_two', 'Currency', 'Has_Table_booking',\n",
       "       'Has_Online_delivery', 'Is_delivering_now', 'Switch_to_order_menu',\n",
       "       'Price_range', 'Aggregate_rating', 'Rating_color', 'Rating_text',\n",
       "       'Votes'],\n",
       "      dtype='object')"
      ]
     },
     "execution_count": 46,
     "metadata": {},
     "output_type": "execute_result"
    }
   ],
   "source": [
    "df.columns"
   ]
  },
  {
   "cell_type": "code",
   "execution_count": 58,
   "id": "756280e5",
   "metadata": {},
   "outputs": [],
   "source": [
    "# Extracting numerical columns\n",
    "numcols=[col for col in df.columns if df[col].dtypes!='O']"
   ]
  },
  {
   "cell_type": "code",
   "execution_count": 59,
   "id": "148dc76b",
   "metadata": {},
   "outputs": [
    {
     "data": {
      "text/plain": [
       "['Restaurant_ID',\n",
       " 'Country_Code',\n",
       " 'Longitude',\n",
       " 'Latitude',\n",
       " 'Average_Cost_for_two',\n",
       " 'Price_range',\n",
       " 'Aggregate_rating',\n",
       " 'Votes']"
      ]
     },
     "execution_count": 59,
     "metadata": {},
     "output_type": "execute_result"
    }
   ],
   "source": [
    "numcols"
   ]
  },
  {
   "cell_type": "code",
   "execution_count": 60,
   "id": "a89303f6",
   "metadata": {},
   "outputs": [],
   "source": [
    "# Extracting categorical columns\n",
    "catcols=[col for col in df.columns if df[col].dtypes==\"O\"]"
   ]
  },
  {
   "cell_type": "code",
   "execution_count": 61,
   "id": "8db89567",
   "metadata": {},
   "outputs": [
    {
     "data": {
      "text/plain": [
       "['Restaurant_Name',\n",
       " 'City',\n",
       " 'Address',\n",
       " 'Locality',\n",
       " 'Locality_Verbose',\n",
       " 'Cuisines',\n",
       " 'Currency',\n",
       " 'Has_Table_booking',\n",
       " 'Has_Online_delivery',\n",
       " 'Is_delivering_now',\n",
       " 'Switch_to_order_menu',\n",
       " 'Rating_color',\n",
       " 'Rating_text']"
      ]
     },
     "execution_count": 61,
     "metadata": {},
     "output_type": "execute_result"
    }
   ],
   "source": [
    "catcols"
   ]
  },
  {
   "cell_type": "code",
   "execution_count": 62,
   "id": "d4f631a6",
   "metadata": {
    "scrolled": true
   },
   "outputs": [
    {
     "data": {
      "text/plain": [
       "<Axes: xlabel='Average_Cost_for_two'>"
      ]
     },
     "execution_count": 62,
     "metadata": {},
     "output_type": "execute_result"
    },
    {
     "data": {
      "image/png": "[encoded data removed]",
      "text/plain": [
       "<Figure size 640x480 with 1 Axes>"
      ]
     },
     "metadata": {},
     "output_type": "display_data"
    }
   ],
   "source": [
    "# The box plot suggest extreme outliers, due to the fact that the cost values are in different currencies \n",
    "sns.boxplot(x=df['Average_Cost_for_two'])"
   ]
  },
  {
   "cell_type": "code",
   "execution_count": 63,
   "id": "643d9bba",
   "metadata": {},
   "outputs": [
    {
     "data": {
      "text/html": [
       "<div>\n",
       "<style scoped>\n",
       "    .dataframe tbody tr th:only-of-type {\n",
       "        vertical-align: middle;\n",
       "    }\n",
       "\n",
       "    .dataframe tbody tr th {\n",
       "        vertical-align: top;\n",
       "    }\n",
       "\n",
       "    .dataframe thead th {\n",
       "        text-align: right;\n",
       "    }\n",
       "</style>\n",
       "<table border=\"1\" class=\"dataframe\">\n",
       "  <thead>\n",
       "    <tr style=\"text-align: right;\">\n",
       "      <th></th>\n",
       "      <th>Restaurant_ID</th>\n",
       "      <th>Country_Code</th>\n",
       "      <th>Longitude</th>\n",
       "      <th>Latitude</th>\n",
       "      <th>Average_Cost_for_two</th>\n",
       "      <th>Price_range</th>\n",
       "      <th>Aggregate_rating</th>\n",
       "      <th>Votes</th>\n",
       "    </tr>\n",
       "  </thead>\n",
       "  <tbody>\n",
       "    <tr>\n",
       "      <th>count</th>\n",
       "      <td>9.551000e+03</td>\n",
       "      <td>9551.000000</td>\n",
       "      <td>9551.000000</td>\n",
       "      <td>9551.000000</td>\n",
       "      <td>9551.000000</td>\n",
       "      <td>9551.000000</td>\n",
       "      <td>9551.000000</td>\n",
       "      <td>9551.000000</td>\n",
       "    </tr>\n",
       "    <tr>\n",
       "      <th>mean</th>\n",
       "      <td>9.051128e+06</td>\n",
       "      <td>18.365616</td>\n",
       "      <td>64.126574</td>\n",
       "      <td>25.854381</td>\n",
       "      <td>1199.210763</td>\n",
       "      <td>1.804837</td>\n",
       "      <td>2.666370</td>\n",
       "      <td>156.909748</td>\n",
       "    </tr>\n",
       "    <tr>\n",
       "      <th>std</th>\n",
       "      <td>8.791521e+06</td>\n",
       "      <td>56.750546</td>\n",
       "      <td>41.467058</td>\n",
       "      <td>11.007935</td>\n",
       "      <td>16121.183073</td>\n",
       "      <td>0.905609</td>\n",
       "      <td>1.516378</td>\n",
       "      <td>430.169145</td>\n",
       "    </tr>\n",
       "    <tr>\n",
       "      <th>min</th>\n",
       "      <td>5.300000e+01</td>\n",
       "      <td>1.000000</td>\n",
       "      <td>-157.948486</td>\n",
       "      <td>-41.330428</td>\n",
       "      <td>0.000000</td>\n",
       "      <td>1.000000</td>\n",
       "      <td>0.000000</td>\n",
       "      <td>0.000000</td>\n",
       "    </tr>\n",
       "    <tr>\n",
       "      <th>25%</th>\n",
       "      <td>3.019625e+05</td>\n",
       "      <td>1.000000</td>\n",
       "      <td>77.081343</td>\n",
       "      <td>28.478713</td>\n",
       "      <td>250.000000</td>\n",
       "      <td>1.000000</td>\n",
       "      <td>2.500000</td>\n",
       "      <td>5.000000</td>\n",
       "    </tr>\n",
       "    <tr>\n",
       "      <th>50%</th>\n",
       "      <td>6.004089e+06</td>\n",
       "      <td>1.000000</td>\n",
       "      <td>77.191964</td>\n",
       "      <td>28.570469</td>\n",
       "      <td>400.000000</td>\n",
       "      <td>2.000000</td>\n",
       "      <td>3.200000</td>\n",
       "      <td>31.000000</td>\n",
       "    </tr>\n",
       "    <tr>\n",
       "      <th>75%</th>\n",
       "      <td>1.835229e+07</td>\n",
       "      <td>1.000000</td>\n",
       "      <td>77.282006</td>\n",
       "      <td>28.642758</td>\n",
       "      <td>700.000000</td>\n",
       "      <td>2.000000</td>\n",
       "      <td>3.700000</td>\n",
       "      <td>131.000000</td>\n",
       "    </tr>\n",
       "    <tr>\n",
       "      <th>max</th>\n",
       "      <td>1.850065e+07</td>\n",
       "      <td>216.000000</td>\n",
       "      <td>174.832089</td>\n",
       "      <td>55.976980</td>\n",
       "      <td>800000.000000</td>\n",
       "      <td>4.000000</td>\n",
       "      <td>4.900000</td>\n",
       "      <td>10934.000000</td>\n",
       "    </tr>\n",
       "  </tbody>\n",
       "</table>\n",
       "</div>"
      ],
      "text/plain": [
       "       Restaurant_ID  Country_Code    Longitude     Latitude  \\\n",
       "count   9.551000e+03   9551.000000  9551.000000  9551.000000   \n",
       "mean    9.051128e+06     18.365616    64.126574    25.854381   \n",
       "std     8.791521e+06     56.750546    41.467058    11.007935   \n",
       "min     5.300000e+01      1.000000  -157.948486   -41.330428   \n",
       "25%     3.019625e+05      1.000000    77.081343    28.478713   \n",
       "50%     6.004089e+06      1.000000    77.191964    28.570469   \n",
       "75%     1.835229e+07      1.000000    77.282006    28.642758   \n",
       "max     1.850065e+07    216.000000   174.832089    55.976980   \n",
       "\n",
       "       Average_Cost_for_two  Price_range  Aggregate_rating         Votes  \n",
       "count           9551.000000  9551.000000       9551.000000   9551.000000  \n",
       "mean            1199.210763     1.804837          2.666370    156.909748  \n",
       "std            16121.183073     0.905609          1.516378    430.169145  \n",
       "min                0.000000     1.000000          0.000000      0.000000  \n",
       "25%              250.000000     1.000000          2.500000      5.000000  \n",
       "50%              400.000000     2.000000          3.200000     31.000000  \n",
       "75%              700.000000     2.000000          3.700000    131.000000  \n",
       "max           800000.000000     4.000000          4.900000  10934.000000  "
      ]
     },
     "execution_count": 63,
     "metadata": {},
     "output_type": "execute_result"
    }
   ],
   "source": [
    "df.describe()"
   ]
  },
  {
   "cell_type": "code",
   "execution_count": null,
   "id": "d6331133",
   "metadata": {},
   "outputs": [],
   "source": []
  },
  {
   "cell_type": "code",
   "execution_count": 408,
   "id": "d0000444",
   "metadata": {},
   "outputs": [],
   "source": [
    "df=df[df['Average_Cost_for_two']!=0]"
   ]
  },
  {
   "cell_type": "code",
   "execution_count": 404,
   "id": "a6a3b92d",
   "metadata": {},
   "outputs": [],
   "source": [
    "Q1 = df['Average_Cost_for_two'].quantile(0.25)\n",
    "Q3 = df['Average_Cost_for_two'].quantile(0.75)\n",
    "IQR = Q3 - Q1\n",
    "\n",
    "\n",
    "lower_bound = Q1 - 1.5 * IQR\n",
    "upper_bound = Q3 + 1.5 * IQR\n",
    "\n",
    "\n",
    "df_cleaned = df[(df['Average_Cost_for_two'] >= lower_bound) & (df['Average_Cost_for_two'] <= upper_bound)]"
   ]
  },
  {
   "cell_type": "code",
   "execution_count": 405,
   "id": "c40ab15f",
   "metadata": {},
   "outputs": [
    {
     "data": {
      "text/plain": [
       "(9527, 171)"
      ]
     },
     "execution_count": 405,
     "metadata": {},
     "output_type": "execute_result"
    }
   ],
   "source": [
    "df.shape"
   ]
  },
  {
   "cell_type": "code",
   "execution_count": 406,
   "id": "2af3458d",
   "metadata": {},
   "outputs": [
    {
     "data": {
      "text/plain": [
       "<Axes: xlabel='Average_Cost_for_two'>"
      ]
     },
     "execution_count": 406,
     "metadata": {},
     "output_type": "execute_result"
    },
    {
     "data": {
      "image/png": "[encoded data removed]",
      "text/plain": [
       "<Figure size 640x480 with 1 Axes>"
      ]
     },
     "metadata": {},
     "output_type": "display_data"
    }
   ],
   "source": [
    "sns.boxplot(x=df['Average_Cost_for_two'])"
   ]
  },
  {
   "cell_type": "code",
   "execution_count": 409,
   "id": "40b58526",
   "metadata": {},
   "outputs": [],
   "source": [
    "df.dropna(inplace=True) # dropping all nan values"
   ]
  },
  {
   "cell_type": "code",
   "execution_count": 410,
   "id": "73609ddc",
   "metadata": {},
   "outputs": [
    {
     "data": {
      "text/plain": [
       "(9527, 171)"
      ]
     },
     "execution_count": 410,
     "metadata": {},
     "output_type": "execute_result"
    }
   ],
   "source": [
    "df.shape"
   ]
  },
  {
   "cell_type": "code",
   "execution_count": 412,
   "id": "c7d82ae5",
   "metadata": {},
   "outputs": [
    {
     "data": {
      "text/plain": [
       "0"
      ]
     },
     "execution_count": 412,
     "metadata": {},
     "output_type": "execute_result"
    }
   ],
   "source": [
    "df.isnull().sum().sum() # Now there are no null values"
   ]
  },
  {
   "cell_type": "code",
   "execution_count": 75,
   "id": "2ab367f1",
   "metadata": {},
   "outputs": [
    {
     "data": {
      "text/plain": [
       "Index(['Restaurant_ID', 'Restaurant_Name', 'Country_Code', 'City', 'Address',\n",
       "       'Locality', 'Locality_Verbose', 'Longitude', 'Latitude', 'Cuisines',\n",
       "       'Average_Cost_for_two', 'Currency', 'Has_Table_booking',\n",
       "       'Has_Online_delivery', 'Is_delivering_now', 'Switch_to_order_menu',\n",
       "       'Price_range', 'Aggregate_rating', 'Rating_color', 'Rating_text',\n",
       "       'Votes'],\n",
       "      dtype='object')"
      ]
     },
     "execution_count": 75,
     "metadata": {},
     "output_type": "execute_result"
    }
   ],
   "source": [
    "df.columns"
   ]
  },
  {
   "cell_type": "code",
   "execution_count": 79,
   "id": "b22930f9",
   "metadata": {},
   "outputs": [
    {
     "data": {
      "text/plain": [
       "array(['Botswana Pula(P)', 'Brazilian Real(R$)', 'Dollar($)',\n",
       "       'Emirati Diram(AED)', 'Indian Rupees(Rs.)',\n",
       "       'Indonesian Rupiah(IDR)', 'NewZealand($)', 'Pounds(\\x8c£)',\n",
       "       'Qatari Rial(QR)', 'Rand(R)', 'Sri Lankan Rupee(LKR)',\n",
       "       'Turkish Lira(TL)'], dtype=object)"
      ]
     },
     "execution_count": 79,
     "metadata": {},
     "output_type": "execute_result"
    }
   ],
   "source": [
    "df['Currency'].unique()"
   ]
  },
  {
   "cell_type": "code",
   "execution_count": 294,
   "id": "0d12a599",
   "metadata": {},
   "outputs": [],
   "source": [
    "# I noticed that the pounds sign in Currency column was showing an odd value '\\x8c' hence replacing it\n",
    "df['Currency'] = df['Currency'].str.replace(r'\\x8c', '', regex=True)"
   ]
  },
  {
   "cell_type": "code",
   "execution_count": 415,
   "id": "e2762a9f",
   "metadata": {},
   "outputs": [],
   "source": [
    "# downloaded these conversion rates to USD from a website and \n",
    "# creating a dictionary of it. Plan is to have all average_cost_of_two column values in USD.\n",
    "conversion_rates = {\n",
    "    'Botswana Pula(P)': 0.075374,\n",
    "    'Brazilian Real(R$)': 0.184415,\n",
    "    'Dollar($)': 1,\n",
    "    'Emirati Diram(AED)': 0.272257,\n",
    "    'Indian Rupees(Rs.)': 0.011953,\n",
    "    'Indonesian Rupiah(IDR)': 0.000066,\n",
    "    'NewZealand($)': 0.622404,\n",
    "    'Pounds(£)': 1.322988,\n",
    "    'Qatari Rial(QR)': 0.273892,\n",
    "    'Rand(R)': 0.057,\n",
    "    'Sri Lankan Rupee(LKR)': 0.003296,\n",
    "    'Turkish Lira(TL)': 0.029368\n",
    "}"
   ]
  },
  {
   "cell_type": "code",
   "execution_count": 416,
   "id": "15dacb6b",
   "metadata": {},
   "outputs": [],
   "source": [
    "df['Conversion_Rate'] = df['Currency'].map(conversion_rates)"
   ]
  },
  {
   "cell_type": "code",
   "execution_count": 417,
   "id": "d3189bf4",
   "metadata": {},
   "outputs": [
    {
     "data": {
      "text/html": [
       "<div>\n",
       "<style scoped>\n",
       "    .dataframe tbody tr th:only-of-type {\n",
       "        vertical-align: middle;\n",
       "    }\n",
       "\n",
       "    .dataframe tbody tr th {\n",
       "        vertical-align: top;\n",
       "    }\n",
       "\n",
       "    .dataframe thead th {\n",
       "        text-align: right;\n",
       "    }\n",
       "</style>\n",
       "<table border=\"1\" class=\"dataframe\">\n",
       "  <thead>\n",
       "    <tr style=\"text-align: right;\">\n",
       "      <th></th>\n",
       "      <th>Conversion_Rate</th>\n",
       "      <th>Currency</th>\n",
       "      <th>Average_Cost_for_two</th>\n",
       "    </tr>\n",
       "  </thead>\n",
       "  <tbody>\n",
       "    <tr>\n",
       "      <th>0</th>\n",
       "      <td>0.075374</td>\n",
       "      <td>Botswana Pula(P)</td>\n",
       "      <td>1100</td>\n",
       "    </tr>\n",
       "    <tr>\n",
       "      <th>1</th>\n",
       "      <td>0.075374</td>\n",
       "      <td>Botswana Pula(P)</td>\n",
       "      <td>1200</td>\n",
       "    </tr>\n",
       "    <tr>\n",
       "      <th>2</th>\n",
       "      <td>0.075374</td>\n",
       "      <td>Botswana Pula(P)</td>\n",
       "      <td>4000</td>\n",
       "    </tr>\n",
       "    <tr>\n",
       "      <th>3</th>\n",
       "      <td>0.075374</td>\n",
       "      <td>Botswana Pula(P)</td>\n",
       "      <td>1500</td>\n",
       "    </tr>\n",
       "    <tr>\n",
       "      <th>4</th>\n",
       "      <td>0.075374</td>\n",
       "      <td>Botswana Pula(P)</td>\n",
       "      <td>1500</td>\n",
       "    </tr>\n",
       "    <tr>\n",
       "      <th>...</th>\n",
       "      <td>...</td>\n",
       "      <td>...</td>\n",
       "      <td>...</td>\n",
       "    </tr>\n",
       "    <tr>\n",
       "      <th>9546</th>\n",
       "      <td>0.029368</td>\n",
       "      <td>Turkish Lira(TL)</td>\n",
       "      <td>80</td>\n",
       "    </tr>\n",
       "    <tr>\n",
       "      <th>9547</th>\n",
       "      <td>0.029368</td>\n",
       "      <td>Turkish Lira(TL)</td>\n",
       "      <td>105</td>\n",
       "    </tr>\n",
       "    <tr>\n",
       "      <th>9548</th>\n",
       "      <td>0.029368</td>\n",
       "      <td>Turkish Lira(TL)</td>\n",
       "      <td>170</td>\n",
       "    </tr>\n",
       "    <tr>\n",
       "      <th>9549</th>\n",
       "      <td>0.029368</td>\n",
       "      <td>Turkish Lira(TL)</td>\n",
       "      <td>120</td>\n",
       "    </tr>\n",
       "    <tr>\n",
       "      <th>9550</th>\n",
       "      <td>0.029368</td>\n",
       "      <td>Turkish Lira(TL)</td>\n",
       "      <td>55</td>\n",
       "    </tr>\n",
       "  </tbody>\n",
       "</table>\n",
       "<p>9527 rows × 3 columns</p>\n",
       "</div>"
      ],
      "text/plain": [
       "      Conversion_Rate          Currency  Average_Cost_for_two\n",
       "0            0.075374  Botswana Pula(P)                  1100\n",
       "1            0.075374  Botswana Pula(P)                  1200\n",
       "2            0.075374  Botswana Pula(P)                  4000\n",
       "3            0.075374  Botswana Pula(P)                  1500\n",
       "4            0.075374  Botswana Pula(P)                  1500\n",
       "...               ...               ...                   ...\n",
       "9546         0.029368  Turkish Lira(TL)                    80\n",
       "9547         0.029368  Turkish Lira(TL)                   105\n",
       "9548         0.029368  Turkish Lira(TL)                   170\n",
       "9549         0.029368  Turkish Lira(TL)                   120\n",
       "9550         0.029368  Turkish Lira(TL)                    55\n",
       "\n",
       "[9527 rows x 3 columns]"
      ]
     },
     "execution_count": 417,
     "metadata": {},
     "output_type": "execute_result"
    }
   ],
   "source": [
    "df[['Conversion_Rate','Currency','Average_Cost_for_two']]"
   ]
  },
  {
   "cell_type": "code",
   "execution_count": 418,
   "id": "be2c9504",
   "metadata": {},
   "outputs": [],
   "source": [
    "df['Average_Cost_for_two_USD'] = df['Average_Cost_for_two'] * df['Conversion_Rate']"
   ]
  },
  {
   "cell_type": "code",
   "execution_count": 419,
   "id": "a503773e",
   "metadata": {},
   "outputs": [
    {
     "data": {
      "text/html": [
       "<div>\n",
       "<style scoped>\n",
       "    .dataframe tbody tr th:only-of-type {\n",
       "        vertical-align: middle;\n",
       "    }\n",
       "\n",
       "    .dataframe tbody tr th {\n",
       "        vertical-align: top;\n",
       "    }\n",
       "\n",
       "    .dataframe thead th {\n",
       "        text-align: right;\n",
       "    }\n",
       "</style>\n",
       "<table border=\"1\" class=\"dataframe\">\n",
       "  <thead>\n",
       "    <tr style=\"text-align: right;\">\n",
       "      <th></th>\n",
       "      <th>Conversion_Rate</th>\n",
       "      <th>Currency</th>\n",
       "      <th>Average_Cost_for_two</th>\n",
       "      <th>Average_Cost_for_two_USD</th>\n",
       "    </tr>\n",
       "  </thead>\n",
       "  <tbody>\n",
       "    <tr>\n",
       "      <th>0</th>\n",
       "      <td>0.075374</td>\n",
       "      <td>Botswana Pula(P)</td>\n",
       "      <td>1100</td>\n",
       "      <td>82.91140</td>\n",
       "    </tr>\n",
       "    <tr>\n",
       "      <th>1</th>\n",
       "      <td>0.075374</td>\n",
       "      <td>Botswana Pula(P)</td>\n",
       "      <td>1200</td>\n",
       "      <td>90.44880</td>\n",
       "    </tr>\n",
       "    <tr>\n",
       "      <th>2</th>\n",
       "      <td>0.075374</td>\n",
       "      <td>Botswana Pula(P)</td>\n",
       "      <td>4000</td>\n",
       "      <td>301.49600</td>\n",
       "    </tr>\n",
       "    <tr>\n",
       "      <th>3</th>\n",
       "      <td>0.075374</td>\n",
       "      <td>Botswana Pula(P)</td>\n",
       "      <td>1500</td>\n",
       "      <td>113.06100</td>\n",
       "    </tr>\n",
       "    <tr>\n",
       "      <th>4</th>\n",
       "      <td>0.075374</td>\n",
       "      <td>Botswana Pula(P)</td>\n",
       "      <td>1500</td>\n",
       "      <td>113.06100</td>\n",
       "    </tr>\n",
       "    <tr>\n",
       "      <th>...</th>\n",
       "      <td>...</td>\n",
       "      <td>...</td>\n",
       "      <td>...</td>\n",
       "      <td>...</td>\n",
       "    </tr>\n",
       "    <tr>\n",
       "      <th>9546</th>\n",
       "      <td>0.029368</td>\n",
       "      <td>Turkish Lira(TL)</td>\n",
       "      <td>80</td>\n",
       "      <td>2.34944</td>\n",
       "    </tr>\n",
       "    <tr>\n",
       "      <th>9547</th>\n",
       "      <td>0.029368</td>\n",
       "      <td>Turkish Lira(TL)</td>\n",
       "      <td>105</td>\n",
       "      <td>3.08364</td>\n",
       "    </tr>\n",
       "    <tr>\n",
       "      <th>9548</th>\n",
       "      <td>0.029368</td>\n",
       "      <td>Turkish Lira(TL)</td>\n",
       "      <td>170</td>\n",
       "      <td>4.99256</td>\n",
       "    </tr>\n",
       "    <tr>\n",
       "      <th>9549</th>\n",
       "      <td>0.029368</td>\n",
       "      <td>Turkish Lira(TL)</td>\n",
       "      <td>120</td>\n",
       "      <td>3.52416</td>\n",
       "    </tr>\n",
       "    <tr>\n",
       "      <th>9550</th>\n",
       "      <td>0.029368</td>\n",
       "      <td>Turkish Lira(TL)</td>\n",
       "      <td>55</td>\n",
       "      <td>1.61524</td>\n",
       "    </tr>\n",
       "  </tbody>\n",
       "</table>\n",
       "<p>9527 rows × 4 columns</p>\n",
       "</div>"
      ],
      "text/plain": [
       "      Conversion_Rate          Currency  Average_Cost_for_two  \\\n",
       "0            0.075374  Botswana Pula(P)                  1100   \n",
       "1            0.075374  Botswana Pula(P)                  1200   \n",
       "2            0.075374  Botswana Pula(P)                  4000   \n",
       "3            0.075374  Botswana Pula(P)                  1500   \n",
       "4            0.075374  Botswana Pula(P)                  1500   \n",
       "...               ...               ...                   ...   \n",
       "9546         0.029368  Turkish Lira(TL)                    80   \n",
       "9547         0.029368  Turkish Lira(TL)                   105   \n",
       "9548         0.029368  Turkish Lira(TL)                   170   \n",
       "9549         0.029368  Turkish Lira(TL)                   120   \n",
       "9550         0.029368  Turkish Lira(TL)                    55   \n",
       "\n",
       "      Average_Cost_for_two_USD  \n",
       "0                     82.91140  \n",
       "1                     90.44880  \n",
       "2                    301.49600  \n",
       "3                    113.06100  \n",
       "4                    113.06100  \n",
       "...                        ...  \n",
       "9546                   2.34944  \n",
       "9547                   3.08364  \n",
       "9548                   4.99256  \n",
       "9549                   3.52416  \n",
       "9550                   1.61524  \n",
       "\n",
       "[9527 rows x 4 columns]"
      ]
     },
     "execution_count": 419,
     "metadata": {},
     "output_type": "execute_result"
    }
   ],
   "source": [
    "df[['Conversion_Rate','Currency','Average_Cost_for_two','Average_Cost_for_two_USD']]"
   ]
  },
  {
   "cell_type": "code",
   "execution_count": 421,
   "id": "d52efdb4",
   "metadata": {},
   "outputs": [
    {
     "data": {
      "text/html": [
       "<div>\n",
       "<style scoped>\n",
       "    .dataframe tbody tr th:only-of-type {\n",
       "        vertical-align: middle;\n",
       "    }\n",
       "\n",
       "    .dataframe tbody tr th {\n",
       "        vertical-align: top;\n",
       "    }\n",
       "\n",
       "    .dataframe thead th {\n",
       "        text-align: right;\n",
       "    }\n",
       "</style>\n",
       "<table border=\"1\" class=\"dataframe\">\n",
       "  <thead>\n",
       "    <tr style=\"text-align: right;\">\n",
       "      <th></th>\n",
       "      <th>Average_Cost_for_two</th>\n",
       "      <th>Currency</th>\n",
       "      <th>Average_Cost_for_two_USD</th>\n",
       "    </tr>\n",
       "  </thead>\n",
       "  <tbody>\n",
       "  </tbody>\n",
       "</table>\n",
       "</div>"
      ],
      "text/plain": [
       "Empty DataFrame\n",
       "Columns: [Average_Cost_for_two, Currency, Average_Cost_for_two_USD]\n",
       "Index: []"
      ]
     },
     "execution_count": 421,
     "metadata": {},
     "output_type": "execute_result"
    }
   ],
   "source": [
    "df[df['Average_Cost_for_two_USD'].isnull()][['Average_Cost_for_two','Currency','Average_Cost_for_two_USD']]"
   ]
  },
  {
   "cell_type": "code",
   "execution_count": 426,
   "id": "82370c86",
   "metadata": {},
   "outputs": [],
   "source": [
    "# This will drop all 496 rows from longitude and latitide columns where values were 0.\n",
    "df=df[df['Longitude']!=0]"
   ]
  },
  {
   "cell_type": "code",
   "execution_count": null,
   "id": "5a9ed76a",
   "metadata": {},
   "outputs": [],
   "source": []
  },
  {
   "cell_type": "code",
   "execution_count": 428,
   "id": "782538d6",
   "metadata": {},
   "outputs": [
    {
     "data": {
      "text/plain": [
       "array(['Little Tokyo, 2277 Chino Roces Avenue, Legaspi Village, Makati City',\n",
       "       'Edsa Shangri-La, 1 Garden Way, Ortigas, Mandaluyong City',\n",
       "       'Third Floor, Mega Fashion Hall, SM Megamall, Ortigas, Mandaluyong City',\n",
       "       'Third Floor, Mega Atrium, SM Megamall, Ortigas, Mandaluyong City',\n",
       "       'Ground Floor, Mega Fashion Hall, SM Megamall, Ortigas, Mandaluyong City',\n",
       "       'Building K, SM By The Bay, Sunset Boulevard, Mall of Asia Complex (MOA), Pasay City',\n",
       "       'Building B, By The Bay, Seaside Boulevard, Mall of Asia Complex (MOA), Pasay City',\n",
       "       'Plaza Level, Sofitel Philippine Plaza Manila, CCP Complex, Pasay City',\n",
       "       'Brixton Technology Center, 10 Brixton Street, Kapitolyo, Pasig City'],\n",
       "      dtype=object)"
      ]
     },
     "execution_count": 428,
     "metadata": {},
     "output_type": "execute_result"
    }
   ],
   "source": [
    "df['Address'][1:10].values"
   ]
  },
  {
   "cell_type": "code",
   "execution_count": 283,
   "id": "d19fc521",
   "metadata": {},
   "outputs": [
    {
     "data": {
      "text/plain": [
       "140"
      ]
     },
     "execution_count": 283,
     "metadata": {},
     "output_type": "execute_result"
    }
   ],
   "source": [
    "len(df['City'].unique())"
   ]
  },
  {
   "cell_type": "code",
   "execution_count": 430,
   "id": "d7d04c4e",
   "metadata": {},
   "outputs": [],
   "source": [
    "# encoding city by creating a new column which has the mean of average_cost_for_two for each city\n",
    "city_avg_cost = df.groupby('City')['Average_Cost_for_two_USD'].mean()"
   ]
  },
  {
   "cell_type": "code",
   "execution_count": 431,
   "id": "116693d5",
   "metadata": {},
   "outputs": [],
   "source": [
    "# mapping city_avg_cost values to city column and storing them in a new column city_encoded\n",
    "df['City_encoded'] = df['City'].map(city_avg_cost)"
   ]
  },
  {
   "cell_type": "code",
   "execution_count": null,
   "id": "7ca751db",
   "metadata": {},
   "outputs": [],
   "source": []
  },
  {
   "cell_type": "code",
   "execution_count": 432,
   "id": "3fa774b4",
   "metadata": {},
   "outputs": [
    {
     "data": {
      "text/html": [
       "<div>\n",
       "<style scoped>\n",
       "    .dataframe tbody tr th:only-of-type {\n",
       "        vertical-align: middle;\n",
       "    }\n",
       "\n",
       "    .dataframe tbody tr th {\n",
       "        vertical-align: top;\n",
       "    }\n",
       "\n",
       "    .dataframe thead th {\n",
       "        text-align: right;\n",
       "    }\n",
       "</style>\n",
       "<table border=\"1\" class=\"dataframe\">\n",
       "  <thead>\n",
       "    <tr style=\"text-align: right;\">\n",
       "      <th></th>\n",
       "      <th>City</th>\n",
       "      <th>City_encoded</th>\n",
       "      <th>Average_Cost_for_two_USD</th>\n",
       "      <th>Price_range</th>\n",
       "      <th>Aggregate_rating</th>\n",
       "    </tr>\n",
       "  </thead>\n",
       "  <tbody>\n",
       "    <tr>\n",
       "      <th>0</th>\n",
       "      <td>Makati City</td>\n",
       "      <td>86.680100</td>\n",
       "      <td>82.91140</td>\n",
       "      <td>3</td>\n",
       "      <td>4.8</td>\n",
       "    </tr>\n",
       "    <tr>\n",
       "      <th>1</th>\n",
       "      <td>Makati City</td>\n",
       "      <td>86.680100</td>\n",
       "      <td>90.44880</td>\n",
       "      <td>3</td>\n",
       "      <td>4.5</td>\n",
       "    </tr>\n",
       "    <tr>\n",
       "      <th>2</th>\n",
       "      <td>Mandaluyong City</td>\n",
       "      <td>150.748000</td>\n",
       "      <td>301.49600</td>\n",
       "      <td>4</td>\n",
       "      <td>4.4</td>\n",
       "    </tr>\n",
       "    <tr>\n",
       "      <th>3</th>\n",
       "      <td>Mandaluyong City</td>\n",
       "      <td>150.748000</td>\n",
       "      <td>113.06100</td>\n",
       "      <td>4</td>\n",
       "      <td>4.9</td>\n",
       "    </tr>\n",
       "    <tr>\n",
       "      <th>4</th>\n",
       "      <td>Mandaluyong City</td>\n",
       "      <td>150.748000</td>\n",
       "      <td>113.06100</td>\n",
       "      <td>4</td>\n",
       "      <td>4.8</td>\n",
       "    </tr>\n",
       "    <tr>\n",
       "      <th>...</th>\n",
       "      <td>...</td>\n",
       "      <td>...</td>\n",
       "      <td>...</td>\n",
       "      <td>...</td>\n",
       "      <td>...</td>\n",
       "    </tr>\n",
       "    <tr>\n",
       "      <th>9546</th>\n",
       "      <td>ÛÁstanbul</td>\n",
       "      <td>2.391394</td>\n",
       "      <td>2.34944</td>\n",
       "      <td>3</td>\n",
       "      <td>4.1</td>\n",
       "    </tr>\n",
       "    <tr>\n",
       "      <th>9547</th>\n",
       "      <td>ÛÁstanbul</td>\n",
       "      <td>2.391394</td>\n",
       "      <td>3.08364</td>\n",
       "      <td>3</td>\n",
       "      <td>4.2</td>\n",
       "    </tr>\n",
       "    <tr>\n",
       "      <th>9548</th>\n",
       "      <td>ÛÁstanbul</td>\n",
       "      <td>2.391394</td>\n",
       "      <td>4.99256</td>\n",
       "      <td>4</td>\n",
       "      <td>3.7</td>\n",
       "    </tr>\n",
       "    <tr>\n",
       "      <th>9549</th>\n",
       "      <td>ÛÁstanbul</td>\n",
       "      <td>2.391394</td>\n",
       "      <td>3.52416</td>\n",
       "      <td>4</td>\n",
       "      <td>4.0</td>\n",
       "    </tr>\n",
       "    <tr>\n",
       "      <th>9550</th>\n",
       "      <td>ÛÁstanbul</td>\n",
       "      <td>2.391394</td>\n",
       "      <td>1.61524</td>\n",
       "      <td>2</td>\n",
       "      <td>4.0</td>\n",
       "    </tr>\n",
       "  </tbody>\n",
       "</table>\n",
       "<p>9031 rows × 5 columns</p>\n",
       "</div>"
      ],
      "text/plain": [
       "                  City  City_encoded  Average_Cost_for_two_USD  Price_range  \\\n",
       "0          Makati City     86.680100                  82.91140            3   \n",
       "1          Makati City     86.680100                  90.44880            3   \n",
       "2     Mandaluyong City    150.748000                 301.49600            4   \n",
       "3     Mandaluyong City    150.748000                 113.06100            4   \n",
       "4     Mandaluyong City    150.748000                 113.06100            4   \n",
       "...                ...           ...                       ...          ...   \n",
       "9546         ÛÁstanbul      2.391394                   2.34944            3   \n",
       "9547         ÛÁstanbul      2.391394                   3.08364            3   \n",
       "9548         ÛÁstanbul      2.391394                   4.99256            4   \n",
       "9549         ÛÁstanbul      2.391394                   3.52416            4   \n",
       "9550         ÛÁstanbul      2.391394                   1.61524            2   \n",
       "\n",
       "      Aggregate_rating  \n",
       "0                  4.8  \n",
       "1                  4.5  \n",
       "2                  4.4  \n",
       "3                  4.9  \n",
       "4                  4.8  \n",
       "...                ...  \n",
       "9546               4.1  \n",
       "9547               4.2  \n",
       "9548               3.7  \n",
       "9549               4.0  \n",
       "9550               4.0  \n",
       "\n",
       "[9031 rows x 5 columns]"
      ]
     },
     "execution_count": 432,
     "metadata": {},
     "output_type": "execute_result"
    }
   ],
   "source": [
    "df[['City','City_encoded','Average_Cost_for_two_USD','Price_range','Aggregate_rating']]"
   ]
  },
  {
   "cell_type": "code",
   "execution_count": 142,
   "id": "ffae90ae",
   "metadata": {},
   "outputs": [
    {
     "data": {
      "text/plain": [
       "array(['Century City Mall, Poblacion, Makati City',\n",
       "       'Little Tokyo, Legaspi Village, Makati City',\n",
       "       'Edsa Shangri-La, Ortigas, Mandaluyong City',\n",
       "       'SM Megamall, Ortigas, Mandaluyong City',\n",
       "       'SM Megamall, Ortigas, Mandaluyong City',\n",
       "       'SM Megamall, Ortigas, Mandaluyong City',\n",
       "       'SM by the Bay, Mall of Asia Complex, Pasay City',\n",
       "       'SM by the Bay, Mall of Asia Complex, Pasay City',\n",
       "       'Sofitel Philippine Plaza Manila, Pasay City', 'Kapitolyo',\n",
       "       'Kapitolyo', 'Kapitolyo', 'UP Town Center, Diliman, Quezon City',\n",
       "       'Addition Hills', 'Little Baguio', 'Nuvali, Don Jose, Santa Rosa',\n",
       "       'Solenad 3, Don Jose, Santa Rosa', 'Tagaytay City',\n",
       "       'BGC Stopover Pavillion, Bonifacio Global City',\n",
       "       'Bonifacio Global City'], dtype=object)"
      ]
     },
     "execution_count": 142,
     "metadata": {},
     "output_type": "execute_result"
    }
   ],
   "source": [
    "df['Locality'].values [0:20]"
   ]
  },
  {
   "cell_type": "code",
   "execution_count": 145,
   "id": "b4599649",
   "metadata": {},
   "outputs": [
    {
     "data": {
      "text/plain": [
       "array(['Century City Mall, Poblacion, Makati City, Makati City',\n",
       "       'Little Tokyo, Legaspi Village, Makati City, Makati City',\n",
       "       'Edsa Shangri-La, Ortigas, Mandaluyong City, Mandaluyong City',\n",
       "       'SM Megamall, Ortigas, Mandaluyong City, Mandaluyong City',\n",
       "       'SM Megamall, Ortigas, Mandaluyong City, Mandaluyong City',\n",
       "       'SM Megamall, Ortigas, Mandaluyong City, Mandaluyong City',\n",
       "       'SM by the Bay, Mall of Asia Complex, Pasay City, Pasay City',\n",
       "       'SM by the Bay, Mall of Asia Complex, Pasay City, Pasay City',\n",
       "       'Sofitel Philippine Plaza Manila, Pasay City, Pasay City',\n",
       "       'Kapitolyo, Pasig City', 'Kapitolyo, Pasig City',\n",
       "       'Kapitolyo, Pasig City',\n",
       "       'UP Town Center, Diliman, Quezon City, Quezon City',\n",
       "       'Addition Hills, San Juan City', 'Little Baguio, San Juan City',\n",
       "       'Nuvali, Don Jose, Santa Rosa, Santa Rosa',\n",
       "       'Solenad 3, Don Jose, Santa Rosa, Santa Rosa',\n",
       "       'Tagaytay City, Tagaytay City',\n",
       "       'BGC Stopover Pavillion, Bonifacio Global City, Taguig City',\n",
       "       'Bonifacio Global City, Taguig City'], dtype=object)"
      ]
     },
     "execution_count": 145,
     "metadata": {},
     "output_type": "execute_result"
    }
   ],
   "source": [
    "df['Locality_Verbose'].values [0:20]"
   ]
  },
  {
   "cell_type": "markdown",
   "id": "4035aae6",
   "metadata": {},
   "source": [
    "#### On checking the locality and locality verbose column values, it seems like they are providing the same kind of data and has high cardinality. Hence will drop both of them from the x features.\n"
   ]
  },
  {
   "cell_type": "code",
   "execution_count": 149,
   "id": "29d7e22a",
   "metadata": {},
   "outputs": [
    {
     "data": {
      "text/plain": [
       "array(['French, Japanese, Desserts', 'Japanese',\n",
       "       'Seafood, Asian, Filipino, Indian', 'Japanese, Sushi',\n",
       "       'Japanese, Korean', 'Chinese', 'Asian, European',\n",
       "       'Seafood, Filipino, Asian, European', 'European, Asian, Indian',\n",
       "       'Filipino', 'Filipino, Mexican', 'American, Ice Cream, Desserts',\n",
       "       'Filipino, Mexican', 'Filipino', 'Korean',\n",
       "       'Cafe, American, Italian, Filipino', 'Italian, Pizza', 'Filipino',\n",
       "       'Cafe, Korean, Desserts', 'Cafe, Bakery, American, Italian'],\n",
       "      dtype=object)"
      ]
     },
     "execution_count": 149,
     "metadata": {},
     "output_type": "execute_result"
    }
   ],
   "source": [
    "df['Cuisines'].values [0:20]"
   ]
  },
  {
   "cell_type": "code",
   "execution_count": 434,
   "id": "7cfaeb6b",
   "metadata": {},
   "outputs": [],
   "source": [
    "# Splitting the cuisines column at ', ' and then caculating the length of each list in the cell and\n",
    "# storing them in 'No_of_cuisines' column. This column might provide useful information in predicting price_range and cost both.\n",
    "df['No_of_cuisines']=df['Cuisines'].str.split(', ').str.len()"
   ]
  },
  {
   "cell_type": "code",
   "execution_count": 435,
   "id": "3642bc2f",
   "metadata": {},
   "outputs": [
    {
     "data": {
      "text/html": [
       "<div>\n",
       "<style scoped>\n",
       "    .dataframe tbody tr th:only-of-type {\n",
       "        vertical-align: middle;\n",
       "    }\n",
       "\n",
       "    .dataframe tbody tr th {\n",
       "        vertical-align: top;\n",
       "    }\n",
       "\n",
       "    .dataframe thead th {\n",
       "        text-align: right;\n",
       "    }\n",
       "</style>\n",
       "<table border=\"1\" class=\"dataframe\">\n",
       "  <thead>\n",
       "    <tr style=\"text-align: right;\">\n",
       "      <th></th>\n",
       "      <th>Restaurant_Name</th>\n",
       "      <th>No_of_cuisines</th>\n",
       "      <th>City</th>\n",
       "      <th>Average_Cost_for_two_USD</th>\n",
       "      <th>Price_range</th>\n",
       "      <th>Aggregate_rating</th>\n",
       "      <th>Votes</th>\n",
       "    </tr>\n",
       "  </thead>\n",
       "  <tbody>\n",
       "    <tr>\n",
       "      <th>0</th>\n",
       "      <td>Le Petit Souffle</td>\n",
       "      <td>3</td>\n",
       "      <td>Makati City</td>\n",
       "      <td>82.91140</td>\n",
       "      <td>3</td>\n",
       "      <td>4.8</td>\n",
       "      <td>314</td>\n",
       "    </tr>\n",
       "    <tr>\n",
       "      <th>1</th>\n",
       "      <td>Izakaya Kikufuji</td>\n",
       "      <td>1</td>\n",
       "      <td>Makati City</td>\n",
       "      <td>90.44880</td>\n",
       "      <td>3</td>\n",
       "      <td>4.5</td>\n",
       "      <td>591</td>\n",
       "    </tr>\n",
       "    <tr>\n",
       "      <th>2</th>\n",
       "      <td>Heat - Edsa Shangri-La</td>\n",
       "      <td>4</td>\n",
       "      <td>Mandaluyong City</td>\n",
       "      <td>301.49600</td>\n",
       "      <td>4</td>\n",
       "      <td>4.4</td>\n",
       "      <td>270</td>\n",
       "    </tr>\n",
       "    <tr>\n",
       "      <th>3</th>\n",
       "      <td>Ooma</td>\n",
       "      <td>2</td>\n",
       "      <td>Mandaluyong City</td>\n",
       "      <td>113.06100</td>\n",
       "      <td>4</td>\n",
       "      <td>4.9</td>\n",
       "      <td>365</td>\n",
       "    </tr>\n",
       "    <tr>\n",
       "      <th>4</th>\n",
       "      <td>Sambo Kojin</td>\n",
       "      <td>2</td>\n",
       "      <td>Mandaluyong City</td>\n",
       "      <td>113.06100</td>\n",
       "      <td>4</td>\n",
       "      <td>4.8</td>\n",
       "      <td>229</td>\n",
       "    </tr>\n",
       "    <tr>\n",
       "      <th>...</th>\n",
       "      <td>...</td>\n",
       "      <td>...</td>\n",
       "      <td>...</td>\n",
       "      <td>...</td>\n",
       "      <td>...</td>\n",
       "      <td>...</td>\n",
       "      <td>...</td>\n",
       "    </tr>\n",
       "    <tr>\n",
       "      <th>9546</th>\n",
       "      <td>NamlÛ± Gurme</td>\n",
       "      <td>1</td>\n",
       "      <td>ÛÁstanbul</td>\n",
       "      <td>2.34944</td>\n",
       "      <td>3</td>\n",
       "      <td>4.1</td>\n",
       "      <td>788</td>\n",
       "    </tr>\n",
       "    <tr>\n",
       "      <th>9547</th>\n",
       "      <td>Ceviz AÛôacÛ±</td>\n",
       "      <td>3</td>\n",
       "      <td>ÛÁstanbul</td>\n",
       "      <td>3.08364</td>\n",
       "      <td>3</td>\n",
       "      <td>4.2</td>\n",
       "      <td>1034</td>\n",
       "    </tr>\n",
       "    <tr>\n",
       "      <th>9548</th>\n",
       "      <td>Huqqa</td>\n",
       "      <td>2</td>\n",
       "      <td>ÛÁstanbul</td>\n",
       "      <td>4.99256</td>\n",
       "      <td>4</td>\n",
       "      <td>3.7</td>\n",
       "      <td>661</td>\n",
       "    </tr>\n",
       "    <tr>\n",
       "      <th>9549</th>\n",
       "      <td>Aôôk Kahve</td>\n",
       "      <td>1</td>\n",
       "      <td>ÛÁstanbul</td>\n",
       "      <td>3.52416</td>\n",
       "      <td>4</td>\n",
       "      <td>4.0</td>\n",
       "      <td>901</td>\n",
       "    </tr>\n",
       "    <tr>\n",
       "      <th>9550</th>\n",
       "      <td>Walter's Coffee Roastery</td>\n",
       "      <td>1</td>\n",
       "      <td>ÛÁstanbul</td>\n",
       "      <td>1.61524</td>\n",
       "      <td>2</td>\n",
       "      <td>4.0</td>\n",
       "      <td>591</td>\n",
       "    </tr>\n",
       "  </tbody>\n",
       "</table>\n",
       "<p>9031 rows × 7 columns</p>\n",
       "</div>"
      ],
      "text/plain": [
       "               Restaurant_Name  No_of_cuisines              City  \\\n",
       "0             Le Petit Souffle               3       Makati City   \n",
       "1             Izakaya Kikufuji               1       Makati City   \n",
       "2       Heat - Edsa Shangri-La               4  Mandaluyong City   \n",
       "3                         Ooma               2  Mandaluyong City   \n",
       "4                  Sambo Kojin               2  Mandaluyong City   \n",
       "...                        ...             ...               ...   \n",
       "9546              NamlÛ± Gurme               1         ÛÁstanbul   \n",
       "9547             Ceviz AÛôacÛ±               3         ÛÁstanbul   \n",
       "9548                     Huqqa               2         ÛÁstanbul   \n",
       "9549              Aôôk Kahve               1         ÛÁstanbul   \n",
       "9550  Walter's Coffee Roastery               1         ÛÁstanbul   \n",
       "\n",
       "      Average_Cost_for_two_USD  Price_range  Aggregate_rating  Votes  \n",
       "0                     82.91140            3               4.8    314  \n",
       "1                     90.44880            3               4.5    591  \n",
       "2                    301.49600            4               4.4    270  \n",
       "3                    113.06100            4               4.9    365  \n",
       "4                    113.06100            4               4.8    229  \n",
       "...                        ...          ...               ...    ...  \n",
       "9546                   2.34944            3               4.1    788  \n",
       "9547                   3.08364            3               4.2   1034  \n",
       "9548                   4.99256            4               3.7    661  \n",
       "9549                   3.52416            4               4.0    901  \n",
       "9550                   1.61524            2               4.0    591  \n",
       "\n",
       "[9031 rows x 7 columns]"
      ]
     },
     "execution_count": 435,
     "metadata": {},
     "output_type": "execute_result"
    }
   ],
   "source": [
    "df[['Restaurant_Name','No_of_cuisines','City','Average_Cost_for_two_USD', 'Price_range', 'Aggregate_rating','Votes']]"
   ]
  },
  {
   "cell_type": "code",
   "execution_count": 436,
   "id": "545963e3",
   "metadata": {},
   "outputs": [],
   "source": [
    "#Now just storing the split of cuisines into cuisines_split\n",
    "df['Cuisines_split'] = df['Cuisines'].str.split(', ')"
   ]
  },
  {
   "cell_type": "code",
   "execution_count": 437,
   "id": "01ba747f",
   "metadata": {},
   "outputs": [
    {
     "data": {
      "text/plain": [
       "0             [French, Japanese, Desserts]\n",
       "1                               [Japanese]\n",
       "2       [Seafood, Asian, Filipino, Indian]\n",
       "3                        [Japanese, Sushi]\n",
       "4                       [Japanese, Korean]\n",
       "                       ...                \n",
       "9546                             [Turkish]\n",
       "9547     [World Cuisine, Patisserie, Cafe]\n",
       "9548              [Italian, World Cuisine]\n",
       "9549                     [Restaurant Cafe]\n",
       "9550                                [Cafe]\n",
       "Name: Cuisines_split, Length: 9031, dtype: object"
      ]
     },
     "execution_count": 437,
     "metadata": {},
     "output_type": "execute_result"
    }
   ],
   "source": [
    "df['Cuisines_split']"
   ]
  },
  {
   "cell_type": "code",
   "execution_count": 451,
   "id": "b28bc6cb",
   "metadata": {},
   "outputs": [],
   "source": [
    "#Applying MLB to get unique binary columns for each cuisines\n",
    "mlb = MultiLabelBinarizer()\n",
    "cuisines_encoded = pd.DataFrame(mlb.fit_transform(df['Cuisines_split']), columns=mlb.classes_, index=df.index)"
   ]
  },
  {
   "cell_type": "code",
   "execution_count": 452,
   "id": "97931f95",
   "metadata": {},
   "outputs": [],
   "source": [
    "# Concatenate the encoded columns with the original DataFrame\n",
    "df = pd.concat([df, cuisines_encoded], axis=1)"
   ]
  },
  {
   "cell_type": "code",
   "execution_count": null,
   "id": "5081a124",
   "metadata": {},
   "outputs": [],
   "source": []
  },
  {
   "cell_type": "code",
   "execution_count": null,
   "id": "500a9670",
   "metadata": {},
   "outputs": [],
   "source": []
  },
  {
   "cell_type": "code",
   "execution_count": 453,
   "id": "02637d89",
   "metadata": {},
   "outputs": [
    {
     "data": {
      "text/plain": [
       "170"
      ]
     },
     "execution_count": 453,
     "metadata": {},
     "output_type": "execute_result"
    }
   ],
   "source": [
    "len(df.columns)"
   ]
  },
  {
   "cell_type": "code",
   "execution_count": 454,
   "id": "a101f9bf",
   "metadata": {},
   "outputs": [
    {
     "data": {
      "text/plain": [
       "array(['Restaurant_ID', 'Restaurant_Name', 'Country_Code', 'City',\n",
       "       'Address', 'Locality', 'Locality_Verbose', 'Longitude', 'Latitude',\n",
       "       'Cuisines', 'Average_Cost_for_two', 'Currency',\n",
       "       'Has_Table_booking', 'Has_Online_delivery', 'Is_delivering_now',\n",
       "       'Switch_to_order_menu', 'Price_range', 'Aggregate_rating',\n",
       "       'Rating_color', 'Rating_text', 'Votes', 'Conversion_Rate',\n",
       "       'Average_Cost_for_two_USD', 'City_encoded', 'No_of_cuisines',\n",
       "       'Cuisines_split', 'Afghani', 'African', 'American', 'Andhra',\n",
       "       'Arabian', 'Argentine', 'Armenian', 'Asian', 'Asian Fusion',\n",
       "       'Assamese', 'Australian', 'Awadhi', 'BBQ', 'Bakery', 'Bar Food',\n",
       "       'Belgian', 'Bengali', 'Beverages', 'Bihari', 'Biryani',\n",
       "       'Brazilian', 'Breakfast', 'British', 'Bubble Tea', 'Burger',\n",
       "       'Burmese', 'Bí_rek', 'Cafe', 'Cajun', 'Canadian', 'Cantonese',\n",
       "       'Caribbean', 'Charcoal Grill', 'Chettinad', 'Chinese',\n",
       "       'Coffee and Tea', 'Contemporary', 'Continental', 'Cuban', 'Curry',\n",
       "       'Deli', 'Desserts', 'Dim Sum', 'Diner', 'Drinks Only', 'Durban',\n",
       "       'Dí_ner', 'European', 'Fast Food', 'Filipino', 'Finger Food',\n",
       "       'Fish and Chips', 'French', 'Fusion', 'German', 'Goan',\n",
       "       'Gourmet Fast Food', 'Greek', 'Grill', 'Gujarati', 'Hawaiian',\n",
       "       'Healthy Food', 'Hyderabadi', 'Ice Cream', 'Indian', 'Indonesian',\n",
       "       'International', 'Iranian', 'Irish', 'Italian', 'Izgara',\n",
       "       'Japanese', 'Juices', 'Kashmiri', 'Kebab', 'Kerala', 'Kiwi',\n",
       "       'Korean', 'Latin American', 'Lebanese', 'Lucknowi',\n",
       "       'Maharashtrian', 'Malay', 'Malaysian', 'Malwani', 'Mangalorean',\n",
       "       'Mediterranean', 'Mexican', 'Middle Eastern', 'Mineira', 'Mithai',\n",
       "       'Modern Australian', 'Modern Indian', 'Moroccan', 'Mughlai',\n",
       "       'Naga', 'Nepalese', 'New American', 'North Eastern',\n",
       "       'North Indian', 'Oriya', 'Pakistani', 'Parsi', 'Patisserie',\n",
       "       'Peranakan', 'Persian', 'Peruvian', 'Pizza', 'Portuguese',\n",
       "       'Pub Food', 'Rajasthani', 'Ramen', 'Raw Meats', 'Restaurant Cafe',\n",
       "       'Salad', 'Sandwich', 'Scottish', 'Seafood', 'Singaporean',\n",
       "       'Soul Food', 'South African', 'South American', 'South Indian',\n",
       "       'Southern', 'Southwestern', 'Spanish', 'Sri Lankan', 'Steak',\n",
       "       'Street Food', 'Sunda', 'Sushi', 'Taiwanese', 'Tapas', 'Tea',\n",
       "       'Teriyaki', 'Tex-Mex', 'Thai', 'Tibetan', 'Turkish',\n",
       "       'Turkish Pizza', 'Vegetarian', 'Vietnamese', 'Western',\n",
       "       'World Cuisine'], dtype=object)"
      ]
     },
     "execution_count": 454,
     "metadata": {},
     "output_type": "execute_result"
    }
   ],
   "source": [
    "df.columns.values"
   ]
  },
  {
   "cell_type": "code",
   "execution_count": 455,
   "id": "f315c175",
   "metadata": {},
   "outputs": [
    {
     "data": {
      "image/png": "[encoded data removed]",
      "text/plain": [
       "<Figure size 1000x600 with 1 Axes>"
      ]
     },
     "metadata": {},
     "output_type": "display_data"
    }
   ],
   "source": [
    "plt.figure(figsize=(10,6))\n",
    "sns.scatterplot(x=df['Longitude'],y=df['Latitude'],data=df,hue=df['Rating_color'])\n",
    "plt.xlabel('Longitude')\n",
    "plt.ylabel('Latitude')\n",
    "plt.title('Scatter plot of Longitude and Latitude')\n",
    "plt.show()\n"
   ]
  },
  {
   "cell_type": "code",
   "execution_count": 456,
   "id": "ff4308ba",
   "metadata": {},
   "outputs": [
    {
     "data": {
      "text/plain": [
       "1    4139\n",
       "2    2965\n",
       "3    1357\n",
       "4     570\n",
       "Name: Price_range, dtype: int64"
      ]
     },
     "execution_count": 456,
     "metadata": {},
     "output_type": "execute_result"
    }
   ],
   "source": [
    "df['Price_range'].value_counts()"
   ]
  },
  {
   "cell_type": "code",
   "execution_count": null,
   "id": "17ca408e",
   "metadata": {},
   "outputs": [],
   "source": []
  },
  {
   "cell_type": "code",
   "execution_count": 457,
   "id": "15cffff5",
   "metadata": {},
   "outputs": [],
   "source": [
    "x=df.drop(['Average_Cost_for_two_USD','Average_Cost_for_two','Conversion_Rate','Address',\n",
    "           'Locality','Locality_Verbose','City','Price_range','Switch_to_order_menu','Restaurant_ID',\n",
    "           'Restaurant_Name','Rating_color','Cuisines','Cuisines_split','Currency'],axis=1)"
   ]
  },
  {
   "cell_type": "code",
   "execution_count": 458,
   "id": "2bb48987",
   "metadata": {},
   "outputs": [],
   "source": [
    "y_pr=df['Price_range']"
   ]
  },
  {
   "cell_type": "code",
   "execution_count": 459,
   "id": "f2e4fe8d",
   "metadata": {},
   "outputs": [],
   "source": [
    "y_ac=df['Average_Cost_for_two_USD']"
   ]
  },
  {
   "cell_type": "code",
   "execution_count": 460,
   "id": "28759980",
   "metadata": {},
   "outputs": [],
   "source": [
    "catx=[col for col in x.columns if x[col].dtypes=='O']"
   ]
  },
  {
   "cell_type": "code",
   "execution_count": 461,
   "id": "6f286098",
   "metadata": {},
   "outputs": [
    {
     "data": {
      "text/plain": [
       "['Has_Table_booking',\n",
       " 'Has_Online_delivery',\n",
       " 'Is_delivering_now',\n",
       " 'Rating_text']"
      ]
     },
     "execution_count": 461,
     "metadata": {},
     "output_type": "execute_result"
    }
   ],
   "source": [
    "catx"
   ]
  },
  {
   "cell_type": "code",
   "execution_count": 465,
   "id": "dd018de2",
   "metadata": {},
   "outputs": [
    {
     "data": {
      "text/html": [
       "<div>\n",
       "<style scoped>\n",
       "    .dataframe tbody tr th:only-of-type {\n",
       "        vertical-align: middle;\n",
       "    }\n",
       "\n",
       "    .dataframe tbody tr th {\n",
       "        vertical-align: top;\n",
       "    }\n",
       "\n",
       "    .dataframe thead th {\n",
       "        text-align: right;\n",
       "    }\n",
       "</style>\n",
       "<table border=\"1\" class=\"dataframe\">\n",
       "  <thead>\n",
       "    <tr style=\"text-align: right;\">\n",
       "      <th></th>\n",
       "      <th>Country_Code</th>\n",
       "      <th>Longitude</th>\n",
       "      <th>Latitude</th>\n",
       "      <th>Has_Table_booking</th>\n",
       "      <th>Has_Online_delivery</th>\n",
       "      <th>Is_delivering_now</th>\n",
       "      <th>Aggregate_rating</th>\n",
       "      <th>Rating_text</th>\n",
       "      <th>Votes</th>\n",
       "      <th>City_encoded</th>\n",
       "      <th>...</th>\n",
       "      <th>Teriyaki</th>\n",
       "      <th>Tex-Mex</th>\n",
       "      <th>Thai</th>\n",
       "      <th>Tibetan</th>\n",
       "      <th>Turkish</th>\n",
       "      <th>Turkish Pizza</th>\n",
       "      <th>Vegetarian</th>\n",
       "      <th>Vietnamese</th>\n",
       "      <th>Western</th>\n",
       "      <th>World Cuisine</th>\n",
       "    </tr>\n",
       "  </thead>\n",
       "  <tbody>\n",
       "  </tbody>\n",
       "</table>\n",
       "<p>0 rows × 155 columns</p>\n",
       "</div>"
      ],
      "text/plain": [
       "Empty DataFrame\n",
       "Columns: [Country_Code, Longitude, Latitude, Has_Table_booking, Has_Online_delivery, Is_delivering_now, Aggregate_rating, Rating_text, Votes, City_encoded, No_of_cuisines, Afghani, African, American, Andhra, Arabian, Argentine, Armenian, Asian, Asian Fusion, Assamese, Australian, Awadhi, BBQ, Bakery, Bar Food, Belgian, Bengali, Beverages, Bihari, Biryani, Brazilian, Breakfast, British, Bubble Tea, Burger, Burmese, Bí_rek, Cafe, Cajun, Canadian, Cantonese, Caribbean, Charcoal Grill, Chettinad, Chinese, Coffee and Tea, Contemporary, Continental, Cuban, Curry, Deli, Desserts, Dim Sum, Diner, Drinks Only, Durban, Dí_ner, European, Fast Food, Filipino, Finger Food, Fish and Chips, French, Fusion, German, Goan, Gourmet Fast Food, Greek, Grill, Gujarati, Hawaiian, Healthy Food, Hyderabadi, Ice Cream, Indian, Indonesian, International, Iranian, Irish, Italian, Izgara, Japanese, Juices, Kashmiri, Kebab, Kerala, Kiwi, Korean, Latin American, Lebanese, Lucknowi, Maharashtrian, Malay, Malaysian, Malwani, Mangalorean, Mediterranean, Mexican, Middle Eastern, ...]\n",
       "Index: []\n",
       "\n",
       "[0 rows x 155 columns]"
      ]
     },
     "execution_count": 465,
     "metadata": {},
     "output_type": "execute_result"
    }
   ],
   "source": [
    "x[x['City_encoded'].isna()].head(60)"
   ]
  },
  {
   "cell_type": "code",
   "execution_count": 466,
   "id": "40c2b153",
   "metadata": {},
   "outputs": [
    {
     "data": {
      "text/plain": [
       "Index([], dtype='object')"
      ]
     },
     "execution_count": 466,
     "metadata": {},
     "output_type": "execute_result"
    }
   ],
   "source": [
    "df.columns[df.isna().any()]"
   ]
  },
  {
   "cell_type": "code",
   "execution_count": 467,
   "id": "0f9a612d",
   "metadata": {},
   "outputs": [],
   "source": [
    "rating_order=[['Not rated','Poor','Average','Good','Very Good','Excellent']]"
   ]
  },
  {
   "cell_type": "code",
   "execution_count": 468,
   "id": "853fcce8",
   "metadata": {},
   "outputs": [],
   "source": [
    "scale_cols=['Longitude','Latitude','Votes']"
   ]
  },
  {
   "cell_type": "code",
   "execution_count": 469,
   "id": "1e80ae1f",
   "metadata": {},
   "outputs": [],
   "source": [
    "ohe_cols=['Has_Table_booking','Has_Online_delivery', 'Is_delivering_now',]"
   ]
  },
  {
   "cell_type": "code",
   "execution_count": 470,
   "id": "d1477851",
   "metadata": {},
   "outputs": [],
   "source": [
    "ohe=OneHotEncoder(sparse=False, categories='auto')"
   ]
  },
  {
   "cell_type": "code",
   "execution_count": 471,
   "id": "26431f24",
   "metadata": {},
   "outputs": [],
   "source": [
    "ordenc=OrdinalEncoder(categories=rating_order)"
   ]
  },
  {
   "cell_type": "code",
   "execution_count": 472,
   "id": "afa9a775",
   "metadata": {},
   "outputs": [],
   "source": [
    "scaler=StandardScaler()"
   ]
  },
  {
   "cell_type": "code",
   "execution_count": 473,
   "id": "dd6b3441",
   "metadata": {},
   "outputs": [],
   "source": [
    "transform=ColumnTransformer(transformers=[\n",
    "    ('scaler',scaler,scale_cols),\n",
    "    ('OneHot',ohe,ohe_cols),\n",
    "    ('Ordinal',ordenc,['Rating_text'])\n",
    "],remainder='passthrough')\n",
    "\n",
    "pipepr=imPipeline(steps=[\n",
    "    ('preprocessor',transform),\n",
    "    ('smote',SMOTE(random_state=42)),\n",
    "    ('model_pr',RandomForestClassifier())\n",
    "])\n",
    "\n",
    "pipeac=Pipeline(steps=[\n",
    "    ('preprocessor',transform),\n",
    "    ('model_ac',RandomForestRegressor())\n",
    "])\n",
    "\n",
    "\n",
    "model_grid_pr=[\n",
    "    {'model_pr': [RandomForestClassifier()]},\n",
    "    {'model_pr': [GradientBoostingClassifier()]},\n",
    "    {'model_pr': [RandomForestClassifier()]},\n",
    "    {'model_pr': [xgb.XGBClassifier()]},\n",
    "    {'model_pr': [AdaBoostClassifier()]},\n",
    "    {'model_pr': [LogisticRegression()]},\n",
    "    {'model_pr': [SVC()]}\n",
    "    \n",
    "]\n",
    "\n",
    "model_grid_ac=[\n",
    "    {'model_ac': [RandomForestRegressor()]},\n",
    "    {'model_ac': [GradientBoostingRegressor()]},\n",
    "    {'model_ac': [LinearRegression()]},\n",
    "    {'model_ac': [Ridge()]},\n",
    "    {'model_ac': [SVR()]}   \n",
    "]"
   ]
  },
  {
   "cell_type": "code",
   "execution_count": 474,
   "id": "faa1cd22",
   "metadata": {},
   "outputs": [
    {
     "data": {
      "text/plain": [
       "1    4139\n",
       "2    2965\n",
       "3    1357\n",
       "4     570\n",
       "Name: Price_range, dtype: int64"
      ]
     },
     "execution_count": 474,
     "metadata": {},
     "output_type": "execute_result"
    }
   ],
   "source": [
    "y_pr.value_counts()"
   ]
  },
  {
   "cell_type": "code",
   "execution_count": 475,
   "id": "a768fec9",
   "metadata": {},
   "outputs": [],
   "source": [
    "xtrain_pr,xtest_pr,ytrain_pr,ytest_pr=train_test_split(x,y_pr,test_size=0.30,random_state=42)"
   ]
  },
  {
   "cell_type": "code",
   "execution_count": 476,
   "id": "b0fbfb37",
   "metadata": {},
   "outputs": [],
   "source": [
    "xtrain_ac,xtest_ac,ytrain_ac,ytest_ac=train_test_split(x,y_ac,test_size=0.30,random_state=42)"
   ]
  },
  {
   "cell_type": "code",
   "execution_count": 477,
   "id": "157c9772",
   "metadata": {},
   "outputs": [],
   "source": [
    "gscvpr=GridSearchCV(pipepr,model_grid_pr,cv=5,scoring='accuracy',verbose=2)"
   ]
  },
  {
   "cell_type": "code",
   "execution_count": 478,
   "id": "155e9612",
   "metadata": {},
   "outputs": [
    {
     "name": "stdout",
     "output_type": "stream",
     "text": [
      "Fitting 5 folds for each of 7 candidates, totalling 35 fits\n",
      "[CV] END ..................model_pr=RandomForestClassifier(); total time=   1.5s\n",
      "[CV] END ..................model_pr=RandomForestClassifier(); total time=   1.5s\n",
      "[CV] END ..................model_pr=RandomForestClassifier(); total time=   1.4s\n",
      "[CV] END ..................model_pr=RandomForestClassifier(); total time=   1.4s\n",
      "[CV] END ..................model_pr=RandomForestClassifier(); total time=   1.4s\n",
      "[CV] END ..............model_pr=GradientBoostingClassifier(); total time=  13.7s\n",
      "[CV] END ..............model_pr=GradientBoostingClassifier(); total time=  14.4s\n",
      "[CV] END ..............model_pr=GradientBoostingClassifier(); total time=  15.6s\n",
      "[CV] END ..............model_pr=GradientBoostingClassifier(); total time=  17.5s\n",
      "[CV] END ..............model_pr=GradientBoostingClassifier(); total time=  16.1s\n",
      "[CV] END ..................model_pr=RandomForestClassifier(); total time=   1.8s\n",
      "[CV] END ..................model_pr=RandomForestClassifier(); total time=   1.7s\n",
      "[CV] END ..................model_pr=RandomForestClassifier(); total time=   1.8s\n",
      "[CV] END ..................model_pr=RandomForestClassifier(); total time=   1.8s\n",
      "[CV] END ..................model_pr=RandomForestClassifier(); total time=   1.9s\n",
      "[CV] END model_pr=XGBClassifier(base_score=None, booster=None, callbacks=None,\n",
      "              colsample_bylevel=None, colsample_bynode=None,\n",
      "              colsample_bytree=None, device=None, early_stopping_rounds=None,\n",
      "              enable_categorical=False, eval_metric=None, feature_types=None,\n",
      "              gamma=None, grow_policy=None, importance_type=None,\n",
      "              interaction_constraints=None, learning_rate=None, max_bin=None,\n",
      "              max_cat_threshold=None, max_cat_to_onehot=None,\n",
      "              max_delta_step=None, max_depth=None, max_leaves=None,\n",
      "              min_child_weight=None, missing=nan, monotone_constraints=None,\n",
      "              multi_strategy=None, n_estimators=None, n_jobs=None,\n",
      "              num_parallel_tree=None, random_state=None, ...); total time=   0.2s\n",
      "[CV] END model_pr=XGBClassifier(base_score=None, booster=None, callbacks=None,\n",
      "              colsample_bylevel=None, colsample_bynode=None,\n",
      "              colsample_bytree=None, device=None, early_stopping_rounds=None,\n",
      "              enable_categorical=False, eval_metric=None, feature_types=None,\n",
      "              gamma=None, grow_policy=None, importance_type=None,\n",
      "              interaction_constraints=None, learning_rate=None, max_bin=None,\n",
      "              max_cat_threshold=None, max_cat_to_onehot=None,\n",
      "              max_delta_step=None, max_depth=None, max_leaves=None,\n",
      "              min_child_weight=None, missing=nan, monotone_constraints=None,\n",
      "              multi_strategy=None, n_estimators=None, n_jobs=None,\n",
      "              num_parallel_tree=None, random_state=None, ...); total time=   0.1s\n",
      "[CV] END model_pr=XGBClassifier(base_score=None, booster=None, callbacks=None,\n",
      "              colsample_bylevel=None, colsample_bynode=None,\n",
      "              colsample_bytree=None, device=None, early_stopping_rounds=None,\n",
      "              enable_categorical=False, eval_metric=None, feature_types=None,\n",
      "              gamma=None, grow_policy=None, importance_type=None,\n",
      "              interaction_constraints=None, learning_rate=None, max_bin=None,\n",
      "              max_cat_threshold=None, max_cat_to_onehot=None,\n",
      "              max_delta_step=None, max_depth=None, max_leaves=None,\n",
      "              min_child_weight=None, missing=nan, monotone_constraints=None,\n",
      "              multi_strategy=None, n_estimators=None, n_jobs=None,\n",
      "              num_parallel_tree=None, random_state=None, ...); total time=   0.1s\n",
      "[CV] END model_pr=XGBClassifier(base_score=None, booster=None, callbacks=None,\n",
      "              colsample_bylevel=None, colsample_bynode=None,\n",
      "              colsample_bytree=None, device=None, early_stopping_rounds=None,\n",
      "              enable_categorical=False, eval_metric=None, feature_types=None,\n",
      "              gamma=None, grow_policy=None, importance_type=None,\n",
      "              interaction_constraints=None, learning_rate=None, max_bin=None,\n",
      "              max_cat_threshold=None, max_cat_to_onehot=None,\n",
      "              max_delta_step=None, max_depth=None, max_leaves=None,\n",
      "              min_child_weight=None, missing=nan, monotone_constraints=None,\n",
      "              multi_strategy=None, n_estimators=None, n_jobs=None,\n",
      "              num_parallel_tree=None, random_state=None, ...); total time=   0.1s\n",
      "[CV] END model_pr=XGBClassifier(base_score=None, booster=None, callbacks=None,\n",
      "              colsample_bylevel=None, colsample_bynode=None,\n",
      "              colsample_bytree=None, device=None, early_stopping_rounds=None,\n",
      "              enable_categorical=False, eval_metric=None, feature_types=None,\n",
      "              gamma=None, grow_policy=None, importance_type=None,\n",
      "              interaction_constraints=None, learning_rate=None, max_bin=None,\n",
      "              max_cat_threshold=None, max_cat_to_onehot=None,\n",
      "              max_delta_step=None, max_depth=None, max_leaves=None,\n",
      "              min_child_weight=None, missing=nan, monotone_constraints=None,\n",
      "              multi_strategy=None, n_estimators=None, n_jobs=None,\n",
      "              num_parallel_tree=None, random_state=None, ...); total time=   0.1s\n",
      "[CV] END ......................model_pr=AdaBoostClassifier(); total time=   1.4s\n",
      "[CV] END ......................model_pr=AdaBoostClassifier(); total time=   1.4s\n",
      "[CV] END ......................model_pr=AdaBoostClassifier(); total time=   1.4s\n",
      "[CV] END ......................model_pr=AdaBoostClassifier(); total time=   1.4s\n",
      "[CV] END ......................model_pr=AdaBoostClassifier(); total time=   1.3s\n",
      "[CV] END ......................model_pr=LogisticRegression(); total time=   0.6s\n",
      "[CV] END ......................model_pr=LogisticRegression(); total time=   0.7s\n",
      "[CV] END ......................model_pr=LogisticRegression(); total time=   0.7s\n",
      "[CV] END ......................model_pr=LogisticRegression(); total time=   0.7s\n",
      "[CV] END ......................model_pr=LogisticRegression(); total time=   0.7s\n",
      "[CV] END .....................................model_pr=SVC(); total time=  18.2s\n",
      "[CV] END .....................................model_pr=SVC(); total time=  16.7s\n",
      "[CV] END .....................................model_pr=SVC(); total time=  16.8s\n",
      "[CV] END .....................................model_pr=SVC(); total time=  16.5s\n",
      "[CV] END .....................................model_pr=SVC(); total time=  16.6s\n"
     ]
    },
    {
     "data": {
      "text/html": [
       "<style>#sk-container-id-9 {color: black;background-color: white;}#sk-container-id-9 pre{padding: 0;}#sk-container-id-9 div.sk-toggleable {background-color: white;}#sk-container-id-9 label.sk-toggleable__label {cursor: pointer;display: block;width: 100%;margin-bottom: 0;padding: 0.3em;box-sizing: border-box;text-align: center;}#sk-container-id-9 label.sk-toggleable__label-arrow:before {content: \"▸\";float: left;margin-right: 0.25em;color: #696969;}#sk-container-id-9 label.sk-toggleable__label-arrow:hover:before {color: black;}#sk-container-id-9 div.sk-estimator:hover label.sk-toggleable__label-arrow:before {color: black;}#sk-container-id-9 div.sk-toggleable__content {max-height: 0;max-width: 0;overflow: hidden;text-align: left;background-color: #f0f8ff;}#sk-container-id-9 div.sk-toggleable__content pre {margin: 0.2em;color: black;border-radius: 0.25em;background-color: #f0f8ff;}#sk-container-id-9 input.sk-toggleable__control:checked~div.sk-toggleable__content {max-height: 200px;max-width: 100%;overflow: auto;}#sk-container-id-9 input.sk-toggleable__control:checked~label.sk-toggleable__label-arrow:before {content: \"▾\";}#sk-container-id-9 div.sk-estimator input.sk-toggleable__control:checked~label.sk-toggleable__label {background-color: #d4ebff;}#sk-container-id-9 div.sk-label input.sk-toggleable__control:checked~label.sk-toggleable__label {background-color: #d4ebff;}#sk-container-id-9 input.sk-hidden--visually {border: 0;clip: rect(1px 1px 1px 1px);clip: rect(1px, 1px, 1px, 1px);height: 1px;margin: -1px;overflow: hidden;padding: 0;position: absolute;width: 1px;}#sk-container-id-9 div.sk-estimator {font-family: monospace;background-color: #f0f8ff;border: 1px dotted black;border-radius: 0.25em;box-sizing: border-box;margin-bottom: 0.5em;}#sk-container-id-9 div.sk-estimator:hover {background-color: #d4ebff;}#sk-container-id-9 div.sk-parallel-item::after {content: \"\";width: 100%;border-bottom: 1px solid gray;flex-grow: 1;}#sk-container-id-9 div.sk-label:hover label.sk-toggleable__label {background-color: #d4ebff;}#sk-container-id-9 div.sk-serial::before {content: \"\";position: absolute;border-left: 1px solid gray;box-sizing: border-box;top: 0;bottom: 0;left: 50%;z-index: 0;}#sk-container-id-9 div.sk-serial {display: flex;flex-direction: column;align-items: center;background-color: white;padding-right: 0.2em;padding-left: 0.2em;position: relative;}#sk-container-id-9 div.sk-item {position: relative;z-index: 1;}#sk-container-id-9 div.sk-parallel {display: flex;align-items: stretch;justify-content: center;background-color: white;position: relative;}#sk-container-id-9 div.sk-item::before, #sk-container-id-9 div.sk-parallel-item::before {content: \"\";position: absolute;border-left: 1px solid gray;box-sizing: border-box;top: 0;bottom: 0;left: 50%;z-index: -1;}#sk-container-id-9 div.sk-parallel-item {display: flex;flex-direction: column;z-index: 1;position: relative;background-color: white;}#sk-container-id-9 div.sk-parallel-item:first-child::after {align-self: flex-end;width: 50%;}#sk-container-id-9 div.sk-parallel-item:last-child::after {align-self: flex-start;width: 50%;}#sk-container-id-9 div.sk-parallel-item:only-child::after {width: 0;}#sk-container-id-9 div.sk-dashed-wrapped {border: 1px dashed gray;margin: 0 0.4em 0.5em 0.4em;box-sizing: border-box;padding-bottom: 0.4em;background-color: white;}#sk-container-id-9 div.sk-label label {font-family: monospace;font-weight: bold;display: inline-block;line-height: 1.2em;}#sk-container-id-9 div.sk-label-container {text-align: center;}#sk-container-id-9 div.sk-container {/* jupyter's `normalize.less` sets `[hidden] { display: none; }` but bootstrap.min.css set `[hidden] { display: none !important; }` so we also need the `!important` here to be able to override the default hidden behavior on the sphinx rendered scikit-learn.org. See: https://github.com/scikit-learn/scikit-learn/issues/21755 */display: inline-block !important;position: relative;}#sk-container-id-9 div.sk-text-repr-fallback {display: none;}</style><div id=\"sk-container-id-9\" class=\"sk-top-container\"><div class=\"sk-text-repr-fallback\"><pre>GridSearchCV(cv=5,\n",
       "             estimator=Pipeline(steps=[(&#x27;preprocessor&#x27;,\n",
       "                                        ColumnTransformer(remainder=&#x27;passthrough&#x27;,\n",
       "                                                          transformers=[(&#x27;scaler&#x27;,\n",
       "                                                                         StandardScaler(),\n",
       "                                                                         [&#x27;Longitude&#x27;,\n",
       "                                                                          &#x27;Latitude&#x27;,\n",
       "                                                                          &#x27;Votes&#x27;]),\n",
       "                                                                        (&#x27;OneHot&#x27;,\n",
       "                                                                         OneHotEncoder(sparse=False),\n",
       "                                                                         [&#x27;Has_Table_booking&#x27;,\n",
       "                                                                          &#x27;Has_Online_delivery&#x27;,\n",
       "                                                                          &#x27;Is_delivering_now&#x27;]),\n",
       "                                                                        (&#x27;Ordinal&#x27;,\n",
       "                                                                         OrdinalEncoder(categories=[[&#x27;Not &#x27;\n",
       "                                                                                                     &#x27;rated&#x27;,\n",
       "                                                                                                     &#x27;Poor&#x27;,\n",
       "                                                                                                     &#x27;Average&#x27;,\n",
       "                                                                                                     &#x27;...\n",
       "                                                     max_cat_to_onehot=None,\n",
       "                                                     max_delta_step=None,\n",
       "                                                     max_depth=None,\n",
       "                                                     max_leaves=None,\n",
       "                                                     min_child_weight=None,\n",
       "                                                     missing=nan,\n",
       "                                                     monotone_constraints=None,\n",
       "                                                     multi_strategy=None,\n",
       "                                                     n_estimators=None,\n",
       "                                                     n_jobs=None,\n",
       "                                                     num_parallel_tree=None,\n",
       "                                                     random_state=None, ...)]},\n",
       "                         {&#x27;model_pr&#x27;: [AdaBoostClassifier()]},\n",
       "                         {&#x27;model_pr&#x27;: [LogisticRegression()]},\n",
       "                         {&#x27;model_pr&#x27;: [SVC()]}],\n",
       "             scoring=&#x27;accuracy&#x27;, verbose=2)</pre><b>In a Jupyter environment, please rerun this cell to show the HTML representation or trust the notebook. <br />On GitHub, the HTML representation is unable to render, please try loading this page with nbviewer.org.</b></div><div class=\"sk-container\" hidden><div class=\"sk-item sk-dashed-wrapped\"><div class=\"sk-label-container\"><div class=\"sk-label sk-toggleable\"><input class=\"sk-toggleable__control sk-hidden--visually\" id=\"sk-estimator-id-98\" type=\"checkbox\" ><label for=\"sk-estimator-id-98\" class=\"sk-toggleable__label sk-toggleable__label-arrow\">GridSearchCV</label><div class=\"sk-toggleable__content\"><pre>GridSearchCV(cv=5,\n",
       "             estimator=Pipeline(steps=[(&#x27;preprocessor&#x27;,\n",
       "                                        ColumnTransformer(remainder=&#x27;passthrough&#x27;,\n",
       "                                                          transformers=[(&#x27;scaler&#x27;,\n",
       "                                                                         StandardScaler(),\n",
       "                                                                         [&#x27;Longitude&#x27;,\n",
       "                                                                          &#x27;Latitude&#x27;,\n",
       "                                                                          &#x27;Votes&#x27;]),\n",
       "                                                                        (&#x27;OneHot&#x27;,\n",
       "                                                                         OneHotEncoder(sparse=False),\n",
       "                                                                         [&#x27;Has_Table_booking&#x27;,\n",
       "                                                                          &#x27;Has_Online_delivery&#x27;,\n",
       "                                                                          &#x27;Is_delivering_now&#x27;]),\n",
       "                                                                        (&#x27;Ordinal&#x27;,\n",
       "                                                                         OrdinalEncoder(categories=[[&#x27;Not &#x27;\n",
       "                                                                                                     &#x27;rated&#x27;,\n",
       "                                                                                                     &#x27;Poor&#x27;,\n",
       "                                                                                                     &#x27;Average&#x27;,\n",
       "                                                                                                     &#x27;...\n",
       "                                                     max_cat_to_onehot=None,\n",
       "                                                     max_delta_step=None,\n",
       "                                                     max_depth=None,\n",
       "                                                     max_leaves=None,\n",
       "                                                     min_child_weight=None,\n",
       "                                                     missing=nan,\n",
       "                                                     monotone_constraints=None,\n",
       "                                                     multi_strategy=None,\n",
       "                                                     n_estimators=None,\n",
       "                                                     n_jobs=None,\n",
       "                                                     num_parallel_tree=None,\n",
       "                                                     random_state=None, ...)]},\n",
       "                         {&#x27;model_pr&#x27;: [AdaBoostClassifier()]},\n",
       "                         {&#x27;model_pr&#x27;: [LogisticRegression()]},\n",
       "                         {&#x27;model_pr&#x27;: [SVC()]}],\n",
       "             scoring=&#x27;accuracy&#x27;, verbose=2)</pre></div></div></div><div class=\"sk-parallel\"><div class=\"sk-parallel-item\"><div class=\"sk-item\"><div class=\"sk-label-container\"><div class=\"sk-label sk-toggleable\"><input class=\"sk-toggleable__control sk-hidden--visually\" id=\"sk-estimator-id-99\" type=\"checkbox\" ><label for=\"sk-estimator-id-99\" class=\"sk-toggleable__label sk-toggleable__label-arrow\">estimator: Pipeline</label><div class=\"sk-toggleable__content\"><pre>Pipeline(steps=[(&#x27;preprocessor&#x27;,\n",
       "                 ColumnTransformer(remainder=&#x27;passthrough&#x27;,\n",
       "                                   transformers=[(&#x27;scaler&#x27;, StandardScaler(),\n",
       "                                                  [&#x27;Longitude&#x27;, &#x27;Latitude&#x27;,\n",
       "                                                   &#x27;Votes&#x27;]),\n",
       "                                                 (&#x27;OneHot&#x27;,\n",
       "                                                  OneHotEncoder(sparse=False),\n",
       "                                                  [&#x27;Has_Table_booking&#x27;,\n",
       "                                                   &#x27;Has_Online_delivery&#x27;,\n",
       "                                                   &#x27;Is_delivering_now&#x27;]),\n",
       "                                                 (&#x27;Ordinal&#x27;,\n",
       "                                                  OrdinalEncoder(categories=[[&#x27;Not &#x27;\n",
       "                                                                              &#x27;rated&#x27;,\n",
       "                                                                              &#x27;Poor&#x27;,\n",
       "                                                                              &#x27;Average&#x27;,\n",
       "                                                                              &#x27;Good&#x27;,\n",
       "                                                                              &#x27;Very &#x27;\n",
       "                                                                              &#x27;Good&#x27;,\n",
       "                                                                              &#x27;Excellent&#x27;]]),\n",
       "                                                  [&#x27;Rating_text&#x27;])])),\n",
       "                (&#x27;smote&#x27;, SMOTE(random_state=42)),\n",
       "                (&#x27;model_pr&#x27;, RandomForestClassifier())])</pre></div></div></div><div class=\"sk-serial\"><div class=\"sk-item\"><div class=\"sk-serial\"><div class=\"sk-item sk-dashed-wrapped\"><div class=\"sk-label-container\"><div class=\"sk-label sk-toggleable\"><input class=\"sk-toggleable__control sk-hidden--visually\" id=\"sk-estimator-id-100\" type=\"checkbox\" ><label for=\"sk-estimator-id-100\" class=\"sk-toggleable__label sk-toggleable__label-arrow\">preprocessor: ColumnTransformer</label><div class=\"sk-toggleable__content\"><pre>ColumnTransformer(remainder=&#x27;passthrough&#x27;,\n",
       "                  transformers=[(&#x27;scaler&#x27;, StandardScaler(),\n",
       "                                 [&#x27;Longitude&#x27;, &#x27;Latitude&#x27;, &#x27;Votes&#x27;]),\n",
       "                                (&#x27;OneHot&#x27;, OneHotEncoder(sparse=False),\n",
       "                                 [&#x27;Has_Table_booking&#x27;, &#x27;Has_Online_delivery&#x27;,\n",
       "                                  &#x27;Is_delivering_now&#x27;]),\n",
       "                                (&#x27;Ordinal&#x27;,\n",
       "                                 OrdinalEncoder(categories=[[&#x27;Not rated&#x27;,\n",
       "                                                             &#x27;Poor&#x27;, &#x27;Average&#x27;,\n",
       "                                                             &#x27;Good&#x27;,\n",
       "                                                             &#x27;Very Good&#x27;,\n",
       "                                                             &#x27;Excellent&#x27;]]),\n",
       "                                 [&#x27;Rating_text&#x27;])])</pre></div></div></div><div class=\"sk-parallel\"><div class=\"sk-parallel-item\"><div class=\"sk-item\"><div class=\"sk-label-container\"><div class=\"sk-label sk-toggleable\"><input class=\"sk-toggleable__control sk-hidden--visually\" id=\"sk-estimator-id-101\" type=\"checkbox\" ><label for=\"sk-estimator-id-101\" class=\"sk-toggleable__label sk-toggleable__label-arrow\">scaler</label><div class=\"sk-toggleable__content\"><pre>[&#x27;Longitude&#x27;, &#x27;Latitude&#x27;, &#x27;Votes&#x27;]</pre></div></div></div><div class=\"sk-serial\"><div class=\"sk-item\"><div class=\"sk-estimator sk-toggleable\"><input class=\"sk-toggleable__control sk-hidden--visually\" id=\"sk-estimator-id-102\" type=\"checkbox\" ><label for=\"sk-estimator-id-102\" class=\"sk-toggleable__label sk-toggleable__label-arrow\">StandardScaler</label><div class=\"sk-toggleable__content\"><pre>StandardScaler()</pre></div></div></div></div></div></div><div class=\"sk-parallel-item\"><div class=\"sk-item\"><div class=\"sk-label-container\"><div class=\"sk-label sk-toggleable\"><input class=\"sk-toggleable__control sk-hidden--visually\" id=\"sk-estimator-id-103\" type=\"checkbox\" ><label for=\"sk-estimator-id-103\" class=\"sk-toggleable__label sk-toggleable__label-arrow\">OneHot</label><div class=\"sk-toggleable__content\"><pre>[&#x27;Has_Table_booking&#x27;, &#x27;Has_Online_delivery&#x27;, &#x27;Is_delivering_now&#x27;]</pre></div></div></div><div class=\"sk-serial\"><div class=\"sk-item\"><div class=\"sk-estimator sk-toggleable\"><input class=\"sk-toggleable__control sk-hidden--visually\" id=\"sk-estimator-id-104\" type=\"checkbox\" ><label for=\"sk-estimator-id-104\" class=\"sk-toggleable__label sk-toggleable__label-arrow\">OneHotEncoder</label><div class=\"sk-toggleable__content\"><pre>OneHotEncoder(sparse=False)</pre></div></div></div></div></div></div><div class=\"sk-parallel-item\"><div class=\"sk-item\"><div class=\"sk-label-container\"><div class=\"sk-label sk-toggleable\"><input class=\"sk-toggleable__control sk-hidden--visually\" id=\"sk-estimator-id-105\" type=\"checkbox\" ><label for=\"sk-estimator-id-105\" class=\"sk-toggleable__label sk-toggleable__label-arrow\">Ordinal</label><div class=\"sk-toggleable__content\"><pre>[&#x27;Rating_text&#x27;]</pre></div></div></div><div class=\"sk-serial\"><div class=\"sk-item\"><div class=\"sk-estimator sk-toggleable\"><input class=\"sk-toggleable__control sk-hidden--visually\" id=\"sk-estimator-id-106\" type=\"checkbox\" ><label for=\"sk-estimator-id-106\" class=\"sk-toggleable__label sk-toggleable__label-arrow\">OrdinalEncoder</label><div class=\"sk-toggleable__content\"><pre>OrdinalEncoder(categories=[[&#x27;Not rated&#x27;, &#x27;Poor&#x27;, &#x27;Average&#x27;, &#x27;Good&#x27;, &#x27;Very Good&#x27;,\n",
       "                            &#x27;Excellent&#x27;]])</pre></div></div></div></div></div></div><div class=\"sk-parallel-item\"><div class=\"sk-item\"><div class=\"sk-label-container\"><div class=\"sk-label sk-toggleable\"><input class=\"sk-toggleable__control sk-hidden--visually\" id=\"sk-estimator-id-107\" type=\"checkbox\" ><label for=\"sk-estimator-id-107\" class=\"sk-toggleable__label sk-toggleable__label-arrow\">remainder</label><div class=\"sk-toggleable__content\"><pre></pre></div></div></div><div class=\"sk-serial\"><div class=\"sk-item\"><div class=\"sk-estimator sk-toggleable\"><input class=\"sk-toggleable__control sk-hidden--visually\" id=\"sk-estimator-id-108\" type=\"checkbox\" ><label for=\"sk-estimator-id-108\" class=\"sk-toggleable__label sk-toggleable__label-arrow\">passthrough</label><div class=\"sk-toggleable__content\"><pre>passthrough</pre></div></div></div></div></div></div></div></div><div class=\"sk-item\"><div class=\"sk-estimator sk-toggleable\"><input class=\"sk-toggleable__control sk-hidden--visually\" id=\"sk-estimator-id-109\" type=\"checkbox\" ><label for=\"sk-estimator-id-109\" class=\"sk-toggleable__label sk-toggleable__label-arrow\">SMOTE</label><div class=\"sk-toggleable__content\"><pre>SMOTE(random_state=42)</pre></div></div></div><div class=\"sk-item\"><div class=\"sk-estimator sk-toggleable\"><input class=\"sk-toggleable__control sk-hidden--visually\" id=\"sk-estimator-id-110\" type=\"checkbox\" ><label for=\"sk-estimator-id-110\" class=\"sk-toggleable__label sk-toggleable__label-arrow\">RandomForestClassifier</label><div class=\"sk-toggleable__content\"><pre>RandomForestClassifier()</pre></div></div></div></div></div></div></div></div></div></div></div></div>"
      ],
      "text/plain": [
       "GridSearchCV(cv=5,\n",
       "             estimator=Pipeline(steps=[('preprocessor',\n",
       "                                        ColumnTransformer(remainder='passthrough',\n",
       "                                                          transformers=[('scaler',\n",
       "                                                                         StandardScaler(),\n",
       "                                                                         ['Longitude',\n",
       "                                                                          'Latitude',\n",
       "                                                                          'Votes']),\n",
       "                                                                        ('OneHot',\n",
       "                                                                         OneHotEncoder(sparse=False),\n",
       "                                                                         ['Has_Table_booking',\n",
       "                                                                          'Has_Online_delivery',\n",
       "                                                                          'Is_delivering_now']),\n",
       "                                                                        ('Ordinal',\n",
       "                                                                         OrdinalEncoder(categories=[['Not '\n",
       "                                                                                                     'rated',\n",
       "                                                                                                     'Poor',\n",
       "                                                                                                     'Average',\n",
       "                                                                                                     '...\n",
       "                                                     max_cat_to_onehot=None,\n",
       "                                                     max_delta_step=None,\n",
       "                                                     max_depth=None,\n",
       "                                                     max_leaves=None,\n",
       "                                                     min_child_weight=None,\n",
       "                                                     missing=nan,\n",
       "                                                     monotone_constraints=None,\n",
       "                                                     multi_strategy=None,\n",
       "                                                     n_estimators=None,\n",
       "                                                     n_jobs=None,\n",
       "                                                     num_parallel_tree=None,\n",
       "                                                     random_state=None, ...)]},\n",
       "                         {'model_pr': [AdaBoostClassifier()]},\n",
       "                         {'model_pr': [LogisticRegression()]},\n",
       "                         {'model_pr': [SVC()]}],\n",
       "             scoring='accuracy', verbose=2)"
      ]
     },
     "execution_count": 478,
     "metadata": {},
     "output_type": "execute_result"
    }
   ],
   "source": [
    "gscvpr.fit(xtrain_pr,ytrain_pr)"
   ]
  },
  {
   "cell_type": "code",
   "execution_count": 479,
   "id": "dbdc35ca",
   "metadata": {},
   "outputs": [
    {
     "data": {
      "text/plain": [
       "{'model_pr': RandomForestClassifier()}"
      ]
     },
     "execution_count": 479,
     "metadata": {},
     "output_type": "execute_result"
    }
   ],
   "source": [
    "gscvpr.best_params_"
   ]
  },
  {
   "cell_type": "code",
   "execution_count": 480,
   "id": "01a574c8",
   "metadata": {},
   "outputs": [
    {
     "data": {
      "text/plain": [
       "0.709382598689148"
      ]
     },
     "execution_count": 480,
     "metadata": {},
     "output_type": "execute_result"
    }
   ],
   "source": [
    "gscvpr.best_score_"
   ]
  },
  {
   "cell_type": "code",
   "execution_count": 481,
   "id": "648f2c9f",
   "metadata": {},
   "outputs": [],
   "source": [
    "predpr=gscvpr.predict(xtest_pr)"
   ]
  },
  {
   "cell_type": "code",
   "execution_count": 482,
   "id": "ae12673d",
   "metadata": {},
   "outputs": [
    {
     "data": {
      "text/plain": [
       "0.7136531365313653"
      ]
     },
     "execution_count": 482,
     "metadata": {},
     "output_type": "execute_result"
    }
   ],
   "source": [
    "accuracy_score(ytest_pr,predpr)"
   ]
  },
  {
   "cell_type": "code",
   "execution_count": 483,
   "id": "0a04efa7",
   "metadata": {},
   "outputs": [
    {
     "name": "stdout",
     "output_type": "stream",
     "text": [
      "              precision    recall  f1-score   support\n",
      "\n",
      "           1       0.80      0.84      0.82      1186\n",
      "           2       0.69      0.62      0.65       926\n",
      "           3       0.57      0.64      0.60       407\n",
      "           4       0.56      0.53      0.55       191\n",
      "\n",
      "    accuracy                           0.71      2710\n",
      "   macro avg       0.66      0.66      0.66      2710\n",
      "weighted avg       0.71      0.71      0.71      2710\n",
      "\n"
     ]
    }
   ],
   "source": [
    "print(classification_report(ytest_pr,predpr))"
   ]
  },
  {
   "cell_type": "code",
   "execution_count": 484,
   "id": "e558b8c8",
   "metadata": {},
   "outputs": [],
   "source": [
    "gscvac=GridSearchCV(pipeac,model_grid_ac,cv=5,scoring='r2',verbose=2)"
   ]
  },
  {
   "cell_type": "code",
   "execution_count": 485,
   "id": "0d3cc345",
   "metadata": {},
   "outputs": [
    {
     "name": "stdout",
     "output_type": "stream",
     "text": [
      "Fitting 5 folds for each of 5 candidates, totalling 25 fits\n",
      "[CV] END ...................model_ac=RandomForestRegressor(); total time=   4.0s\n",
      "[CV] END ...................model_ac=RandomForestRegressor(); total time=   4.1s\n",
      "[CV] END ...................model_ac=RandomForestRegressor(); total time=   4.7s\n",
      "[CV] END ...................model_ac=RandomForestRegressor(); total time=   4.4s\n",
      "[CV] END ...................model_ac=RandomForestRegressor(); total time=   4.6s\n",
      "[CV] END ...............model_ac=GradientBoostingRegressor(); total time=   2.0s\n",
      "[CV] END ...............model_ac=GradientBoostingRegressor(); total time=   1.7s\n",
      "[CV] END ...............model_ac=GradientBoostingRegressor(); total time=   1.8s\n",
      "[CV] END ...............model_ac=GradientBoostingRegressor(); total time=   1.8s\n",
      "[CV] END ...............model_ac=GradientBoostingRegressor(); total time=   2.4s\n",
      "[CV] END ........................model_ac=LinearRegression(); total time=   0.1s\n",
      "[CV] END ........................model_ac=LinearRegression(); total time=   0.1s\n",
      "[CV] END ........................model_ac=LinearRegression(); total time=   0.1s\n",
      "[CV] END ........................model_ac=LinearRegression(); total time=   0.1s\n",
      "[CV] END ........................model_ac=LinearRegression(); total time=   0.2s\n",
      "[CV] END ...................................model_ac=Ridge(); total time=   0.1s\n",
      "[CV] END ...................................model_ac=Ridge(); total time=   0.1s\n",
      "[CV] END ...................................model_ac=Ridge(); total time=   0.1s\n",
      "[CV] END ...................................model_ac=Ridge(); total time=   0.1s\n",
      "[CV] END ...................................model_ac=Ridge(); total time=   0.1s\n",
      "[CV] END .....................................model_ac=SVR(); total time=   6.0s\n",
      "[CV] END .....................................model_ac=SVR(); total time=   5.3s\n",
      "[CV] END .....................................model_ac=SVR(); total time=   5.1s\n",
      "[CV] END .....................................model_ac=SVR(); total time=   5.0s\n",
      "[CV] END .....................................model_ac=SVR(); total time=   5.1s\n"
     ]
    },
    {
     "data": {
      "text/html": [
       "<style>#sk-container-id-10 {color: black;background-color: white;}#sk-container-id-10 pre{padding: 0;}#sk-container-id-10 div.sk-toggleable {background-color: white;}#sk-container-id-10 label.sk-toggleable__label {cursor: pointer;display: block;width: 100%;margin-bottom: 0;padding: 0.3em;box-sizing: border-box;text-align: center;}#sk-container-id-10 label.sk-toggleable__label-arrow:before {content: \"▸\";float: left;margin-right: 0.25em;color: #696969;}#sk-container-id-10 label.sk-toggleable__label-arrow:hover:before {color: black;}#sk-container-id-10 div.sk-estimator:hover label.sk-toggleable__label-arrow:before {color: black;}#sk-container-id-10 div.sk-toggleable__content {max-height: 0;max-width: 0;overflow: hidden;text-align: left;background-color: #f0f8ff;}#sk-container-id-10 div.sk-toggleable__content pre {margin: 0.2em;color: black;border-radius: 0.25em;background-color: #f0f8ff;}#sk-container-id-10 input.sk-toggleable__control:checked~div.sk-toggleable__content {max-height: 200px;max-width: 100%;overflow: auto;}#sk-container-id-10 input.sk-toggleable__control:checked~label.sk-toggleable__label-arrow:before {content: \"▾\";}#sk-container-id-10 div.sk-estimator input.sk-toggleable__control:checked~label.sk-toggleable__label {background-color: #d4ebff;}#sk-container-id-10 div.sk-label input.sk-toggleable__control:checked~label.sk-toggleable__label {background-color: #d4ebff;}#sk-container-id-10 input.sk-hidden--visually {border: 0;clip: rect(1px 1px 1px 1px);clip: rect(1px, 1px, 1px, 1px);height: 1px;margin: -1px;overflow: hidden;padding: 0;position: absolute;width: 1px;}#sk-container-id-10 div.sk-estimator {font-family: monospace;background-color: #f0f8ff;border: 1px dotted black;border-radius: 0.25em;box-sizing: border-box;margin-bottom: 0.5em;}#sk-container-id-10 div.sk-estimator:hover {background-color: #d4ebff;}#sk-container-id-10 div.sk-parallel-item::after {content: \"\";width: 100%;border-bottom: 1px solid gray;flex-grow: 1;}#sk-container-id-10 div.sk-label:hover label.sk-toggleable__label {background-color: #d4ebff;}#sk-container-id-10 div.sk-serial::before {content: \"\";position: absolute;border-left: 1px solid gray;box-sizing: border-box;top: 0;bottom: 0;left: 50%;z-index: 0;}#sk-container-id-10 div.sk-serial {display: flex;flex-direction: column;align-items: center;background-color: white;padding-right: 0.2em;padding-left: 0.2em;position: relative;}#sk-container-id-10 div.sk-item {position: relative;z-index: 1;}#sk-container-id-10 div.sk-parallel {display: flex;align-items: stretch;justify-content: center;background-color: white;position: relative;}#sk-container-id-10 div.sk-item::before, #sk-container-id-10 div.sk-parallel-item::before {content: \"\";position: absolute;border-left: 1px solid gray;box-sizing: border-box;top: 0;bottom: 0;left: 50%;z-index: -1;}#sk-container-id-10 div.sk-parallel-item {display: flex;flex-direction: column;z-index: 1;position: relative;background-color: white;}#sk-container-id-10 div.sk-parallel-item:first-child::after {align-self: flex-end;width: 50%;}#sk-container-id-10 div.sk-parallel-item:last-child::after {align-self: flex-start;width: 50%;}#sk-container-id-10 div.sk-parallel-item:only-child::after {width: 0;}#sk-container-id-10 div.sk-dashed-wrapped {border: 1px dashed gray;margin: 0 0.4em 0.5em 0.4em;box-sizing: border-box;padding-bottom: 0.4em;background-color: white;}#sk-container-id-10 div.sk-label label {font-family: monospace;font-weight: bold;display: inline-block;line-height: 1.2em;}#sk-container-id-10 div.sk-label-container {text-align: center;}#sk-container-id-10 div.sk-container {/* jupyter's `normalize.less` sets `[hidden] { display: none; }` but bootstrap.min.css set `[hidden] { display: none !important; }` so we also need the `!important` here to be able to override the default hidden behavior on the sphinx rendered scikit-learn.org. See: https://github.com/scikit-learn/scikit-learn/issues/21755 */display: inline-block !important;position: relative;}#sk-container-id-10 div.sk-text-repr-fallback {display: none;}</style><div id=\"sk-container-id-10\" class=\"sk-top-container\"><div class=\"sk-text-repr-fallback\"><pre>GridSearchCV(cv=5,\n",
       "             estimator=Pipeline(steps=[(&#x27;preprocessor&#x27;,\n",
       "                                        ColumnTransformer(remainder=&#x27;passthrough&#x27;,\n",
       "                                                          transformers=[(&#x27;scaler&#x27;,\n",
       "                                                                         StandardScaler(),\n",
       "                                                                         [&#x27;Longitude&#x27;,\n",
       "                                                                          &#x27;Latitude&#x27;,\n",
       "                                                                          &#x27;Votes&#x27;]),\n",
       "                                                                        (&#x27;OneHot&#x27;,\n",
       "                                                                         OneHotEncoder(sparse=False),\n",
       "                                                                         [&#x27;Has_Table_booking&#x27;,\n",
       "                                                                          &#x27;Has_Online_delivery&#x27;,\n",
       "                                                                          &#x27;Is_delivering_now&#x27;]),\n",
       "                                                                        (&#x27;Ordinal&#x27;,\n",
       "                                                                         OrdinalEncoder(categories=[[&#x27;Not &#x27;\n",
       "                                                                                                     &#x27;rated&#x27;,\n",
       "                                                                                                     &#x27;Poor&#x27;,\n",
       "                                                                                                     &#x27;Average&#x27;,\n",
       "                                                                                                     &#x27;Good&#x27;,\n",
       "                                                                                                     &#x27;Very &#x27;\n",
       "                                                                                                     &#x27;Good&#x27;,\n",
       "                                                                                                     &#x27;Excellent&#x27;]]),\n",
       "                                                                         [&#x27;Rating_text&#x27;])])),\n",
       "                                       (&#x27;model_ac&#x27;, RandomForestRegressor())]),\n",
       "             param_grid=[{&#x27;model_ac&#x27;: [RandomForestRegressor()]},\n",
       "                         {&#x27;model_ac&#x27;: [GradientBoostingRegressor()]},\n",
       "                         {&#x27;model_ac&#x27;: [LinearRegression()]},\n",
       "                         {&#x27;model_ac&#x27;: [Ridge()]}, {&#x27;model_ac&#x27;: [SVR()]}],\n",
       "             scoring=&#x27;r2&#x27;, verbose=2)</pre><b>In a Jupyter environment, please rerun this cell to show the HTML representation or trust the notebook. <br />On GitHub, the HTML representation is unable to render, please try loading this page with nbviewer.org.</b></div><div class=\"sk-container\" hidden><div class=\"sk-item sk-dashed-wrapped\"><div class=\"sk-label-container\"><div class=\"sk-label sk-toggleable\"><input class=\"sk-toggleable__control sk-hidden--visually\" id=\"sk-estimator-id-111\" type=\"checkbox\" ><label for=\"sk-estimator-id-111\" class=\"sk-toggleable__label sk-toggleable__label-arrow\">GridSearchCV</label><div class=\"sk-toggleable__content\"><pre>GridSearchCV(cv=5,\n",
       "             estimator=Pipeline(steps=[(&#x27;preprocessor&#x27;,\n",
       "                                        ColumnTransformer(remainder=&#x27;passthrough&#x27;,\n",
       "                                                          transformers=[(&#x27;scaler&#x27;,\n",
       "                                                                         StandardScaler(),\n",
       "                                                                         [&#x27;Longitude&#x27;,\n",
       "                                                                          &#x27;Latitude&#x27;,\n",
       "                                                                          &#x27;Votes&#x27;]),\n",
       "                                                                        (&#x27;OneHot&#x27;,\n",
       "                                                                         OneHotEncoder(sparse=False),\n",
       "                                                                         [&#x27;Has_Table_booking&#x27;,\n",
       "                                                                          &#x27;Has_Online_delivery&#x27;,\n",
       "                                                                          &#x27;Is_delivering_now&#x27;]),\n",
       "                                                                        (&#x27;Ordinal&#x27;,\n",
       "                                                                         OrdinalEncoder(categories=[[&#x27;Not &#x27;\n",
       "                                                                                                     &#x27;rated&#x27;,\n",
       "                                                                                                     &#x27;Poor&#x27;,\n",
       "                                                                                                     &#x27;Average&#x27;,\n",
       "                                                                                                     &#x27;Good&#x27;,\n",
       "                                                                                                     &#x27;Very &#x27;\n",
       "                                                                                                     &#x27;Good&#x27;,\n",
       "                                                                                                     &#x27;Excellent&#x27;]]),\n",
       "                                                                         [&#x27;Rating_text&#x27;])])),\n",
       "                                       (&#x27;model_ac&#x27;, RandomForestRegressor())]),\n",
       "             param_grid=[{&#x27;model_ac&#x27;: [RandomForestRegressor()]},\n",
       "                         {&#x27;model_ac&#x27;: [GradientBoostingRegressor()]},\n",
       "                         {&#x27;model_ac&#x27;: [LinearRegression()]},\n",
       "                         {&#x27;model_ac&#x27;: [Ridge()]}, {&#x27;model_ac&#x27;: [SVR()]}],\n",
       "             scoring=&#x27;r2&#x27;, verbose=2)</pre></div></div></div><div class=\"sk-parallel\"><div class=\"sk-parallel-item\"><div class=\"sk-item\"><div class=\"sk-label-container\"><div class=\"sk-label sk-toggleable\"><input class=\"sk-toggleable__control sk-hidden--visually\" id=\"sk-estimator-id-112\" type=\"checkbox\" ><label for=\"sk-estimator-id-112\" class=\"sk-toggleable__label sk-toggleable__label-arrow\">estimator: Pipeline</label><div class=\"sk-toggleable__content\"><pre>Pipeline(steps=[(&#x27;preprocessor&#x27;,\n",
       "                 ColumnTransformer(remainder=&#x27;passthrough&#x27;,\n",
       "                                   transformers=[(&#x27;scaler&#x27;, StandardScaler(),\n",
       "                                                  [&#x27;Longitude&#x27;, &#x27;Latitude&#x27;,\n",
       "                                                   &#x27;Votes&#x27;]),\n",
       "                                                 (&#x27;OneHot&#x27;,\n",
       "                                                  OneHotEncoder(sparse=False),\n",
       "                                                  [&#x27;Has_Table_booking&#x27;,\n",
       "                                                   &#x27;Has_Online_delivery&#x27;,\n",
       "                                                   &#x27;Is_delivering_now&#x27;]),\n",
       "                                                 (&#x27;Ordinal&#x27;,\n",
       "                                                  OrdinalEncoder(categories=[[&#x27;Not &#x27;\n",
       "                                                                              &#x27;rated&#x27;,\n",
       "                                                                              &#x27;Poor&#x27;,\n",
       "                                                                              &#x27;Average&#x27;,\n",
       "                                                                              &#x27;Good&#x27;,\n",
       "                                                                              &#x27;Very &#x27;\n",
       "                                                                              &#x27;Good&#x27;,\n",
       "                                                                              &#x27;Excellent&#x27;]]),\n",
       "                                                  [&#x27;Rating_text&#x27;])])),\n",
       "                (&#x27;model_ac&#x27;, RandomForestRegressor())])</pre></div></div></div><div class=\"sk-serial\"><div class=\"sk-item\"><div class=\"sk-serial\"><div class=\"sk-item sk-dashed-wrapped\"><div class=\"sk-label-container\"><div class=\"sk-label sk-toggleable\"><input class=\"sk-toggleable__control sk-hidden--visually\" id=\"sk-estimator-id-113\" type=\"checkbox\" ><label for=\"sk-estimator-id-113\" class=\"sk-toggleable__label sk-toggleable__label-arrow\">preprocessor: ColumnTransformer</label><div class=\"sk-toggleable__content\"><pre>ColumnTransformer(remainder=&#x27;passthrough&#x27;,\n",
       "                  transformers=[(&#x27;scaler&#x27;, StandardScaler(),\n",
       "                                 [&#x27;Longitude&#x27;, &#x27;Latitude&#x27;, &#x27;Votes&#x27;]),\n",
       "                                (&#x27;OneHot&#x27;, OneHotEncoder(sparse=False),\n",
       "                                 [&#x27;Has_Table_booking&#x27;, &#x27;Has_Online_delivery&#x27;,\n",
       "                                  &#x27;Is_delivering_now&#x27;]),\n",
       "                                (&#x27;Ordinal&#x27;,\n",
       "                                 OrdinalEncoder(categories=[[&#x27;Not rated&#x27;,\n",
       "                                                             &#x27;Poor&#x27;, &#x27;Average&#x27;,\n",
       "                                                             &#x27;Good&#x27;,\n",
       "                                                             &#x27;Very Good&#x27;,\n",
       "                                                             &#x27;Excellent&#x27;]]),\n",
       "                                 [&#x27;Rating_text&#x27;])])</pre></div></div></div><div class=\"sk-parallel\"><div class=\"sk-parallel-item\"><div class=\"sk-item\"><div class=\"sk-label-container\"><div class=\"sk-label sk-toggleable\"><input class=\"sk-toggleable__control sk-hidden--visually\" id=\"sk-estimator-id-114\" type=\"checkbox\" ><label for=\"sk-estimator-id-114\" class=\"sk-toggleable__label sk-toggleable__label-arrow\">scaler</label><div class=\"sk-toggleable__content\"><pre>[&#x27;Longitude&#x27;, &#x27;Latitude&#x27;, &#x27;Votes&#x27;]</pre></div></div></div><div class=\"sk-serial\"><div class=\"sk-item\"><div class=\"sk-estimator sk-toggleable\"><input class=\"sk-toggleable__control sk-hidden--visually\" id=\"sk-estimator-id-115\" type=\"checkbox\" ><label for=\"sk-estimator-id-115\" class=\"sk-toggleable__label sk-toggleable__label-arrow\">StandardScaler</label><div class=\"sk-toggleable__content\"><pre>StandardScaler()</pre></div></div></div></div></div></div><div class=\"sk-parallel-item\"><div class=\"sk-item\"><div class=\"sk-label-container\"><div class=\"sk-label sk-toggleable\"><input class=\"sk-toggleable__control sk-hidden--visually\" id=\"sk-estimator-id-116\" type=\"checkbox\" ><label for=\"sk-estimator-id-116\" class=\"sk-toggleable__label sk-toggleable__label-arrow\">OneHot</label><div class=\"sk-toggleable__content\"><pre>[&#x27;Has_Table_booking&#x27;, &#x27;Has_Online_delivery&#x27;, &#x27;Is_delivering_now&#x27;]</pre></div></div></div><div class=\"sk-serial\"><div class=\"sk-item\"><div class=\"sk-estimator sk-toggleable\"><input class=\"sk-toggleable__control sk-hidden--visually\" id=\"sk-estimator-id-117\" type=\"checkbox\" ><label for=\"sk-estimator-id-117\" class=\"sk-toggleable__label sk-toggleable__label-arrow\">OneHotEncoder</label><div class=\"sk-toggleable__content\"><pre>OneHotEncoder(sparse=False)</pre></div></div></div></div></div></div><div class=\"sk-parallel-item\"><div class=\"sk-item\"><div class=\"sk-label-container\"><div class=\"sk-label sk-toggleable\"><input class=\"sk-toggleable__control sk-hidden--visually\" id=\"sk-estimator-id-118\" type=\"checkbox\" ><label for=\"sk-estimator-id-118\" class=\"sk-toggleable__label sk-toggleable__label-arrow\">Ordinal</label><div class=\"sk-toggleable__content\"><pre>[&#x27;Rating_text&#x27;]</pre></div></div></div><div class=\"sk-serial\"><div class=\"sk-item\"><div class=\"sk-estimator sk-toggleable\"><input class=\"sk-toggleable__control sk-hidden--visually\" id=\"sk-estimator-id-119\" type=\"checkbox\" ><label for=\"sk-estimator-id-119\" class=\"sk-toggleable__label sk-toggleable__label-arrow\">OrdinalEncoder</label><div class=\"sk-toggleable__content\"><pre>OrdinalEncoder(categories=[[&#x27;Not rated&#x27;, &#x27;Poor&#x27;, &#x27;Average&#x27;, &#x27;Good&#x27;, &#x27;Very Good&#x27;,\n",
       "                            &#x27;Excellent&#x27;]])</pre></div></div></div></div></div></div><div class=\"sk-parallel-item\"><div class=\"sk-item\"><div class=\"sk-label-container\"><div class=\"sk-label sk-toggleable\"><input class=\"sk-toggleable__control sk-hidden--visually\" id=\"sk-estimator-id-120\" type=\"checkbox\" ><label for=\"sk-estimator-id-120\" class=\"sk-toggleable__label sk-toggleable__label-arrow\">remainder</label><div class=\"sk-toggleable__content\"><pre></pre></div></div></div><div class=\"sk-serial\"><div class=\"sk-item\"><div class=\"sk-estimator sk-toggleable\"><input class=\"sk-toggleable__control sk-hidden--visually\" id=\"sk-estimator-id-121\" type=\"checkbox\" ><label for=\"sk-estimator-id-121\" class=\"sk-toggleable__label sk-toggleable__label-arrow\">passthrough</label><div class=\"sk-toggleable__content\"><pre>passthrough</pre></div></div></div></div></div></div></div></div><div class=\"sk-item\"><div class=\"sk-estimator sk-toggleable\"><input class=\"sk-toggleable__control sk-hidden--visually\" id=\"sk-estimator-id-122\" type=\"checkbox\" ><label for=\"sk-estimator-id-122\" class=\"sk-toggleable__label sk-toggleable__label-arrow\">RandomForestRegressor</label><div class=\"sk-toggleable__content\"><pre>RandomForestRegressor()</pre></div></div></div></div></div></div></div></div></div></div></div></div>"
      ],
      "text/plain": [
       "GridSearchCV(cv=5,\n",
       "             estimator=Pipeline(steps=[('preprocessor',\n",
       "                                        ColumnTransformer(remainder='passthrough',\n",
       "                                                          transformers=[('scaler',\n",
       "                                                                         StandardScaler(),\n",
       "                                                                         ['Longitude',\n",
       "                                                                          'Latitude',\n",
       "                                                                          'Votes']),\n",
       "                                                                        ('OneHot',\n",
       "                                                                         OneHotEncoder(sparse=False),\n",
       "                                                                         ['Has_Table_booking',\n",
       "                                                                          'Has_Online_delivery',\n",
       "                                                                          'Is_delivering_now']),\n",
       "                                                                        ('Ordinal',\n",
       "                                                                         OrdinalEncoder(categories=[['Not '\n",
       "                                                                                                     'rated',\n",
       "                                                                                                     'Poor',\n",
       "                                                                                                     'Average',\n",
       "                                                                                                     'Good',\n",
       "                                                                                                     'Very '\n",
       "                                                                                                     'Good',\n",
       "                                                                                                     'Excellent']]),\n",
       "                                                                         ['Rating_text'])])),\n",
       "                                       ('model_ac', RandomForestRegressor())]),\n",
       "             param_grid=[{'model_ac': [RandomForestRegressor()]},\n",
       "                         {'model_ac': [GradientBoostingRegressor()]},\n",
       "                         {'model_ac': [LinearRegression()]},\n",
       "                         {'model_ac': [Ridge()]}, {'model_ac': [SVR()]}],\n",
       "             scoring='r2', verbose=2)"
      ]
     },
     "execution_count": 485,
     "metadata": {},
     "output_type": "execute_result"
    }
   ],
   "source": [
    "gscvac.fit(xtrain_ac,ytrain_ac)"
   ]
  },
  {
   "cell_type": "code",
   "execution_count": 486,
   "id": "c40743b8",
   "metadata": {},
   "outputs": [
    {
     "data": {
      "text/plain": [
       "{'model_ac': RandomForestRegressor()}"
      ]
     },
     "execution_count": 486,
     "metadata": {},
     "output_type": "execute_result"
    }
   ],
   "source": [
    "gscvac.best_params_"
   ]
  },
  {
   "cell_type": "code",
   "execution_count": 487,
   "id": "4cda4108",
   "metadata": {},
   "outputs": [
    {
     "data": {
      "text/plain": [
       "0.6423460757400503"
      ]
     },
     "execution_count": 487,
     "metadata": {},
     "output_type": "execute_result"
    }
   ],
   "source": [
    "gscvac.best_score_"
   ]
  },
  {
   "cell_type": "code",
   "execution_count": 488,
   "id": "905866fc",
   "metadata": {},
   "outputs": [],
   "source": [
    "predac=gscvac.predict(xtest_ac)"
   ]
  },
  {
   "cell_type": "code",
   "execution_count": 489,
   "id": "71eb96ca",
   "metadata": {},
   "outputs": [
    {
     "data": {
      "text/plain": [
       "0.661066391675629"
      ]
     },
     "execution_count": 489,
     "metadata": {},
     "output_type": "execute_result"
    }
   ],
   "source": [
    "r2_score(ytest_ac,predac)"
   ]
  },
  {
   "cell_type": "code",
   "execution_count": 490,
   "id": "12cb5273",
   "metadata": {},
   "outputs": [
    {
     "data": {
      "text/plain": [
       "array(['Restaurant_ID', 'Restaurant_Name', 'Country_Code', 'City',\n",
       "       'Address', 'Locality', 'Locality_Verbose', 'Longitude', 'Latitude',\n",
       "       'Cuisines', 'Average_Cost_for_two', 'Currency',\n",
       "       'Has_Table_booking', 'Has_Online_delivery', 'Is_delivering_now',\n",
       "       'Switch_to_order_menu', 'Price_range', 'Aggregate_rating',\n",
       "       'Rating_color', 'Rating_text', 'Votes', 'Conversion_Rate',\n",
       "       'Average_Cost_for_two_USD', 'City_encoded', 'No_of_cuisines',\n",
       "       'Cuisines_split', 'Afghani', 'African', 'American', 'Andhra',\n",
       "       'Arabian', 'Argentine', 'Armenian', 'Asian', 'Asian Fusion',\n",
       "       'Assamese', 'Australian', 'Awadhi', 'BBQ', 'Bakery', 'Bar Food',\n",
       "       'Belgian', 'Bengali', 'Beverages', 'Bihari', 'Biryani',\n",
       "       'Brazilian', 'Breakfast', 'British', 'Bubble Tea', 'Burger',\n",
       "       'Burmese', 'Bí_rek', 'Cafe', 'Cajun', 'Canadian', 'Cantonese',\n",
       "       'Caribbean', 'Charcoal Grill', 'Chettinad', 'Chinese',\n",
       "       'Coffee and Tea', 'Contemporary', 'Continental', 'Cuban', 'Curry',\n",
       "       'Deli', 'Desserts', 'Dim Sum', 'Diner', 'Drinks Only', 'Durban',\n",
       "       'Dí_ner', 'European', 'Fast Food', 'Filipino', 'Finger Food',\n",
       "       'Fish and Chips', 'French', 'Fusion', 'German', 'Goan',\n",
       "       'Gourmet Fast Food', 'Greek', 'Grill', 'Gujarati', 'Hawaiian',\n",
       "       'Healthy Food', 'Hyderabadi', 'Ice Cream', 'Indian', 'Indonesian',\n",
       "       'International', 'Iranian', 'Irish', 'Italian', 'Izgara',\n",
       "       'Japanese', 'Juices', 'Kashmiri', 'Kebab', 'Kerala', 'Kiwi',\n",
       "       'Korean', 'Latin American', 'Lebanese', 'Lucknowi',\n",
       "       'Maharashtrian', 'Malay', 'Malaysian', 'Malwani', 'Mangalorean',\n",
       "       'Mediterranean', 'Mexican', 'Middle Eastern', 'Mineira', 'Mithai',\n",
       "       'Modern Australian', 'Modern Indian', 'Moroccan', 'Mughlai',\n",
       "       'Naga', 'Nepalese', 'New American', 'North Eastern',\n",
       "       'North Indian', 'Oriya', 'Pakistani', 'Parsi', 'Patisserie',\n",
       "       'Peranakan', 'Persian', 'Peruvian', 'Pizza', 'Portuguese',\n",
       "       'Pub Food', 'Rajasthani', 'Ramen', 'Raw Meats', 'Restaurant Cafe',\n",
       "       'Salad', 'Sandwich', 'Scottish', 'Seafood', 'Singaporean',\n",
       "       'Soul Food', 'South African', 'South American', 'South Indian',\n",
       "       'Southern', 'Southwestern', 'Spanish', 'Sri Lankan', 'Steak',\n",
       "       'Street Food', 'Sunda', 'Sushi', 'Taiwanese', 'Tapas', 'Tea',\n",
       "       'Teriyaki', 'Tex-Mex', 'Thai', 'Tibetan', 'Turkish',\n",
       "       'Turkish Pizza', 'Vegetarian', 'Vietnamese', 'Western',\n",
       "       'World Cuisine'], dtype=object)"
      ]
     },
     "execution_count": 490,
     "metadata": {},
     "output_type": "execute_result"
    }
   ],
   "source": [
    "df.columns.values"
   ]
  },
  {
   "cell_type": "code",
   "execution_count": 491,
   "id": "c3a3224d",
   "metadata": {},
   "outputs": [],
   "source": [
    "drop_cols=df.iloc[:,26:171]"
   ]
  },
  {
   "cell_type": "code",
   "execution_count": 492,
   "id": "19616c29",
   "metadata": {},
   "outputs": [],
   "source": [
    "xnew=df.drop(drop_cols,axis=1)"
   ]
  },
  {
   "cell_type": "code",
   "execution_count": 493,
   "id": "dbe559e2",
   "metadata": {},
   "outputs": [
    {
     "data": {
      "text/html": [
       "<div>\n",
       "<style scoped>\n",
       "    .dataframe tbody tr th:only-of-type {\n",
       "        vertical-align: middle;\n",
       "    }\n",
       "\n",
       "    .dataframe tbody tr th {\n",
       "        vertical-align: top;\n",
       "    }\n",
       "\n",
       "    .dataframe thead th {\n",
       "        text-align: right;\n",
       "    }\n",
       "</style>\n",
       "<table border=\"1\" class=\"dataframe\">\n",
       "  <thead>\n",
       "    <tr style=\"text-align: right;\">\n",
       "      <th></th>\n",
       "      <th>Restaurant_ID</th>\n",
       "      <th>Restaurant_Name</th>\n",
       "      <th>Country_Code</th>\n",
       "      <th>City</th>\n",
       "      <th>Address</th>\n",
       "      <th>Locality</th>\n",
       "      <th>Locality_Verbose</th>\n",
       "      <th>Longitude</th>\n",
       "      <th>Latitude</th>\n",
       "      <th>Cuisines</th>\n",
       "      <th>...</th>\n",
       "      <th>Price_range</th>\n",
       "      <th>Aggregate_rating</th>\n",
       "      <th>Rating_color</th>\n",
       "      <th>Rating_text</th>\n",
       "      <th>Votes</th>\n",
       "      <th>Conversion_Rate</th>\n",
       "      <th>Average_Cost_for_two_USD</th>\n",
       "      <th>City_encoded</th>\n",
       "      <th>No_of_cuisines</th>\n",
       "      <th>Cuisines_split</th>\n",
       "    </tr>\n",
       "  </thead>\n",
       "  <tbody>\n",
       "    <tr>\n",
       "      <th>0</th>\n",
       "      <td>6317637</td>\n",
       "      <td>Le Petit Souffle</td>\n",
       "      <td>162</td>\n",
       "      <td>Makati City</td>\n",
       "      <td>Third Floor, Century City Mall, Kalayaan Avenu...</td>\n",
       "      <td>Century City Mall, Poblacion, Makati City</td>\n",
       "      <td>Century City Mall, Poblacion, Makati City, Mak...</td>\n",
       "      <td>121.027535</td>\n",
       "      <td>14.565443</td>\n",
       "      <td>French, Japanese, Desserts</td>\n",
       "      <td>...</td>\n",
       "      <td>3</td>\n",
       "      <td>4.8</td>\n",
       "      <td>Dark Green</td>\n",
       "      <td>Excellent</td>\n",
       "      <td>314</td>\n",
       "      <td>0.075374</td>\n",
       "      <td>82.9114</td>\n",
       "      <td>86.6801</td>\n",
       "      <td>3</td>\n",
       "      <td>[French, Japanese, Desserts]</td>\n",
       "    </tr>\n",
       "    <tr>\n",
       "      <th>1</th>\n",
       "      <td>6304287</td>\n",
       "      <td>Izakaya Kikufuji</td>\n",
       "      <td>162</td>\n",
       "      <td>Makati City</td>\n",
       "      <td>Little Tokyo, 2277 Chino Roces Avenue, Legaspi...</td>\n",
       "      <td>Little Tokyo, Legaspi Village, Makati City</td>\n",
       "      <td>Little Tokyo, Legaspi Village, Makati City, Ma...</td>\n",
       "      <td>121.014101</td>\n",
       "      <td>14.553708</td>\n",
       "      <td>Japanese</td>\n",
       "      <td>...</td>\n",
       "      <td>3</td>\n",
       "      <td>4.5</td>\n",
       "      <td>Dark Green</td>\n",
       "      <td>Excellent</td>\n",
       "      <td>591</td>\n",
       "      <td>0.075374</td>\n",
       "      <td>90.4488</td>\n",
       "      <td>86.6801</td>\n",
       "      <td>1</td>\n",
       "      <td>[Japanese]</td>\n",
       "    </tr>\n",
       "  </tbody>\n",
       "</table>\n",
       "<p>2 rows × 26 columns</p>\n",
       "</div>"
      ],
      "text/plain": [
       "   Restaurant_ID   Restaurant_Name  Country_Code         City  \\\n",
       "0        6317637  Le Petit Souffle           162  Makati City   \n",
       "1        6304287  Izakaya Kikufuji           162  Makati City   \n",
       "\n",
       "                                             Address  \\\n",
       "0  Third Floor, Century City Mall, Kalayaan Avenu...   \n",
       "1  Little Tokyo, 2277 Chino Roces Avenue, Legaspi...   \n",
       "\n",
       "                                     Locality  \\\n",
       "0   Century City Mall, Poblacion, Makati City   \n",
       "1  Little Tokyo, Legaspi Village, Makati City   \n",
       "\n",
       "                                    Locality_Verbose   Longitude   Latitude  \\\n",
       "0  Century City Mall, Poblacion, Makati City, Mak...  121.027535  14.565443   \n",
       "1  Little Tokyo, Legaspi Village, Makati City, Ma...  121.014101  14.553708   \n",
       "\n",
       "                     Cuisines  ...  Price_range Aggregate_rating Rating_color  \\\n",
       "0  French, Japanese, Desserts  ...            3              4.8   Dark Green   \n",
       "1                    Japanese  ...            3              4.5   Dark Green   \n",
       "\n",
       "  Rating_text Votes Conversion_Rate  Average_Cost_for_two_USD  City_encoded  \\\n",
       "0   Excellent   314        0.075374                   82.9114       86.6801   \n",
       "1   Excellent   591        0.075374                   90.4488       86.6801   \n",
       "\n",
       "  No_of_cuisines                Cuisines_split  \n",
       "0              3  [French, Japanese, Desserts]  \n",
       "1              1                    [Japanese]  \n",
       "\n",
       "[2 rows x 26 columns]"
      ]
     },
     "execution_count": 493,
     "metadata": {},
     "output_type": "execute_result"
    }
   ],
   "source": [
    "xnew.head(2)"
   ]
  },
  {
   "cell_type": "code",
   "execution_count": 494,
   "id": "593cf5ec",
   "metadata": {},
   "outputs": [],
   "source": [
    "xnew=xnew.drop(['Average_Cost_for_two_USD','Average_Cost_for_two','Conversion_Rate','Address',\n",
    "           'Locality','Locality_Verbose','City','Price_range','Switch_to_order_menu','Restaurant_ID',\n",
    "           'Restaurant_Name','Rating_color','Cuisines','Cuisines_split','Currency'],axis=1)"
   ]
  },
  {
   "cell_type": "code",
   "execution_count": 495,
   "id": "72f48b15",
   "metadata": {},
   "outputs": [
    {
     "data": {
      "text/html": [
       "<div>\n",
       "<style scoped>\n",
       "    .dataframe tbody tr th:only-of-type {\n",
       "        vertical-align: middle;\n",
       "    }\n",
       "\n",
       "    .dataframe tbody tr th {\n",
       "        vertical-align: top;\n",
       "    }\n",
       "\n",
       "    .dataframe thead th {\n",
       "        text-align: right;\n",
       "    }\n",
       "</style>\n",
       "<table border=\"1\" class=\"dataframe\">\n",
       "  <thead>\n",
       "    <tr style=\"text-align: right;\">\n",
       "      <th></th>\n",
       "      <th>Country_Code</th>\n",
       "      <th>Longitude</th>\n",
       "      <th>Latitude</th>\n",
       "      <th>Has_Table_booking</th>\n",
       "      <th>Has_Online_delivery</th>\n",
       "      <th>Is_delivering_now</th>\n",
       "      <th>Aggregate_rating</th>\n",
       "      <th>Rating_text</th>\n",
       "      <th>Votes</th>\n",
       "      <th>City_encoded</th>\n",
       "      <th>No_of_cuisines</th>\n",
       "    </tr>\n",
       "  </thead>\n",
       "  <tbody>\n",
       "    <tr>\n",
       "      <th>0</th>\n",
       "      <td>162</td>\n",
       "      <td>121.027535</td>\n",
       "      <td>14.565443</td>\n",
       "      <td>Yes</td>\n",
       "      <td>No</td>\n",
       "      <td>No</td>\n",
       "      <td>4.8</td>\n",
       "      <td>Excellent</td>\n",
       "      <td>314</td>\n",
       "      <td>86.680100</td>\n",
       "      <td>3</td>\n",
       "    </tr>\n",
       "    <tr>\n",
       "      <th>1</th>\n",
       "      <td>162</td>\n",
       "      <td>121.014101</td>\n",
       "      <td>14.553708</td>\n",
       "      <td>Yes</td>\n",
       "      <td>No</td>\n",
       "      <td>No</td>\n",
       "      <td>4.5</td>\n",
       "      <td>Excellent</td>\n",
       "      <td>591</td>\n",
       "      <td>86.680100</td>\n",
       "      <td>1</td>\n",
       "    </tr>\n",
       "    <tr>\n",
       "      <th>2</th>\n",
       "      <td>162</td>\n",
       "      <td>121.056831</td>\n",
       "      <td>14.581404</td>\n",
       "      <td>Yes</td>\n",
       "      <td>No</td>\n",
       "      <td>No</td>\n",
       "      <td>4.4</td>\n",
       "      <td>Very Good</td>\n",
       "      <td>270</td>\n",
       "      <td>150.748000</td>\n",
       "      <td>4</td>\n",
       "    </tr>\n",
       "    <tr>\n",
       "      <th>3</th>\n",
       "      <td>162</td>\n",
       "      <td>121.056475</td>\n",
       "      <td>14.585318</td>\n",
       "      <td>No</td>\n",
       "      <td>No</td>\n",
       "      <td>No</td>\n",
       "      <td>4.9</td>\n",
       "      <td>Excellent</td>\n",
       "      <td>365</td>\n",
       "      <td>150.748000</td>\n",
       "      <td>2</td>\n",
       "    </tr>\n",
       "    <tr>\n",
       "      <th>4</th>\n",
       "      <td>162</td>\n",
       "      <td>121.057508</td>\n",
       "      <td>14.584450</td>\n",
       "      <td>Yes</td>\n",
       "      <td>No</td>\n",
       "      <td>No</td>\n",
       "      <td>4.8</td>\n",
       "      <td>Excellent</td>\n",
       "      <td>229</td>\n",
       "      <td>150.748000</td>\n",
       "      <td>2</td>\n",
       "    </tr>\n",
       "    <tr>\n",
       "      <th>...</th>\n",
       "      <td>...</td>\n",
       "      <td>...</td>\n",
       "      <td>...</td>\n",
       "      <td>...</td>\n",
       "      <td>...</td>\n",
       "      <td>...</td>\n",
       "      <td>...</td>\n",
       "      <td>...</td>\n",
       "      <td>...</td>\n",
       "      <td>...</td>\n",
       "      <td>...</td>\n",
       "    </tr>\n",
       "    <tr>\n",
       "      <th>9546</th>\n",
       "      <td>208</td>\n",
       "      <td>28.977392</td>\n",
       "      <td>41.022793</td>\n",
       "      <td>No</td>\n",
       "      <td>No</td>\n",
       "      <td>No</td>\n",
       "      <td>4.1</td>\n",
       "      <td>Very Good</td>\n",
       "      <td>788</td>\n",
       "      <td>2.391394</td>\n",
       "      <td>1</td>\n",
       "    </tr>\n",
       "    <tr>\n",
       "      <th>9547</th>\n",
       "      <td>208</td>\n",
       "      <td>29.041297</td>\n",
       "      <td>41.009847</td>\n",
       "      <td>No</td>\n",
       "      <td>No</td>\n",
       "      <td>No</td>\n",
       "      <td>4.2</td>\n",
       "      <td>Very Good</td>\n",
       "      <td>1034</td>\n",
       "      <td>2.391394</td>\n",
       "      <td>3</td>\n",
       "    </tr>\n",
       "    <tr>\n",
       "      <th>9548</th>\n",
       "      <td>208</td>\n",
       "      <td>29.034640</td>\n",
       "      <td>41.055817</td>\n",
       "      <td>No</td>\n",
       "      <td>No</td>\n",
       "      <td>No</td>\n",
       "      <td>3.7</td>\n",
       "      <td>Good</td>\n",
       "      <td>661</td>\n",
       "      <td>2.391394</td>\n",
       "      <td>2</td>\n",
       "    </tr>\n",
       "    <tr>\n",
       "      <th>9549</th>\n",
       "      <td>208</td>\n",
       "      <td>29.036019</td>\n",
       "      <td>41.057979</td>\n",
       "      <td>No</td>\n",
       "      <td>No</td>\n",
       "      <td>No</td>\n",
       "      <td>4.0</td>\n",
       "      <td>Very Good</td>\n",
       "      <td>901</td>\n",
       "      <td>2.391394</td>\n",
       "      <td>1</td>\n",
       "    </tr>\n",
       "    <tr>\n",
       "      <th>9550</th>\n",
       "      <td>208</td>\n",
       "      <td>29.026016</td>\n",
       "      <td>40.984776</td>\n",
       "      <td>No</td>\n",
       "      <td>No</td>\n",
       "      <td>No</td>\n",
       "      <td>4.0</td>\n",
       "      <td>Very Good</td>\n",
       "      <td>591</td>\n",
       "      <td>2.391394</td>\n",
       "      <td>1</td>\n",
       "    </tr>\n",
       "  </tbody>\n",
       "</table>\n",
       "<p>9031 rows × 11 columns</p>\n",
       "</div>"
      ],
      "text/plain": [
       "      Country_Code   Longitude   Latitude Has_Table_booking  \\\n",
       "0              162  121.027535  14.565443               Yes   \n",
       "1              162  121.014101  14.553708               Yes   \n",
       "2              162  121.056831  14.581404               Yes   \n",
       "3              162  121.056475  14.585318                No   \n",
       "4              162  121.057508  14.584450               Yes   \n",
       "...            ...         ...        ...               ...   \n",
       "9546           208   28.977392  41.022793                No   \n",
       "9547           208   29.041297  41.009847                No   \n",
       "9548           208   29.034640  41.055817                No   \n",
       "9549           208   29.036019  41.057979                No   \n",
       "9550           208   29.026016  40.984776                No   \n",
       "\n",
       "     Has_Online_delivery Is_delivering_now  Aggregate_rating Rating_text  \\\n",
       "0                     No                No               4.8   Excellent   \n",
       "1                     No                No               4.5   Excellent   \n",
       "2                     No                No               4.4   Very Good   \n",
       "3                     No                No               4.9   Excellent   \n",
       "4                     No                No               4.8   Excellent   \n",
       "...                  ...               ...               ...         ...   \n",
       "9546                  No                No               4.1   Very Good   \n",
       "9547                  No                No               4.2   Very Good   \n",
       "9548                  No                No               3.7        Good   \n",
       "9549                  No                No               4.0   Very Good   \n",
       "9550                  No                No               4.0   Very Good   \n",
       "\n",
       "      Votes  City_encoded  No_of_cuisines  \n",
       "0       314     86.680100               3  \n",
       "1       591     86.680100               1  \n",
       "2       270    150.748000               4  \n",
       "3       365    150.748000               2  \n",
       "4       229    150.748000               2  \n",
       "...     ...           ...             ...  \n",
       "9546    788      2.391394               1  \n",
       "9547   1034      2.391394               3  \n",
       "9548    661      2.391394               2  \n",
       "9549    901      2.391394               1  \n",
       "9550    591      2.391394               1  \n",
       "\n",
       "[9031 rows x 11 columns]"
      ]
     },
     "execution_count": 495,
     "metadata": {},
     "output_type": "execute_result"
    }
   ],
   "source": [
    "xnew"
   ]
  },
  {
   "cell_type": "code",
   "execution_count": 496,
   "id": "89742114",
   "metadata": {},
   "outputs": [],
   "source": [
    "xnew_trainpr,xnew_testpr,ynew_trainpr,ynew_testpr=train_test_split(xnew,y_pr,test_size=0.30,random_state=42)"
   ]
  },
  {
   "cell_type": "code",
   "execution_count": 497,
   "id": "3a7f3c4b",
   "metadata": {},
   "outputs": [],
   "source": [
    "gsnew=GridSearchCV(pipepr,model_grid_pr,cv=5,scoring='accuracy',verbose=2)"
   ]
  },
  {
   "cell_type": "code",
   "execution_count": 498,
   "id": "010f50f1",
   "metadata": {},
   "outputs": [
    {
     "name": "stdout",
     "output_type": "stream",
     "text": [
      "Fitting 5 folds for each of 7 candidates, totalling 35 fits\n",
      "[CV] END ..................model_pr=RandomForestClassifier(); total time=   1.3s\n",
      "[CV] END ..................model_pr=RandomForestClassifier(); total time=   1.3s\n",
      "[CV] END ..................model_pr=RandomForestClassifier(); total time=   1.3s\n",
      "[CV] END ..................model_pr=RandomForestClassifier(); total time=   1.3s\n",
      "[CV] END ..................model_pr=RandomForestClassifier(); total time=   1.3s\n",
      "[CV] END ..............model_pr=GradientBoostingClassifier(); total time=   6.2s\n",
      "[CV] END ..............model_pr=GradientBoostingClassifier(); total time=   6.5s\n",
      "[CV] END ..............model_pr=GradientBoostingClassifier(); total time=   6.6s\n",
      "[CV] END ..............model_pr=GradientBoostingClassifier(); total time=   6.5s\n",
      "[CV] END ..............model_pr=GradientBoostingClassifier(); total time=   6.6s\n",
      "[CV] END ..................model_pr=RandomForestClassifier(); total time=   1.4s\n",
      "[CV] END ..................model_pr=RandomForestClassifier(); total time=   1.4s\n",
      "[CV] END ..................model_pr=RandomForestClassifier(); total time=   1.4s\n",
      "[CV] END ..................model_pr=RandomForestClassifier(); total time=   1.6s\n",
      "[CV] END ..................model_pr=RandomForestClassifier(); total time=   1.5s\n",
      "[CV] END model_pr=XGBClassifier(base_score=None, booster=None, callbacks=None,\n",
      "              colsample_bylevel=None, colsample_bynode=None,\n",
      "              colsample_bytree=None, device=None, early_stopping_rounds=None,\n",
      "              enable_categorical=False, eval_metric=None, feature_types=None,\n",
      "              gamma=None, grow_policy=None, importance_type=None,\n",
      "              interaction_constraints=None, learning_rate=None, max_bin=None,\n",
      "              max_cat_threshold=None, max_cat_to_onehot=None,\n",
      "              max_delta_step=None, max_depth=None, max_leaves=None,\n",
      "              min_child_weight=None, missing=nan, monotone_constraints=None,\n",
      "              multi_strategy=None, n_estimators=None, n_jobs=None,\n",
      "              num_parallel_tree=None, random_state=None, ...); total time=   0.1s\n",
      "[CV] END model_pr=XGBClassifier(base_score=None, booster=None, callbacks=None,\n",
      "              colsample_bylevel=None, colsample_bynode=None,\n",
      "              colsample_bytree=None, device=None, early_stopping_rounds=None,\n",
      "              enable_categorical=False, eval_metric=None, feature_types=None,\n",
      "              gamma=None, grow_policy=None, importance_type=None,\n",
      "              interaction_constraints=None, learning_rate=None, max_bin=None,\n",
      "              max_cat_threshold=None, max_cat_to_onehot=None,\n",
      "              max_delta_step=None, max_depth=None, max_leaves=None,\n",
      "              min_child_weight=None, missing=nan, monotone_constraints=None,\n",
      "              multi_strategy=None, n_estimators=None, n_jobs=None,\n",
      "              num_parallel_tree=None, random_state=None, ...); total time=   0.1s\n",
      "[CV] END model_pr=XGBClassifier(base_score=None, booster=None, callbacks=None,\n",
      "              colsample_bylevel=None, colsample_bynode=None,\n",
      "              colsample_bytree=None, device=None, early_stopping_rounds=None,\n",
      "              enable_categorical=False, eval_metric=None, feature_types=None,\n",
      "              gamma=None, grow_policy=None, importance_type=None,\n",
      "              interaction_constraints=None, learning_rate=None, max_bin=None,\n",
      "              max_cat_threshold=None, max_cat_to_onehot=None,\n",
      "              max_delta_step=None, max_depth=None, max_leaves=None,\n",
      "              min_child_weight=None, missing=nan, monotone_constraints=None,\n",
      "              multi_strategy=None, n_estimators=None, n_jobs=None,\n",
      "              num_parallel_tree=None, random_state=None, ...); total time=   0.1s\n",
      "[CV] END model_pr=XGBClassifier(base_score=None, booster=None, callbacks=None,\n",
      "              colsample_bylevel=None, colsample_bynode=None,\n",
      "              colsample_bytree=None, device=None, early_stopping_rounds=None,\n",
      "              enable_categorical=False, eval_metric=None, feature_types=None,\n",
      "              gamma=None, grow_policy=None, importance_type=None,\n",
      "              interaction_constraints=None, learning_rate=None, max_bin=None,\n",
      "              max_cat_threshold=None, max_cat_to_onehot=None,\n",
      "              max_delta_step=None, max_depth=None, max_leaves=None,\n",
      "              min_child_weight=None, missing=nan, monotone_constraints=None,\n",
      "              multi_strategy=None, n_estimators=None, n_jobs=None,\n",
      "              num_parallel_tree=None, random_state=None, ...); total time=   0.1s\n",
      "[CV] END model_pr=XGBClassifier(base_score=None, booster=None, callbacks=None,\n",
      "              colsample_bylevel=None, colsample_bynode=None,\n",
      "              colsample_bytree=None, device=None, early_stopping_rounds=None,\n",
      "              enable_categorical=False, eval_metric=None, feature_types=None,\n",
      "              gamma=None, grow_policy=None, importance_type=None,\n",
      "              interaction_constraints=None, learning_rate=None, max_bin=None,\n",
      "              max_cat_threshold=None, max_cat_to_onehot=None,\n",
      "              max_delta_step=None, max_depth=None, max_leaves=None,\n",
      "              min_child_weight=None, missing=nan, monotone_constraints=None,\n",
      "              multi_strategy=None, n_estimators=None, n_jobs=None,\n",
      "              num_parallel_tree=None, random_state=None, ...); total time=   0.1s\n",
      "[CV] END ......................model_pr=AdaBoostClassifier(); total time=   0.5s\n",
      "[CV] END ......................model_pr=AdaBoostClassifier(); total time=   0.5s\n",
      "[CV] END ......................model_pr=AdaBoostClassifier(); total time=   0.5s\n",
      "[CV] END ......................model_pr=AdaBoostClassifier(); total time=   0.5s\n",
      "[CV] END ......................model_pr=AdaBoostClassifier(); total time=   0.5s\n",
      "[CV] END ......................model_pr=LogisticRegression(); total time=   0.2s\n",
      "[CV] END ......................model_pr=LogisticRegression(); total time=   0.3s\n",
      "[CV] END ......................model_pr=LogisticRegression(); total time=   0.4s\n",
      "[CV] END ......................model_pr=LogisticRegression(); total time=   0.3s\n",
      "[CV] END ......................model_pr=LogisticRegression(); total time=   0.3s\n",
      "[CV] END .....................................model_pr=SVC(); total time=   6.6s\n",
      "[CV] END .....................................model_pr=SVC(); total time=   6.2s\n",
      "[CV] END .....................................model_pr=SVC(); total time=   6.1s\n",
      "[CV] END .....................................model_pr=SVC(); total time=   6.3s\n",
      "[CV] END .....................................model_pr=SVC(); total time=   6.2s\n"
     ]
    },
    {
     "data": {
      "text/html": [
       "<style>#sk-container-id-11 {color: black;background-color: white;}#sk-container-id-11 pre{padding: 0;}#sk-container-id-11 div.sk-toggleable {background-color: white;}#sk-container-id-11 label.sk-toggleable__label {cursor: pointer;display: block;width: 100%;margin-bottom: 0;padding: 0.3em;box-sizing: border-box;text-align: center;}#sk-container-id-11 label.sk-toggleable__label-arrow:before {content: \"▸\";float: left;margin-right: 0.25em;color: #696969;}#sk-container-id-11 label.sk-toggleable__label-arrow:hover:before {color: black;}#sk-container-id-11 div.sk-estimator:hover label.sk-toggleable__label-arrow:before {color: black;}#sk-container-id-11 div.sk-toggleable__content {max-height: 0;max-width: 0;overflow: hidden;text-align: left;background-color: #f0f8ff;}#sk-container-id-11 div.sk-toggleable__content pre {margin: 0.2em;color: black;border-radius: 0.25em;background-color: #f0f8ff;}#sk-container-id-11 input.sk-toggleable__control:checked~div.sk-toggleable__content {max-height: 200px;max-width: 100%;overflow: auto;}#sk-container-id-11 input.sk-toggleable__control:checked~label.sk-toggleable__label-arrow:before {content: \"▾\";}#sk-container-id-11 div.sk-estimator input.sk-toggleable__control:checked~label.sk-toggleable__label {background-color: #d4ebff;}#sk-container-id-11 div.sk-label input.sk-toggleable__control:checked~label.sk-toggleable__label {background-color: #d4ebff;}#sk-container-id-11 input.sk-hidden--visually {border: 0;clip: rect(1px 1px 1px 1px);clip: rect(1px, 1px, 1px, 1px);height: 1px;margin: -1px;overflow: hidden;padding: 0;position: absolute;width: 1px;}#sk-container-id-11 div.sk-estimator {font-family: monospace;background-color: #f0f8ff;border: 1px dotted black;border-radius: 0.25em;box-sizing: border-box;margin-bottom: 0.5em;}#sk-container-id-11 div.sk-estimator:hover {background-color: #d4ebff;}#sk-container-id-11 div.sk-parallel-item::after {content: \"\";width: 100%;border-bottom: 1px solid gray;flex-grow: 1;}#sk-container-id-11 div.sk-label:hover label.sk-toggleable__label {background-color: #d4ebff;}#sk-container-id-11 div.sk-serial::before {content: \"\";position: absolute;border-left: 1px solid gray;box-sizing: border-box;top: 0;bottom: 0;left: 50%;z-index: 0;}#sk-container-id-11 div.sk-serial {display: flex;flex-direction: column;align-items: center;background-color: white;padding-right: 0.2em;padding-left: 0.2em;position: relative;}#sk-container-id-11 div.sk-item {position: relative;z-index: 1;}#sk-container-id-11 div.sk-parallel {display: flex;align-items: stretch;justify-content: center;background-color: white;position: relative;}#sk-container-id-11 div.sk-item::before, #sk-container-id-11 div.sk-parallel-item::before {content: \"\";position: absolute;border-left: 1px solid gray;box-sizing: border-box;top: 0;bottom: 0;left: 50%;z-index: -1;}#sk-container-id-11 div.sk-parallel-item {display: flex;flex-direction: column;z-index: 1;position: relative;background-color: white;}#sk-container-id-11 div.sk-parallel-item:first-child::after {align-self: flex-end;width: 50%;}#sk-container-id-11 div.sk-parallel-item:last-child::after {align-self: flex-start;width: 50%;}#sk-container-id-11 div.sk-parallel-item:only-child::after {width: 0;}#sk-container-id-11 div.sk-dashed-wrapped {border: 1px dashed gray;margin: 0 0.4em 0.5em 0.4em;box-sizing: border-box;padding-bottom: 0.4em;background-color: white;}#sk-container-id-11 div.sk-label label {font-family: monospace;font-weight: bold;display: inline-block;line-height: 1.2em;}#sk-container-id-11 div.sk-label-container {text-align: center;}#sk-container-id-11 div.sk-container {/* jupyter's `normalize.less` sets `[hidden] { display: none; }` but bootstrap.min.css set `[hidden] { display: none !important; }` so we also need the `!important` here to be able to override the default hidden behavior on the sphinx rendered scikit-learn.org. See: https://github.com/scikit-learn/scikit-learn/issues/21755 */display: inline-block !important;position: relative;}#sk-container-id-11 div.sk-text-repr-fallback {display: none;}</style><div id=\"sk-container-id-11\" class=\"sk-top-container\"><div class=\"sk-text-repr-fallback\"><pre>GridSearchCV(cv=5,\n",
       "             estimator=Pipeline(steps=[(&#x27;preprocessor&#x27;,\n",
       "                                        ColumnTransformer(remainder=&#x27;passthrough&#x27;,\n",
       "                                                          transformers=[(&#x27;scaler&#x27;,\n",
       "                                                                         StandardScaler(),\n",
       "                                                                         [&#x27;Longitude&#x27;,\n",
       "                                                                          &#x27;Latitude&#x27;,\n",
       "                                                                          &#x27;Votes&#x27;]),\n",
       "                                                                        (&#x27;OneHot&#x27;,\n",
       "                                                                         OneHotEncoder(sparse=False),\n",
       "                                                                         [&#x27;Has_Table_booking&#x27;,\n",
       "                                                                          &#x27;Has_Online_delivery&#x27;,\n",
       "                                                                          &#x27;Is_delivering_now&#x27;]),\n",
       "                                                                        (&#x27;Ordinal&#x27;,\n",
       "                                                                         OrdinalEncoder(categories=[[&#x27;Not &#x27;\n",
       "                                                                                                     &#x27;rated&#x27;,\n",
       "                                                                                                     &#x27;Poor&#x27;,\n",
       "                                                                                                     &#x27;Average&#x27;,\n",
       "                                                                                                     &#x27;...\n",
       "                                                     max_cat_to_onehot=None,\n",
       "                                                     max_delta_step=None,\n",
       "                                                     max_depth=None,\n",
       "                                                     max_leaves=None,\n",
       "                                                     min_child_weight=None,\n",
       "                                                     missing=nan,\n",
       "                                                     monotone_constraints=None,\n",
       "                                                     multi_strategy=None,\n",
       "                                                     n_estimators=None,\n",
       "                                                     n_jobs=None,\n",
       "                                                     num_parallel_tree=None,\n",
       "                                                     random_state=None, ...)]},\n",
       "                         {&#x27;model_pr&#x27;: [AdaBoostClassifier()]},\n",
       "                         {&#x27;model_pr&#x27;: [LogisticRegression()]},\n",
       "                         {&#x27;model_pr&#x27;: [SVC()]}],\n",
       "             scoring=&#x27;accuracy&#x27;, verbose=2)</pre><b>In a Jupyter environment, please rerun this cell to show the HTML representation or trust the notebook. <br />On GitHub, the HTML representation is unable to render, please try loading this page with nbviewer.org.</b></div><div class=\"sk-container\" hidden><div class=\"sk-item sk-dashed-wrapped\"><div class=\"sk-label-container\"><div class=\"sk-label sk-toggleable\"><input class=\"sk-toggleable__control sk-hidden--visually\" id=\"sk-estimator-id-123\" type=\"checkbox\" ><label for=\"sk-estimator-id-123\" class=\"sk-toggleable__label sk-toggleable__label-arrow\">GridSearchCV</label><div class=\"sk-toggleable__content\"><pre>GridSearchCV(cv=5,\n",
       "             estimator=Pipeline(steps=[(&#x27;preprocessor&#x27;,\n",
       "                                        ColumnTransformer(remainder=&#x27;passthrough&#x27;,\n",
       "                                                          transformers=[(&#x27;scaler&#x27;,\n",
       "                                                                         StandardScaler(),\n",
       "                                                                         [&#x27;Longitude&#x27;,\n",
       "                                                                          &#x27;Latitude&#x27;,\n",
       "                                                                          &#x27;Votes&#x27;]),\n",
       "                                                                        (&#x27;OneHot&#x27;,\n",
       "                                                                         OneHotEncoder(sparse=False),\n",
       "                                                                         [&#x27;Has_Table_booking&#x27;,\n",
       "                                                                          &#x27;Has_Online_delivery&#x27;,\n",
       "                                                                          &#x27;Is_delivering_now&#x27;]),\n",
       "                                                                        (&#x27;Ordinal&#x27;,\n",
       "                                                                         OrdinalEncoder(categories=[[&#x27;Not &#x27;\n",
       "                                                                                                     &#x27;rated&#x27;,\n",
       "                                                                                                     &#x27;Poor&#x27;,\n",
       "                                                                                                     &#x27;Average&#x27;,\n",
       "                                                                                                     &#x27;...\n",
       "                                                     max_cat_to_onehot=None,\n",
       "                                                     max_delta_step=None,\n",
       "                                                     max_depth=None,\n",
       "                                                     max_leaves=None,\n",
       "                                                     min_child_weight=None,\n",
       "                                                     missing=nan,\n",
       "                                                     monotone_constraints=None,\n",
       "                                                     multi_strategy=None,\n",
       "                                                     n_estimators=None,\n",
       "                                                     n_jobs=None,\n",
       "                                                     num_parallel_tree=None,\n",
       "                                                     random_state=None, ...)]},\n",
       "                         {&#x27;model_pr&#x27;: [AdaBoostClassifier()]},\n",
       "                         {&#x27;model_pr&#x27;: [LogisticRegression()]},\n",
       "                         {&#x27;model_pr&#x27;: [SVC()]}],\n",
       "             scoring=&#x27;accuracy&#x27;, verbose=2)</pre></div></div></div><div class=\"sk-parallel\"><div class=\"sk-parallel-item\"><div class=\"sk-item\"><div class=\"sk-label-container\"><div class=\"sk-label sk-toggleable\"><input class=\"sk-toggleable__control sk-hidden--visually\" id=\"sk-estimator-id-124\" type=\"checkbox\" ><label for=\"sk-estimator-id-124\" class=\"sk-toggleable__label sk-toggleable__label-arrow\">estimator: Pipeline</label><div class=\"sk-toggleable__content\"><pre>Pipeline(steps=[(&#x27;preprocessor&#x27;,\n",
       "                 ColumnTransformer(remainder=&#x27;passthrough&#x27;,\n",
       "                                   transformers=[(&#x27;scaler&#x27;, StandardScaler(),\n",
       "                                                  [&#x27;Longitude&#x27;, &#x27;Latitude&#x27;,\n",
       "                                                   &#x27;Votes&#x27;]),\n",
       "                                                 (&#x27;OneHot&#x27;,\n",
       "                                                  OneHotEncoder(sparse=False),\n",
       "                                                  [&#x27;Has_Table_booking&#x27;,\n",
       "                                                   &#x27;Has_Online_delivery&#x27;,\n",
       "                                                   &#x27;Is_delivering_now&#x27;]),\n",
       "                                                 (&#x27;Ordinal&#x27;,\n",
       "                                                  OrdinalEncoder(categories=[[&#x27;Not &#x27;\n",
       "                                                                              &#x27;rated&#x27;,\n",
       "                                                                              &#x27;Poor&#x27;,\n",
       "                                                                              &#x27;Average&#x27;,\n",
       "                                                                              &#x27;Good&#x27;,\n",
       "                                                                              &#x27;Very &#x27;\n",
       "                                                                              &#x27;Good&#x27;,\n",
       "                                                                              &#x27;Excellent&#x27;]]),\n",
       "                                                  [&#x27;Rating_text&#x27;])])),\n",
       "                (&#x27;smote&#x27;, SMOTE(random_state=42)),\n",
       "                (&#x27;model_pr&#x27;, RandomForestClassifier())])</pre></div></div></div><div class=\"sk-serial\"><div class=\"sk-item\"><div class=\"sk-serial\"><div class=\"sk-item sk-dashed-wrapped\"><div class=\"sk-label-container\"><div class=\"sk-label sk-toggleable\"><input class=\"sk-toggleable__control sk-hidden--visually\" id=\"sk-estimator-id-125\" type=\"checkbox\" ><label for=\"sk-estimator-id-125\" class=\"sk-toggleable__label sk-toggleable__label-arrow\">preprocessor: ColumnTransformer</label><div class=\"sk-toggleable__content\"><pre>ColumnTransformer(remainder=&#x27;passthrough&#x27;,\n",
       "                  transformers=[(&#x27;scaler&#x27;, StandardScaler(),\n",
       "                                 [&#x27;Longitude&#x27;, &#x27;Latitude&#x27;, &#x27;Votes&#x27;]),\n",
       "                                (&#x27;OneHot&#x27;, OneHotEncoder(sparse=False),\n",
       "                                 [&#x27;Has_Table_booking&#x27;, &#x27;Has_Online_delivery&#x27;,\n",
       "                                  &#x27;Is_delivering_now&#x27;]),\n",
       "                                (&#x27;Ordinal&#x27;,\n",
       "                                 OrdinalEncoder(categories=[[&#x27;Not rated&#x27;,\n",
       "                                                             &#x27;Poor&#x27;, &#x27;Average&#x27;,\n",
       "                                                             &#x27;Good&#x27;,\n",
       "                                                             &#x27;Very Good&#x27;,\n",
       "                                                             &#x27;Excellent&#x27;]]),\n",
       "                                 [&#x27;Rating_text&#x27;])])</pre></div></div></div><div class=\"sk-parallel\"><div class=\"sk-parallel-item\"><div class=\"sk-item\"><div class=\"sk-label-container\"><div class=\"sk-label sk-toggleable\"><input class=\"sk-toggleable__control sk-hidden--visually\" id=\"sk-estimator-id-126\" type=\"checkbox\" ><label for=\"sk-estimator-id-126\" class=\"sk-toggleable__label sk-toggleable__label-arrow\">scaler</label><div class=\"sk-toggleable__content\"><pre>[&#x27;Longitude&#x27;, &#x27;Latitude&#x27;, &#x27;Votes&#x27;]</pre></div></div></div><div class=\"sk-serial\"><div class=\"sk-item\"><div class=\"sk-estimator sk-toggleable\"><input class=\"sk-toggleable__control sk-hidden--visually\" id=\"sk-estimator-id-127\" type=\"checkbox\" ><label for=\"sk-estimator-id-127\" class=\"sk-toggleable__label sk-toggleable__label-arrow\">StandardScaler</label><div class=\"sk-toggleable__content\"><pre>StandardScaler()</pre></div></div></div></div></div></div><div class=\"sk-parallel-item\"><div class=\"sk-item\"><div class=\"sk-label-container\"><div class=\"sk-label sk-toggleable\"><input class=\"sk-toggleable__control sk-hidden--visually\" id=\"sk-estimator-id-128\" type=\"checkbox\" ><label for=\"sk-estimator-id-128\" class=\"sk-toggleable__label sk-toggleable__label-arrow\">OneHot</label><div class=\"sk-toggleable__content\"><pre>[&#x27;Has_Table_booking&#x27;, &#x27;Has_Online_delivery&#x27;, &#x27;Is_delivering_now&#x27;]</pre></div></div></div><div class=\"sk-serial\"><div class=\"sk-item\"><div class=\"sk-estimator sk-toggleable\"><input class=\"sk-toggleable__control sk-hidden--visually\" id=\"sk-estimator-id-129\" type=\"checkbox\" ><label for=\"sk-estimator-id-129\" class=\"sk-toggleable__label sk-toggleable__label-arrow\">OneHotEncoder</label><div class=\"sk-toggleable__content\"><pre>OneHotEncoder(sparse=False)</pre></div></div></div></div></div></div><div class=\"sk-parallel-item\"><div class=\"sk-item\"><div class=\"sk-label-container\"><div class=\"sk-label sk-toggleable\"><input class=\"sk-toggleable__control sk-hidden--visually\" id=\"sk-estimator-id-130\" type=\"checkbox\" ><label for=\"sk-estimator-id-130\" class=\"sk-toggleable__label sk-toggleable__label-arrow\">Ordinal</label><div class=\"sk-toggleable__content\"><pre>[&#x27;Rating_text&#x27;]</pre></div></div></div><div class=\"sk-serial\"><div class=\"sk-item\"><div class=\"sk-estimator sk-toggleable\"><input class=\"sk-toggleable__control sk-hidden--visually\" id=\"sk-estimator-id-131\" type=\"checkbox\" ><label for=\"sk-estimator-id-131\" class=\"sk-toggleable__label sk-toggleable__label-arrow\">OrdinalEncoder</label><div class=\"sk-toggleable__content\"><pre>OrdinalEncoder(categories=[[&#x27;Not rated&#x27;, &#x27;Poor&#x27;, &#x27;Average&#x27;, &#x27;Good&#x27;, &#x27;Very Good&#x27;,\n",
       "                            &#x27;Excellent&#x27;]])</pre></div></div></div></div></div></div><div class=\"sk-parallel-item\"><div class=\"sk-item\"><div class=\"sk-label-container\"><div class=\"sk-label sk-toggleable\"><input class=\"sk-toggleable__control sk-hidden--visually\" id=\"sk-estimator-id-132\" type=\"checkbox\" ><label for=\"sk-estimator-id-132\" class=\"sk-toggleable__label sk-toggleable__label-arrow\">remainder</label><div class=\"sk-toggleable__content\"><pre></pre></div></div></div><div class=\"sk-serial\"><div class=\"sk-item\"><div class=\"sk-estimator sk-toggleable\"><input class=\"sk-toggleable__control sk-hidden--visually\" id=\"sk-estimator-id-133\" type=\"checkbox\" ><label for=\"sk-estimator-id-133\" class=\"sk-toggleable__label sk-toggleable__label-arrow\">passthrough</label><div class=\"sk-toggleable__content\"><pre>passthrough</pre></div></div></div></div></div></div></div></div><div class=\"sk-item\"><div class=\"sk-estimator sk-toggleable\"><input class=\"sk-toggleable__control sk-hidden--visually\" id=\"sk-estimator-id-134\" type=\"checkbox\" ><label for=\"sk-estimator-id-134\" class=\"sk-toggleable__label sk-toggleable__label-arrow\">SMOTE</label><div class=\"sk-toggleable__content\"><pre>SMOTE(random_state=42)</pre></div></div></div><div class=\"sk-item\"><div class=\"sk-estimator sk-toggleable\"><input class=\"sk-toggleable__control sk-hidden--visually\" id=\"sk-estimator-id-135\" type=\"checkbox\" ><label for=\"sk-estimator-id-135\" class=\"sk-toggleable__label sk-toggleable__label-arrow\">RandomForestClassifier</label><div class=\"sk-toggleable__content\"><pre>RandomForestClassifier()</pre></div></div></div></div></div></div></div></div></div></div></div></div>"
      ],
      "text/plain": [
       "GridSearchCV(cv=5,\n",
       "             estimator=Pipeline(steps=[('preprocessor',\n",
       "                                        ColumnTransformer(remainder='passthrough',\n",
       "                                                          transformers=[('scaler',\n",
       "                                                                         StandardScaler(),\n",
       "                                                                         ['Longitude',\n",
       "                                                                          'Latitude',\n",
       "                                                                          'Votes']),\n",
       "                                                                        ('OneHot',\n",
       "                                                                         OneHotEncoder(sparse=False),\n",
       "                                                                         ['Has_Table_booking',\n",
       "                                                                          'Has_Online_delivery',\n",
       "                                                                          'Is_delivering_now']),\n",
       "                                                                        ('Ordinal',\n",
       "                                                                         OrdinalEncoder(categories=[['Not '\n",
       "                                                                                                     'rated',\n",
       "                                                                                                     'Poor',\n",
       "                                                                                                     'Average',\n",
       "                                                                                                     '...\n",
       "                                                     max_cat_to_onehot=None,\n",
       "                                                     max_delta_step=None,\n",
       "                                                     max_depth=None,\n",
       "                                                     max_leaves=None,\n",
       "                                                     min_child_weight=None,\n",
       "                                                     missing=nan,\n",
       "                                                     monotone_constraints=None,\n",
       "                                                     multi_strategy=None,\n",
       "                                                     n_estimators=None,\n",
       "                                                     n_jobs=None,\n",
       "                                                     num_parallel_tree=None,\n",
       "                                                     random_state=None, ...)]},\n",
       "                         {'model_pr': [AdaBoostClassifier()]},\n",
       "                         {'model_pr': [LogisticRegression()]},\n",
       "                         {'model_pr': [SVC()]}],\n",
       "             scoring='accuracy', verbose=2)"
      ]
     },
     "execution_count": 498,
     "metadata": {},
     "output_type": "execute_result"
    }
   ],
   "source": [
    "gsnew.fit(xnew_trainpr,ynew_trainpr)"
   ]
  },
  {
   "cell_type": "code",
   "execution_count": 499,
   "id": "1f0d46bd",
   "metadata": {},
   "outputs": [
    {
     "data": {
      "text/plain": [
       "{'model_pr': GradientBoostingClassifier()}"
      ]
     },
     "execution_count": 499,
     "metadata": {},
     "output_type": "execute_result"
    }
   ],
   "source": [
    "gsnew.best_params_"
   ]
  },
  {
   "cell_type": "code",
   "execution_count": 500,
   "id": "682743a9",
   "metadata": {},
   "outputs": [
    {
     "data": {
      "text/plain": [
       "0.6343937309251013"
      ]
     },
     "execution_count": 500,
     "metadata": {},
     "output_type": "execute_result"
    }
   ],
   "source": [
    "gsnew.best_score_"
   ]
  },
  {
   "cell_type": "code",
   "execution_count": 501,
   "id": "40ca1ed2",
   "metadata": {},
   "outputs": [],
   "source": [
    "prednew_pr=gsnew.predict(xnew_testpr)"
   ]
  },
  {
   "cell_type": "code",
   "execution_count": 502,
   "id": "deb7c4db",
   "metadata": {},
   "outputs": [
    {
     "data": {
      "text/plain": [
       "0.6420664206642066"
      ]
     },
     "execution_count": 502,
     "metadata": {},
     "output_type": "execute_result"
    }
   ],
   "source": [
    "accuracy_score(ynew_testpr,prednew_pr)"
   ]
  },
  {
   "cell_type": "code",
   "execution_count": 503,
   "id": "d73aa571",
   "metadata": {},
   "outputs": [],
   "source": [
    "xnew_trainac,xnew_testac,ynew_trainac,ynew_testac=train_test_split(xnew,y_ac,test_size=0.30,random_state=42)"
   ]
  },
  {
   "cell_type": "code",
   "execution_count": 504,
   "id": "62f45f3c",
   "metadata": {},
   "outputs": [],
   "source": [
    "gsnew_ac=GridSearchCV(pipeac,model_grid_ac,cv=5,scoring='r2',verbose=2)"
   ]
  },
  {
   "cell_type": "code",
   "execution_count": 505,
   "id": "c52e59a4",
   "metadata": {
    "scrolled": true
   },
   "outputs": [
    {
     "name": "stdout",
     "output_type": "stream",
     "text": [
      "Fitting 5 folds for each of 5 candidates, totalling 25 fits\n",
      "[CV] END ...................model_ac=RandomForestRegressor(); total time=   2.0s\n",
      "[CV] END ...................model_ac=RandomForestRegressor(); total time=   1.9s\n",
      "[CV] END ...................model_ac=RandomForestRegressor(); total time=   2.0s\n",
      "[CV] END ...................model_ac=RandomForestRegressor(); total time=   2.2s\n",
      "[CV] END ...................model_ac=RandomForestRegressor(); total time=   2.0s\n",
      "[CV] END ...............model_ac=GradientBoostingRegressor(); total time=   0.6s\n",
      "[CV] END ...............model_ac=GradientBoostingRegressor(); total time=   0.7s\n",
      "[CV] END ...............model_ac=GradientBoostingRegressor(); total time=   0.6s\n",
      "[CV] END ...............model_ac=GradientBoostingRegressor(); total time=   0.6s\n",
      "[CV] END ...............model_ac=GradientBoostingRegressor(); total time=   0.6s\n",
      "[CV] END ........................model_ac=LinearRegression(); total time=   0.0s\n",
      "[CV] END ........................model_ac=LinearRegression(); total time=   0.0s\n",
      "[CV] END ........................model_ac=LinearRegression(); total time=   0.0s\n",
      "[CV] END ........................model_ac=LinearRegression(); total time=   0.0s\n",
      "[CV] END ........................model_ac=LinearRegression(); total time=   0.0s\n",
      "[CV] END ...................................model_ac=Ridge(); total time=   0.0s\n",
      "[CV] END ...................................model_ac=Ridge(); total time=   0.0s\n",
      "[CV] END ...................................model_ac=Ridge(); total time=   0.0s\n",
      "[CV] END ...................................model_ac=Ridge(); total time=   0.0s\n",
      "[CV] END ...................................model_ac=Ridge(); total time=   0.0s\n",
      "[CV] END .....................................model_ac=SVR(); total time=   1.8s\n",
      "[CV] END .....................................model_ac=SVR(); total time=   1.8s\n",
      "[CV] END .....................................model_ac=SVR(); total time=   1.8s\n",
      "[CV] END .....................................model_ac=SVR(); total time=   1.8s\n",
      "[CV] END .....................................model_ac=SVR(); total time=   2.3s\n"
     ]
    },
    {
     "data": {
      "text/html": [
       "<style>#sk-container-id-12 {color: black;background-color: white;}#sk-container-id-12 pre{padding: 0;}#sk-container-id-12 div.sk-toggleable {background-color: white;}#sk-container-id-12 label.sk-toggleable__label {cursor: pointer;display: block;width: 100%;margin-bottom: 0;padding: 0.3em;box-sizing: border-box;text-align: center;}#sk-container-id-12 label.sk-toggleable__label-arrow:before {content: \"▸\";float: left;margin-right: 0.25em;color: #696969;}#sk-container-id-12 label.sk-toggleable__label-arrow:hover:before {color: black;}#sk-container-id-12 div.sk-estimator:hover label.sk-toggleable__label-arrow:before {color: black;}#sk-container-id-12 div.sk-toggleable__content {max-height: 0;max-width: 0;overflow: hidden;text-align: left;background-color: #f0f8ff;}#sk-container-id-12 div.sk-toggleable__content pre {margin: 0.2em;color: black;border-radius: 0.25em;background-color: #f0f8ff;}#sk-container-id-12 input.sk-toggleable__control:checked~div.sk-toggleable__content {max-height: 200px;max-width: 100%;overflow: auto;}#sk-container-id-12 input.sk-toggleable__control:checked~label.sk-toggleable__label-arrow:before {content: \"▾\";}#sk-container-id-12 div.sk-estimator input.sk-toggleable__control:checked~label.sk-toggleable__label {background-color: #d4ebff;}#sk-container-id-12 div.sk-label input.sk-toggleable__control:checked~label.sk-toggleable__label {background-color: #d4ebff;}#sk-container-id-12 input.sk-hidden--visually {border: 0;clip: rect(1px 1px 1px 1px);clip: rect(1px, 1px, 1px, 1px);height: 1px;margin: -1px;overflow: hidden;padding: 0;position: absolute;width: 1px;}#sk-container-id-12 div.sk-estimator {font-family: monospace;background-color: #f0f8ff;border: 1px dotted black;border-radius: 0.25em;box-sizing: border-box;margin-bottom: 0.5em;}#sk-container-id-12 div.sk-estimator:hover {background-color: #d4ebff;}#sk-container-id-12 div.sk-parallel-item::after {content: \"\";width: 100%;border-bottom: 1px solid gray;flex-grow: 1;}#sk-container-id-12 div.sk-label:hover label.sk-toggleable__label {background-color: #d4ebff;}#sk-container-id-12 div.sk-serial::before {content: \"\";position: absolute;border-left: 1px solid gray;box-sizing: border-box;top: 0;bottom: 0;left: 50%;z-index: 0;}#sk-container-id-12 div.sk-serial {display: flex;flex-direction: column;align-items: center;background-color: white;padding-right: 0.2em;padding-left: 0.2em;position: relative;}#sk-container-id-12 div.sk-item {position: relative;z-index: 1;}#sk-container-id-12 div.sk-parallel {display: flex;align-items: stretch;justify-content: center;background-color: white;position: relative;}#sk-container-id-12 div.sk-item::before, #sk-container-id-12 div.sk-parallel-item::before {content: \"\";position: absolute;border-left: 1px solid gray;box-sizing: border-box;top: 0;bottom: 0;left: 50%;z-index: -1;}#sk-container-id-12 div.sk-parallel-item {display: flex;flex-direction: column;z-index: 1;position: relative;background-color: white;}#sk-container-id-12 div.sk-parallel-item:first-child::after {align-self: flex-end;width: 50%;}#sk-container-id-12 div.sk-parallel-item:last-child::after {align-self: flex-start;width: 50%;}#sk-container-id-12 div.sk-parallel-item:only-child::after {width: 0;}#sk-container-id-12 div.sk-dashed-wrapped {border: 1px dashed gray;margin: 0 0.4em 0.5em 0.4em;box-sizing: border-box;padding-bottom: 0.4em;background-color: white;}#sk-container-id-12 div.sk-label label {font-family: monospace;font-weight: bold;display: inline-block;line-height: 1.2em;}#sk-container-id-12 div.sk-label-container {text-align: center;}#sk-container-id-12 div.sk-container {/* jupyter's `normalize.less` sets `[hidden] { display: none; }` but bootstrap.min.css set `[hidden] { display: none !important; }` so we also need the `!important` here to be able to override the default hidden behavior on the sphinx rendered scikit-learn.org. See: https://github.com/scikit-learn/scikit-learn/issues/21755 */display: inline-block !important;position: relative;}#sk-container-id-12 div.sk-text-repr-fallback {display: none;}</style><div id=\"sk-container-id-12\" class=\"sk-top-container\"><div class=\"sk-text-repr-fallback\"><pre>GridSearchCV(cv=5,\n",
       "             estimator=Pipeline(steps=[(&#x27;preprocessor&#x27;,\n",
       "                                        ColumnTransformer(remainder=&#x27;passthrough&#x27;,\n",
       "                                                          transformers=[(&#x27;scaler&#x27;,\n",
       "                                                                         StandardScaler(),\n",
       "                                                                         [&#x27;Longitude&#x27;,\n",
       "                                                                          &#x27;Latitude&#x27;,\n",
       "                                                                          &#x27;Votes&#x27;]),\n",
       "                                                                        (&#x27;OneHot&#x27;,\n",
       "                                                                         OneHotEncoder(sparse=False),\n",
       "                                                                         [&#x27;Has_Table_booking&#x27;,\n",
       "                                                                          &#x27;Has_Online_delivery&#x27;,\n",
       "                                                                          &#x27;Is_delivering_now&#x27;]),\n",
       "                                                                        (&#x27;Ordinal&#x27;,\n",
       "                                                                         OrdinalEncoder(categories=[[&#x27;Not &#x27;\n",
       "                                                                                                     &#x27;rated&#x27;,\n",
       "                                                                                                     &#x27;Poor&#x27;,\n",
       "                                                                                                     &#x27;Average&#x27;,\n",
       "                                                                                                     &#x27;Good&#x27;,\n",
       "                                                                                                     &#x27;Very &#x27;\n",
       "                                                                                                     &#x27;Good&#x27;,\n",
       "                                                                                                     &#x27;Excellent&#x27;]]),\n",
       "                                                                         [&#x27;Rating_text&#x27;])])),\n",
       "                                       (&#x27;model_ac&#x27;, RandomForestRegressor())]),\n",
       "             param_grid=[{&#x27;model_ac&#x27;: [RandomForestRegressor()]},\n",
       "                         {&#x27;model_ac&#x27;: [GradientBoostingRegressor()]},\n",
       "                         {&#x27;model_ac&#x27;: [LinearRegression()]},\n",
       "                         {&#x27;model_ac&#x27;: [Ridge()]}, {&#x27;model_ac&#x27;: [SVR()]}],\n",
       "             scoring=&#x27;r2&#x27;, verbose=2)</pre><b>In a Jupyter environment, please rerun this cell to show the HTML representation or trust the notebook. <br />On GitHub, the HTML representation is unable to render, please try loading this page with nbviewer.org.</b></div><div class=\"sk-container\" hidden><div class=\"sk-item sk-dashed-wrapped\"><div class=\"sk-label-container\"><div class=\"sk-label sk-toggleable\"><input class=\"sk-toggleable__control sk-hidden--visually\" id=\"sk-estimator-id-136\" type=\"checkbox\" ><label for=\"sk-estimator-id-136\" class=\"sk-toggleable__label sk-toggleable__label-arrow\">GridSearchCV</label><div class=\"sk-toggleable__content\"><pre>GridSearchCV(cv=5,\n",
       "             estimator=Pipeline(steps=[(&#x27;preprocessor&#x27;,\n",
       "                                        ColumnTransformer(remainder=&#x27;passthrough&#x27;,\n",
       "                                                          transformers=[(&#x27;scaler&#x27;,\n",
       "                                                                         StandardScaler(),\n",
       "                                                                         [&#x27;Longitude&#x27;,\n",
       "                                                                          &#x27;Latitude&#x27;,\n",
       "                                                                          &#x27;Votes&#x27;]),\n",
       "                                                                        (&#x27;OneHot&#x27;,\n",
       "                                                                         OneHotEncoder(sparse=False),\n",
       "                                                                         [&#x27;Has_Table_booking&#x27;,\n",
       "                                                                          &#x27;Has_Online_delivery&#x27;,\n",
       "                                                                          &#x27;Is_delivering_now&#x27;]),\n",
       "                                                                        (&#x27;Ordinal&#x27;,\n",
       "                                                                         OrdinalEncoder(categories=[[&#x27;Not &#x27;\n",
       "                                                                                                     &#x27;rated&#x27;,\n",
       "                                                                                                     &#x27;Poor&#x27;,\n",
       "                                                                                                     &#x27;Average&#x27;,\n",
       "                                                                                                     &#x27;Good&#x27;,\n",
       "                                                                                                     &#x27;Very &#x27;\n",
       "                                                                                                     &#x27;Good&#x27;,\n",
       "                                                                                                     &#x27;Excellent&#x27;]]),\n",
       "                                                                         [&#x27;Rating_text&#x27;])])),\n",
       "                                       (&#x27;model_ac&#x27;, RandomForestRegressor())]),\n",
       "             param_grid=[{&#x27;model_ac&#x27;: [RandomForestRegressor()]},\n",
       "                         {&#x27;model_ac&#x27;: [GradientBoostingRegressor()]},\n",
       "                         {&#x27;model_ac&#x27;: [LinearRegression()]},\n",
       "                         {&#x27;model_ac&#x27;: [Ridge()]}, {&#x27;model_ac&#x27;: [SVR()]}],\n",
       "             scoring=&#x27;r2&#x27;, verbose=2)</pre></div></div></div><div class=\"sk-parallel\"><div class=\"sk-parallel-item\"><div class=\"sk-item\"><div class=\"sk-label-container\"><div class=\"sk-label sk-toggleable\"><input class=\"sk-toggleable__control sk-hidden--visually\" id=\"sk-estimator-id-137\" type=\"checkbox\" ><label for=\"sk-estimator-id-137\" class=\"sk-toggleable__label sk-toggleable__label-arrow\">estimator: Pipeline</label><div class=\"sk-toggleable__content\"><pre>Pipeline(steps=[(&#x27;preprocessor&#x27;,\n",
       "                 ColumnTransformer(remainder=&#x27;passthrough&#x27;,\n",
       "                                   transformers=[(&#x27;scaler&#x27;, StandardScaler(),\n",
       "                                                  [&#x27;Longitude&#x27;, &#x27;Latitude&#x27;,\n",
       "                                                   &#x27;Votes&#x27;]),\n",
       "                                                 (&#x27;OneHot&#x27;,\n",
       "                                                  OneHotEncoder(sparse=False),\n",
       "                                                  [&#x27;Has_Table_booking&#x27;,\n",
       "                                                   &#x27;Has_Online_delivery&#x27;,\n",
       "                                                   &#x27;Is_delivering_now&#x27;]),\n",
       "                                                 (&#x27;Ordinal&#x27;,\n",
       "                                                  OrdinalEncoder(categories=[[&#x27;Not &#x27;\n",
       "                                                                              &#x27;rated&#x27;,\n",
       "                                                                              &#x27;Poor&#x27;,\n",
       "                                                                              &#x27;Average&#x27;,\n",
       "                                                                              &#x27;Good&#x27;,\n",
       "                                                                              &#x27;Very &#x27;\n",
       "                                                                              &#x27;Good&#x27;,\n",
       "                                                                              &#x27;Excellent&#x27;]]),\n",
       "                                                  [&#x27;Rating_text&#x27;])])),\n",
       "                (&#x27;model_ac&#x27;, RandomForestRegressor())])</pre></div></div></div><div class=\"sk-serial\"><div class=\"sk-item\"><div class=\"sk-serial\"><div class=\"sk-item sk-dashed-wrapped\"><div class=\"sk-label-container\"><div class=\"sk-label sk-toggleable\"><input class=\"sk-toggleable__control sk-hidden--visually\" id=\"sk-estimator-id-138\" type=\"checkbox\" ><label for=\"sk-estimator-id-138\" class=\"sk-toggleable__label sk-toggleable__label-arrow\">preprocessor: ColumnTransformer</label><div class=\"sk-toggleable__content\"><pre>ColumnTransformer(remainder=&#x27;passthrough&#x27;,\n",
       "                  transformers=[(&#x27;scaler&#x27;, StandardScaler(),\n",
       "                                 [&#x27;Longitude&#x27;, &#x27;Latitude&#x27;, &#x27;Votes&#x27;]),\n",
       "                                (&#x27;OneHot&#x27;, OneHotEncoder(sparse=False),\n",
       "                                 [&#x27;Has_Table_booking&#x27;, &#x27;Has_Online_delivery&#x27;,\n",
       "                                  &#x27;Is_delivering_now&#x27;]),\n",
       "                                (&#x27;Ordinal&#x27;,\n",
       "                                 OrdinalEncoder(categories=[[&#x27;Not rated&#x27;,\n",
       "                                                             &#x27;Poor&#x27;, &#x27;Average&#x27;,\n",
       "                                                             &#x27;Good&#x27;,\n",
       "                                                             &#x27;Very Good&#x27;,\n",
       "                                                             &#x27;Excellent&#x27;]]),\n",
       "                                 [&#x27;Rating_text&#x27;])])</pre></div></div></div><div class=\"sk-parallel\"><div class=\"sk-parallel-item\"><div class=\"sk-item\"><div class=\"sk-label-container\"><div class=\"sk-label sk-toggleable\"><input class=\"sk-toggleable__control sk-hidden--visually\" id=\"sk-estimator-id-139\" type=\"checkbox\" ><label for=\"sk-estimator-id-139\" class=\"sk-toggleable__label sk-toggleable__label-arrow\">scaler</label><div class=\"sk-toggleable__content\"><pre>[&#x27;Longitude&#x27;, &#x27;Latitude&#x27;, &#x27;Votes&#x27;]</pre></div></div></div><div class=\"sk-serial\"><div class=\"sk-item\"><div class=\"sk-estimator sk-toggleable\"><input class=\"sk-toggleable__control sk-hidden--visually\" id=\"sk-estimator-id-140\" type=\"checkbox\" ><label for=\"sk-estimator-id-140\" class=\"sk-toggleable__label sk-toggleable__label-arrow\">StandardScaler</label><div class=\"sk-toggleable__content\"><pre>StandardScaler()</pre></div></div></div></div></div></div><div class=\"sk-parallel-item\"><div class=\"sk-item\"><div class=\"sk-label-container\"><div class=\"sk-label sk-toggleable\"><input class=\"sk-toggleable__control sk-hidden--visually\" id=\"sk-estimator-id-141\" type=\"checkbox\" ><label for=\"sk-estimator-id-141\" class=\"sk-toggleable__label sk-toggleable__label-arrow\">OneHot</label><div class=\"sk-toggleable__content\"><pre>[&#x27;Has_Table_booking&#x27;, &#x27;Has_Online_delivery&#x27;, &#x27;Is_delivering_now&#x27;]</pre></div></div></div><div class=\"sk-serial\"><div class=\"sk-item\"><div class=\"sk-estimator sk-toggleable\"><input class=\"sk-toggleable__control sk-hidden--visually\" id=\"sk-estimator-id-142\" type=\"checkbox\" ><label for=\"sk-estimator-id-142\" class=\"sk-toggleable__label sk-toggleable__label-arrow\">OneHotEncoder</label><div class=\"sk-toggleable__content\"><pre>OneHotEncoder(sparse=False)</pre></div></div></div></div></div></div><div class=\"sk-parallel-item\"><div class=\"sk-item\"><div class=\"sk-label-container\"><div class=\"sk-label sk-toggleable\"><input class=\"sk-toggleable__control sk-hidden--visually\" id=\"sk-estimator-id-143\" type=\"checkbox\" ><label for=\"sk-estimator-id-143\" class=\"sk-toggleable__label sk-toggleable__label-arrow\">Ordinal</label><div class=\"sk-toggleable__content\"><pre>[&#x27;Rating_text&#x27;]</pre></div></div></div><div class=\"sk-serial\"><div class=\"sk-item\"><div class=\"sk-estimator sk-toggleable\"><input class=\"sk-toggleable__control sk-hidden--visually\" id=\"sk-estimator-id-144\" type=\"checkbox\" ><label for=\"sk-estimator-id-144\" class=\"sk-toggleable__label sk-toggleable__label-arrow\">OrdinalEncoder</label><div class=\"sk-toggleable__content\"><pre>OrdinalEncoder(categories=[[&#x27;Not rated&#x27;, &#x27;Poor&#x27;, &#x27;Average&#x27;, &#x27;Good&#x27;, &#x27;Very Good&#x27;,\n",
       "                            &#x27;Excellent&#x27;]])</pre></div></div></div></div></div></div><div class=\"sk-parallel-item\"><div class=\"sk-item\"><div class=\"sk-label-container\"><div class=\"sk-label sk-toggleable\"><input class=\"sk-toggleable__control sk-hidden--visually\" id=\"sk-estimator-id-145\" type=\"checkbox\" ><label for=\"sk-estimator-id-145\" class=\"sk-toggleable__label sk-toggleable__label-arrow\">remainder</label><div class=\"sk-toggleable__content\"><pre></pre></div></div></div><div class=\"sk-serial\"><div class=\"sk-item\"><div class=\"sk-estimator sk-toggleable\"><input class=\"sk-toggleable__control sk-hidden--visually\" id=\"sk-estimator-id-146\" type=\"checkbox\" ><label for=\"sk-estimator-id-146\" class=\"sk-toggleable__label sk-toggleable__label-arrow\">passthrough</label><div class=\"sk-toggleable__content\"><pre>passthrough</pre></div></div></div></div></div></div></div></div><div class=\"sk-item\"><div class=\"sk-estimator sk-toggleable\"><input class=\"sk-toggleable__control sk-hidden--visually\" id=\"sk-estimator-id-147\" type=\"checkbox\" ><label for=\"sk-estimator-id-147\" class=\"sk-toggleable__label sk-toggleable__label-arrow\">RandomForestRegressor</label><div class=\"sk-toggleable__content\"><pre>RandomForestRegressor()</pre></div></div></div></div></div></div></div></div></div></div></div></div>"
      ],
      "text/plain": [
       "GridSearchCV(cv=5,\n",
       "             estimator=Pipeline(steps=[('preprocessor',\n",
       "                                        ColumnTransformer(remainder='passthrough',\n",
       "                                                          transformers=[('scaler',\n",
       "                                                                         StandardScaler(),\n",
       "                                                                         ['Longitude',\n",
       "                                                                          'Latitude',\n",
       "                                                                          'Votes']),\n",
       "                                                                        ('OneHot',\n",
       "                                                                         OneHotEncoder(sparse=False),\n",
       "                                                                         ['Has_Table_booking',\n",
       "                                                                          'Has_Online_delivery',\n",
       "                                                                          'Is_delivering_now']),\n",
       "                                                                        ('Ordinal',\n",
       "                                                                         OrdinalEncoder(categories=[['Not '\n",
       "                                                                                                     'rated',\n",
       "                                                                                                     'Poor',\n",
       "                                                                                                     'Average',\n",
       "                                                                                                     'Good',\n",
       "                                                                                                     'Very '\n",
       "                                                                                                     'Good',\n",
       "                                                                                                     'Excellent']]),\n",
       "                                                                         ['Rating_text'])])),\n",
       "                                       ('model_ac', RandomForestRegressor())]),\n",
       "             param_grid=[{'model_ac': [RandomForestRegressor()]},\n",
       "                         {'model_ac': [GradientBoostingRegressor()]},\n",
       "                         {'model_ac': [LinearRegression()]},\n",
       "                         {'model_ac': [Ridge()]}, {'model_ac': [SVR()]}],\n",
       "             scoring='r2', verbose=2)"
      ]
     },
     "execution_count": 505,
     "metadata": {},
     "output_type": "execute_result"
    }
   ],
   "source": [
    "gsnew_ac.fit(xnew_trainac,ynew_trainac)"
   ]
  },
  {
   "cell_type": "code",
   "execution_count": 506,
   "id": "5bf783b1",
   "metadata": {},
   "outputs": [
    {
     "data": {
      "text/plain": [
       "{'model_ac': Ridge()}"
      ]
     },
     "execution_count": 506,
     "metadata": {},
     "output_type": "execute_result"
    }
   ],
   "source": [
    "gsnew_ac.best_params_"
   ]
  },
  {
   "cell_type": "code",
   "execution_count": 507,
   "id": "9c66ae98",
   "metadata": {},
   "outputs": [
    {
     "data": {
      "text/plain": [
       "0.5572395304940538"
      ]
     },
     "execution_count": 507,
     "metadata": {},
     "output_type": "execute_result"
    }
   ],
   "source": [
    "gsnew_ac.best_score_"
   ]
  },
  {
   "cell_type": "code",
   "execution_count": 508,
   "id": "5c653f17",
   "metadata": {},
   "outputs": [],
   "source": [
    "newpred_ac=gsnew_ac.predict(xnew_testac)"
   ]
  },
  {
   "cell_type": "code",
   "execution_count": 509,
   "id": "86317e89",
   "metadata": {},
   "outputs": [
    {
     "data": {
      "text/plain": [
       "0.6127987369222134"
      ]
     },
     "execution_count": 509,
     "metadata": {},
     "output_type": "execute_result"
    }
   ],
   "source": [
    "r2_score(ynew_testac,newpred_ac)"
   ]
  },
  {
   "cell_type": "markdown",
   "id": "67fd0a78",
   "metadata": {},
   "source": [
    "#### Hence we can observe that gscvpr is yeilding the best results for Price Range Prediction with 71.36%, Whereas gscvac is giving best score of 66% for predicting Average_Cost_for_two, Hence we will be selecting these as final models.\n"
   ]
  },
  {
   "cell_type": "code",
   "execution_count": 510,
   "id": "0bd5f92d",
   "metadata": {},
   "outputs": [],
   "source": [
    "final_model_pr=gscvpr.best_estimator_"
   ]
  },
  {
   "cell_type": "code",
   "execution_count": 511,
   "id": "3088c4ee",
   "metadata": {},
   "outputs": [],
   "source": [
    "final_model_ac=gscvac.best_estimator_"
   ]
  },
  {
   "cell_type": "code",
   "execution_count": null,
   "id": "932ff6e9",
   "metadata": {},
   "outputs": [],
   "source": []
  }
 ],
 "metadata": {
  "kernelspec": {
   "display_name": "Python 3 (ipykernel)",
   "language": "python",
   "name": "python3"
  },
  "language_info": {
   "codemirror_mode": {
    "name": "ipython",
    "version": 3
   },
   "file_extension": ".py",
   "mimetype": "text/x-python",
   "name": "python",
   "nbconvert_exporter": "python",
   "pygments_lexer": "ipython3",
   "version": "3.11.3"
  }
 },
 "nbformat": 4,
 "nbformat_minor": 5
}
